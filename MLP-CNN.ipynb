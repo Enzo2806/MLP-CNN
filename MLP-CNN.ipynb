{
  "cells": [
    {
      "cell_type": "markdown",
      "source": [
        "# Dependencies"
      ],
      "metadata": {
        "id": "o4q5wU6LlF2U"
      }
    },
    {
      "cell_type": "code",
      "execution_count": null,
      "metadata": {
        "id": "eEM8YxPFcqvm"
      },
      "outputs": [],
      "source": [
        "# Suppress std_out\n",
        "%%capture\n",
        "\n",
        "# Install packages\n",
        "!pip install matplotlib numpy pandas # Plotting\n",
        "!pip install scipy sklearn # Result analysis and data splitting"
      ]
    },
    {
      "cell_type": "code",
      "execution_count": null,
      "metadata": {
        "id": "T1efxB3ncqvn"
      },
      "outputs": [],
      "source": [
        "import pandas as pd # Pre-processing\n",
        "import numpy as np # Data manipulation\n",
        "import matplotlib.pyplot as plt # Visualization\n",
        "import tensorflow as tf\n",
        "from tqdm import tqdm # For loading bar visualization\n",
        "from sklearn.model_selection import train_test_split # For data split\n",
        "a # For ConvNet\n",
        "from keras.layers import Conv2D, MaxPooling2D, Dense, Flatten, Dropout # For ConvNet\n",
        "from keras.utils import to_categorical # For ConvNet\n",
        "from sklearn.model_selection import GridSearchCV, KFold # To optimize the CNN\n",
        "from keras.wrappers.scikit_learn import KerasClassifier # To optimize the CNN \n",
        "from sklearn.metrics import accuracy_score # For classification report\n",
        "from sklearn.metrics import precision_score # For classification report\n",
        "from sklearn.metrics import recall_score # For classification report\n",
        "from sklearn.metrics import f1_score # For classification report\n",
        "from tabulate import tabulate # For classification report\n",
        "import pandas as pd # For classification report"
      ]
    },
    {
      "cell_type": "markdown",
      "metadata": {
        "id": "hmiuQSvdsh-D"
      },
      "source": [
        "We will also set a seed for all np.random processes to ensure reproducibility.\n",
        "\n"
      ]
    },
    {
      "cell_type": "code",
      "execution_count": null,
      "metadata": {
        "id": "O2mjFXMKsqAa"
      },
      "outputs": [],
      "source": [
        "np.random.seed(1)"
      ]
    },
    {
      "cell_type": "markdown",
      "metadata": {
        "id": "ihbiIfyKcqvk"
      },
      "source": [
        "# Task 1 : Data Preprocessing"
      ]
    },
    {
      "cell_type": "markdown",
      "metadata": {
        "id": "sHPo9YSncqvn"
      },
      "source": [
        "Our first task is to acquire the MNIST image dataset [1]. We will use the tensorflow machine learning library to load this dataset and we will use the default training and testing partitions. Since we will be using the unormalized data later for later experiments, we will call the data before normaliation `raw`."
      ]
    },
    {
      "cell_type": "code",
      "execution_count": null,
      "metadata": {
        "colab": {
          "base_uri": "https://localhost:8080/"
        },
        "id": "c6iG_zEJcqvn",
        "outputId": "f0c8216f-e8fb-45fb-8716-5cbc0e2f91e2"
      },
      "outputs": [
        {
          "output_type": "stream",
          "name": "stdout",
          "text": [
            "Downloading data from https://storage.googleapis.com/tensorflow/tf-keras-datasets/train-labels-idx1-ubyte.gz\n",
            "29515/29515 [==============================] - 0s 0us/step\n",
            "Downloading data from https://storage.googleapis.com/tensorflow/tf-keras-datasets/train-images-idx3-ubyte.gz\n",
            "26421880/26421880 [==============================] - 0s 0us/step\n",
            "Downloading data from https://storage.googleapis.com/tensorflow/tf-keras-datasets/t10k-labels-idx1-ubyte.gz\n",
            "5148/5148 [==============================] - 0s 0us/step\n",
            "Downloading data from https://storage.googleapis.com/tensorflow/tf-keras-datasets/t10k-images-idx3-ubyte.gz\n",
            "4422102/4422102 [==============================] - 0s 0us/step\n",
            "Training data: (60000, 28, 28) (60000,)\n",
            "Test data: (10000, 28, 28) (10000,)\n"
          ]
        }
      ],
      "source": [
        "# Import the data \n",
        "(X_train_raw, y_train), (X_test_raw, y_test) = tf.keras.datasets.fashion_mnist.load_data()\n",
        "\n",
        "# Keep a list holding the name of the labels, label x has its name saved at index x in that array.\n",
        "labels = ['T-shirt/top', 'Trouser', 'Pullover', 'Dress', 'Coat', 'Sandal', 'Shirt', 'Sneaker', 'Bag', 'Ankle boot']\n",
        "\n",
        "\n",
        "# Look at the data's shape, should be:\n",
        "# Training: 60,000 training examples of 28 X 28 images and their labels should have shape (60,0000, )\n",
        "# Testing:  10,000 testing examples of 28x28 images and their labels should have shape (10,000, )\n",
        "print ('Training data:', X_train_raw.shape, y_train.shape)\n",
        "print ('Test data:', X_test_raw.shape, y_test.shape)"
      ]
    },
    {
      "cell_type": "markdown",
      "metadata": {
        "id": "iXqUtGRCcqvo"
      },
      "source": [
        "Each training example has a dimension of 28 X 28 or 28 X 28 pixels and has a gray scale value ranging from 0 to 255."
      ]
    },
    {
      "cell_type": "markdown",
      "metadata": {
        "id": "UvaFcj6YNVgx"
      },
      "source": [
        "We will now vectorize the input data by flattening the images. The shape of the training set should go from (60000, 28, 28) to (60000, 784) and the test set from (10000, 28, 28) to (10000, 784)."
      ]
    },
    {
      "cell_type": "code",
      "execution_count": null,
      "metadata": {
        "id": "Ot4J2YEJL4ok"
      },
      "outputs": [],
      "source": [
        "# Vectorize the data by flattening the inputs\n",
        "X_train_raw = X_train_raw.reshape(60_000, 784)\n",
        "X_test_raw = X_test_raw.reshape(10_000, 784)"
      ]
    },
    {
      "cell_type": "markdown",
      "metadata": {
        "id": "NsDmarercqvp"
      },
      "source": [
        "Now that we flattened the data, we will proceed by centralizing it along the zero axis i.e. substract the mean of the whole dataset from each datapoint. Furthermore, we will normalize the data such that the grayscale ranges from approximately -1 to 1 as opposed to 0 to 255. This step is not strictly necessary because the scales of the images are already the same, but we will do it anyways and explore the impacts of skipping this step further in the notebook (See section 3.4)."
      ]
    },
    {
      "cell_type": "code",
      "execution_count": null,
      "metadata": {
        "colab": {
          "base_uri": "https://localhost:8080/"
        },
        "id": "eRyvAF1S-FVi",
        "outputId": "58ef347c-53c8-4ea1-dfe8-63ac7d1657e9"
      },
      "outputs": [
        {
          "output_type": "stream",
          "name": "stdout",
          "text": [
            "[[-0.00883265 -0.02162585 -0.0287172  ... -0.15825699 -0.09035386\n",
            "  -0.03423352]\n",
            " [-0.00883265 -0.02162585 -0.0287172  ... -0.15825699 -0.09035386\n",
            "  -0.03423352]\n",
            " [-0.00883265 -0.02162585 -0.0287172  ... -0.15825699 -0.09035386\n",
            "  -0.03423352]\n",
            " ...\n",
            " [-0.00883265 -0.02162585 -0.0287172  ... -0.15825699 -0.09035386\n",
            "  -0.03423352]\n",
            " [-0.00883265 -0.02162585 -0.0287172  ... -0.15825699 -0.09035386\n",
            "  -0.03423352]\n",
            " [-0.00883265 -0.02162585 -0.0287172  ... -0.15825699 -0.09035386\n",
            "  -0.03423352]]\n"
          ]
        }
      ],
      "source": [
        "# Data centralization\n",
        "X_train = X_train_raw - np.mean(np.concatenate((X_train_raw, X_test_raw)), axis=0)\n",
        "X_test = X_test_raw - np.mean(np.concatenate((X_train_raw, X_test_raw)), axis=0)\n",
        "\n",
        "# Normalize the data\n",
        "X_train = X_train/np.std(np.concatenate((X_train_raw, X_test_raw)), axis=0)\n",
        "X_test = X_test/np.std(np.concatenate((X_train_raw, X_test_raw)), axis=0)\n",
        "\n",
        "# Print dataset as a check\n",
        "print(X_train)"
      ]
    },
    {
      "cell_type": "markdown",
      "metadata": {
        "id": "uiNENNukVllJ"
      },
      "source": [
        "The data is now flattened and normalized. We are ready to provide it as input to the MLP model. "
      ]
    },
    {
      "cell_type": "markdown",
      "metadata": {
        "id": "nXILdfGB_H8u"
      },
      "source": [
        "We will now implement a function to visualize the training examples along with their corresponding labels."
      ]
    },
    {
      "cell_type": "code",
      "execution_count": null,
      "metadata": {
        "colab": {
          "base_uri": "https://localhost:8080/",
          "height": 303
        },
        "id": "7HuQEJ37cqvq",
        "outputId": "c80dc56a-6b9e-486a-9e24-8b3066a467d2"
      },
      "outputs": [
        {
          "output_type": "display_data",
          "data": {
            "text/plain": [
              "<Figure size 1440x360 with 8 Axes>"
            ],
            "image/png": "[encoded data removed]"
          },
          "metadata": {
            "needs_background": "light"
          }
        }
      ],
      "source": [
        "# Function used to display training examples (images) from a list of indices\n",
        "\n",
        "def show_image(index_list):\n",
        "  plt.figure(figsize=(20, 5))\n",
        "  for i in range(1, len(index_list)+1):\n",
        "    img_idx = index_list[i-1]\n",
        "    img_label = labels[y_train[img_idx]]\n",
        "    plt.subplot(1, len(index_list), i)\n",
        "    plt.title(f'Label: \"{img_label}\"') \n",
        "    plt.imshow(X_train.reshape(60_000, 28, 28)[img_idx], cmap='gray')  # data is grayscale, but displays in color without cmap='gray'\n",
        "    plt.colorbar() # Show colorbar on the side (value of each pixel)\n",
        "  plt.show()\n",
        "\n",
        "show_image([38243, 2348, 56084, 100]) # Test to visualize the first training example"
      ]
    },
    {
      "cell_type": "markdown",
      "metadata": {
        "id": "tm_2WEBp-Yb2"
      },
      "source": [
        "We note that images are indeed 28x28 pixels and that the corresponding labels make sense. Moreover, we can see that we reduced the grayscale form 0 to 255 to approximately -5 and 5."
      ]
    },
    {
      "cell_type": "markdown",
      "metadata": {
        "id": "8sNKBo9nox6M"
      },
      "source": [
        "Finally, we will separate our data into training, testing and validating. "
      ]
    },
    {
      "cell_type": "code",
      "execution_count": null,
      "metadata": {
        "colab": {
          "base_uri": "https://localhost:8080/"
        },
        "id": "Pcy34XjJoxZ-",
        "outputId": "d4b7215d-48f5-4e18-e727-10be96046010"
      },
      "outputs": [
        {
          "output_type": "stream",
          "name": "stdout",
          "text": [
            "Training data has:  42000  images and  784  dimensions.\n",
            "Training label has:  42000  images.\n",
            "Validation data has:  18000  images and  784  dimensions.\n",
            "Validation label has:  18000  images\n",
            "Testing data has:  10000  images and  784  dimensions.\n",
            "Testing data has:  10000  images\n"
          ]
        }
      ],
      "source": [
        "# Split the raw data\n",
        "X_train_raw, X_validate_raw, _, _ = train_test_split(X_train_raw, y_train, test_size = 0.3, random_state=5, shuffle = True)\n",
        "\n",
        "# Split the normalized data\n",
        "X_train, X_validate, y_train, y_validate = train_test_split(X_train, y_train, test_size = 0.3, random_state=5, shuffle = True)\n",
        "\n",
        "# Print shapes\n",
        "print(\"Training data has: \", X_train.shape[0], \" images and \", X_train.shape[1], \" dimensions.\")\n",
        "print(\"Training label has: \", y_train.shape[0], \" images.\")\n",
        "\n",
        "print(\"Validation data has: \", X_validate.shape[0], \" images and \", X_validate.shape[1], \" dimensions.\")\n",
        "print(\"Validation label has: \", y_validate.shape[0], \" images\")\n",
        "\n",
        "print(\"Testing data has: \", X_test.shape[0], \" images and \", X_test.shape[1], \" dimensions.\")\n",
        "print(\"Testing data has: \", y_test.shape[0], \" images\")"
      ]
    },
    {
      "cell_type": "markdown",
      "metadata": {
        "id": "3RE-HSsJqK1n"
      },
      "source": [
        "The labels for our data are `X_train`, `X_validate`, `X_test`, `y_train`, `y_validate` and `y_test`.\n",
        "Similarly, we have separated our data before normalization, giving it the `raw` suffix. As a final step, we will implement a function to vizualize the class distribution of both the testing and training datasets."
      ]
    },
    {
      "cell_type": "code",
      "source": [
        "fig, ax = plt.subplots(figsize=(16, 10))\n",
        "\n",
        "ax.hist(y_train, \n",
        "facecolor = '#2ab0ff', linewidth=0.5, edgecolor='white', rwidth=0.7)\n",
        "\n",
        "for rect in ax.patches:\n",
        "    height = rect.get_height()\n",
        "    ax.annotate(f'{int(height)}', xy=(rect.get_x()+rect.get_width()/2, height), \n",
        "                xytext=(0, 5), textcoords='offset points', ha='center') \n",
        "    \n",
        "plt.title('Class distribution for the ten different categories.')\n",
        "plt.xticks([0.4, 1.4, 2.2, 3.1, 4.05, 5, 5.9, 6.7, 7.7, 8.6],labels)\n",
        "plt.rc('font', size=17)\n",
        "\n",
        "plt.show()\n"
      ],
      "metadata": {
        "colab": {
          "base_uri": "https://localhost:8080/",
          "height": 625
        },
        "id": "a_j8JH4olRzz",
        "outputId": "9fcade5c-ba15-4efe-cb51-ad43c12ad3bf"
      },
      "execution_count": null,
      "outputs": [
        {
          "output_type": "display_data",
          "data": {
            "text/plain": [
              "<Figure size 1152x720 with 1 Axes>"
            ],
            "image/png": "[encoded data removed]"
          },
          "metadata": {
            "needs_background": "light"
          }
        }
      ]
    },
    {
      "cell_type": "markdown",
      "source": [
        "We notice how well distributed the training examples are between the ten categories. We now perform the same plot for the testing dataset."
      ],
      "metadata": {
        "id": "vqTHYqvrueUA"
      }
    },
    {
      "cell_type": "code",
      "source": [
        "fig, ax = plt.subplots(figsize=(16, 10))\n",
        "\n",
        "ax.hist(y_test,\n",
        "facecolor = '#2ab0ff', linewidth=0.5, edgecolor='white', rwidth=0.7)\n",
        "\n",
        "\n",
        "for rect in ax.patches:\n",
        "    height = rect.get_height()\n",
        "    ax.annotate(f'{int(height)}', xy=(rect.get_x()+rect.get_width()/2, height), \n",
        "                xytext=(0, 5), textcoords='offset points', ha='center') \n",
        "    \n",
        "plt.title('Class distribution for the ten different categories.')\n",
        "plt.xticks([0.4, 1.4, 2.2, 3.1, 4.05, 5, 5.9, 6.7, 7.7, 8.6],labels)\n",
        "plt.rc('font', size=17)\n",
        "\n",
        "plt.show()"
      ],
      "metadata": {
        "colab": {
          "base_uri": "https://localhost:8080/",
          "height": 621
        },
        "id": "Q1CTGoKWultb",
        "outputId": "a70e66d3-a9f8-4a92-9d03-88b0303ff73a"
      },
      "execution_count": null,
      "outputs": [
        {
          "output_type": "display_data",
          "data": {
            "text/plain": [
              "<Figure size 1152x720 with 1 Axes>"
            ],
            "image/png": "[encoded data removed]"
          },
          "metadata": {
            "needs_background": "light"
          }
        }
      ]
    },
    {
      "cell_type": "markdown",
      "source": [
        "We notice how well distributed the data is for the testing set. This is due to the `train_test_split` method which ensures a good distribution of class labels."
      ],
      "metadata": {
        "id": "mILbQjP-utnM"
      }
    },
    {
      "cell_type": "markdown",
      "metadata": {
        "id": "XVYopuh03HPv"
      },
      "source": [
        "# Task 2: Implementing MLP from scratch"
      ]
    },
    {
      "cell_type": "markdown",
      "source": [
        "## 2.1 Mathematical pre-requisites"
      ],
      "metadata": {
        "id": "RHueveMKmd7h"
      }
    },
    {
      "cell_type": "markdown",
      "metadata": {
        "id": "Jniw-VE0DGIl"
      },
      "source": [
        "To implement the Multi-Layer Perceptron model, we start by initializing the weights using weight scaled varience $w ∈ 𝓝(0, \\frac{2}{k_{in} + k_{out}})$ where $k_{in}$ represents the number of input hidden units in a neural network, and $k_{out}$ represents the output hidden units. We do so to address gradient explosion since we will have 128 hidden units in our neural network. Therefore, initializing the weights randomly within the same range as the number of our hidden units leads to the gradients becoming very large very fast. Thus, we initialize the weights to a much smaller number.\n",
        "\n",
        "Then, we perform forward passes to compute the outputs and the Mean Cross-Entropy loss with L2-regularization. Afterwards, we proceed by performing backward passes to update the weight matrices for each linear layer. We do so by backpropagating the derivative of the loss function w.r.t. all input examples simultaneously. We will consider each activation and linear layers to be separate layers e.g. activation layer $l-1$ preceds linear layer $l$.  "
      ]
    },
    {
      "cell_type": "markdown",
      "metadata": {
        "id": "wJKo3oQQ7NgP"
      },
      "source": [
        "**Forward Pass**\n",
        "\n",
        "1. Given the input examples $X$, we use the initialized weight matrix $W^{\\{1\\}}$ to transpose the examples to the first pre-activated hidden (or activation) layer $A^{\\{2\\}}$ i.e. \n",
        "$$\n",
        "A^{\\{1\\}} = W^{\\{1\\}}X + \\overrightarrow{b}^{\\{1\\}}\n",
        "$$ \n",
        "Where $X$ is a $N×D$ matrix of inputs, $W^{\\{1\\}}$ is a $N×K^{\\{2\\}}$ weight matrix that transposes $N$ inputs in the mini-batch to $K^{\\{2\\}}$ hidden pre-activated units. Finally, $\\overrightarrow{b}^{\\{1\\}}$ is the bias vector of size $1×K^{\\{2\\}}$.\n",
        "Inside the neural network, this step will be repeated by the linear layer given activated hidden units of the previous layer. Therefore, a general formula for this is:\n",
        "$$\n",
        "A^{\\{l\\}} = W^{\\{l\\}}Z^{\\{l-1\\}} + \\overrightarrow{b}^{\\{l\\}}\n",
        "$$\n",
        "\n",
        "2. At the activation layer, we will use a provided activation function $σ$, like $ReLU$, to activate the inputs. For example, given the preactivated hidden units at the second layer, we output the activated units of the third layer as follows:\n",
        "$$\n",
        "Z^{\\{2\\}} = σ(A^{\\{1\\}})\n",
        "$$\n",
        "More generally, at any activation layer, given $σ$ and preactivated units $A^{\\{l\\}}$, a forward pass returns a one-to-one mapping by applying $σ$ i.e.\n",
        "$$\n",
        "Z^{\\{l+1\\}} = σ(A^{\\{l\\}})\n",
        "$$\n",
        "Where $Z^{\\{l+1\\}}$ is a $K^{\\{l+1\\}} \\times K^{\\{l+1\\}} $ matrix representing the activated units and $A^{\\{l\\}}$ is the matrix of the preactivated units for all neurons. Since we have a one-to-one mapping, both matrices have the same size. \n",
        "\n",
        "3. To compute the predictions, we have a multi-class classification head that calculates the predictions given the preactivated units at the output layer using the $Softmax$ function i.e.\n",
        "$$\\hat{Y} = Softmax(A^{\\{o\\}})$$\n",
        "Where $A^{\\{o\\}} = W^{\\{o\\}}Z^{\\{L\\}} + \\overrightarrow{b}^{\\{o\\}}$. The nested computation of the outputs for all neurons in a forward pass can be viewed in matrix form as follows:\n",
        "$$\n",
        "\\hat{Y} = Softmax(W^{\\{o\\}}(σ(W^{\\{L\\}} \n",
        "(... \n",
        "  σ(W^{\\{1\\}}X + \\overrightarrow{b}^{\\{1\\}})\n",
        "...)+ \\overrightarrow{b}^{\\{L\\}}))+\\overrightarrow{b}^{\\{o\\}})\n",
        "$$\n",
        "\n",
        "4. Finally, we compute the mean Cross-Entropy loss with L2-regularization paramter $λ$:\n",
        "$$\n",
        "L_{CE}(W^{\\{o\\}}) = - \\frac{1}{B} \\displaystyle \\sum_{b}^{B} (\\sum_{c}^{C} y_{c} log(\\hat{y}_{c})) + \\frac{λ}{2} \\sum_{L} (w_{k,c}^{\\{l\\}})^2\n",
        "$$\n",
        "Where $B$ is the batch size, $C$ are the classes, $k$ comes from the $k^{th}$ input in the hidden layer, $c$ comes from the $c^{th}$ class and the regularization comes from the squared sum of all the weight matrices from all linear layers."
      ]
    },
    {
      "cell_type": "markdown",
      "metadata": {
        "id": "pY2fc0eGGHSq"
      },
      "source": [
        "**Backward Pass**\n",
        "\n",
        "1. We start the backward pass at the Softmax Layer with the chain derivative of the Cross-Entropy loss function w.r.t. the outputs and the derivative of the outputs w.r.t. the pre-activated units of the outputs i.e. \n",
        "$$\n",
        "\\frac{\\partial L_{CE}}{\\partial \\hat{y}_{c}} \\frac{\\partial \\hat{y}_{c}}{\\partial a_{k}^{\\{o\\}}} \\\\\n",
        "= \\frac{\\partial }{\\partial \\hat{y}_{c}}(-\\displaystyle \\frac{1}{B} \\sum_{b}^{B} (\\sum_{c}^{C} (y_{c}log(\\hat{y}_{c}))+\\frac{λ}{2} \\sum_{l}^{L} (w_{k,c}^{\\{l\\}})^2)\n",
        "\\frac{\\partial }{\\partial a_{k}^{\\{o\\}}}\\frac{exp(a_{c}^{\\{o\\}})}{\\displaystyle \\sum_{c}^{C} exp(a_{c}^{\\{o\\}})} \\\\\n",
        "= - \\frac{1}{B} \\sum_{b}^{B} (\\sum_{c}^{C} \\frac{y_c}{\\hat{y}_c} \\hat{y}_c(1 - \\hat{y}_{c})) \\\\\n",
        "= - \\frac{1}{B} \\sum_{b}^{B} (\\hat{y}_{k} - y_{k})\n",
        "$$\n",
        "Where $k$ denotes the $k^{th}$ output class and, in our case, ranges between $[0, 9]$. For all neurons, we can represent the outputs in matrix form $\\frac{\\partial L_{CE}}{\\partial A^{\\{o\\}}} = \\hat{Y} - Y$ of size $B \\times C$, where $\\partial A^{\\{o\\}}$ is a matrix of size $B \\times K^{\\{o\\}}$ that represents the pre-activated hidden units at the output layer for all the neurons (or the Neural Networks for all input examples)\n",
        "  \n",
        "  Note that this derivation is the same as for the multi-class linear regression model. \n",
        "\n",
        "2. Next, we pass the $\\frac{\\partial L_{CE}}{\\partial A^{\\{o\\}}}$ derivative to the Linear Layer. Given the derivative and the linear function, we can compute three useful derivatives: \n",
        "  * Whe gradient w.r.t. the weights $W^{\\{L\\}}$ that will be stored to update the weights i.e.\n",
        "  $$\n",
        "  \\frac{\\partial L_{CE}}{\\partial W^{\\{o\\}}} = \\frac{\\partial L_{CE}}{\\partial A^{\\{o\\}}} \\frac{\\partial A^{\\{o\\}}}{\\partial W^{\\{o\\}}} \\\\\n",
        "  = \\frac{\\partial L_{CE}}{\\partial A^{\\{o\\}}} \\frac{\\partial }{\\partial w_{k_{in},k_{out}}^{\\{o\\}}} \\frac{1}{B} \\sum_{b}^{B} (\\sum_{k_{in},k_{out}}w_{k_{in},k_{out}}^{\\{o\\}}z_{k_{out}}^{\\{L\\}}) + \\frac{λ}{2} \\sum_{L} (w_{k_{in},k_{out}}^{\\{l\\}})^2 +b^{\\{o\\}} \\\\\n",
        "  = \\frac{\\partial L_{CE}}{\\partial A^{\\{o\\}}} \\frac{1}{B} \\sum_{B}^{b} (\\sum_{k_{in},k_{out}}z_{k_{out}}^{\\{L\\}}) + λ \\sum_{k_{in},k_{out}} w_{k_{in},k_{out}}^{\\{o\\}}\\\\\n",
        "  = \\frac{\\partial L_{CE}}{\\partial A^{\\{o\\}}} · \\frac{1}{B} \\sum_{b}^{B} (Z^{\\{L\\}}) + λW^{\\{o\\}}\n",
        "  $$\n",
        "  Note that for each weight matrix we add the derivative of the L2-regularization. Also note that $k_{in}$ represents the number of hidden units at layer $L$ and $k_{out}$ represent the number of output units at layer $o$.\n",
        "  In general, the backpropagation can be represented as follows:\n",
        "  $$ \n",
        "  \\frac{\\partial L_{CE}}{\\partial W^{\\{l\\}}} = \\frac{\\partial L_{CE}}{\\partial A^{\\{l\\}}} · \\frac{1}{B} \\sum_{b}^{B} (Z^{\\{l-1\\}}) + λW^{\\{l\\}}\n",
        "  $$\n",
        "\n",
        "  * The gradient w.r.t. the bias term $\\overrightarrow{b^{\\{o\\}}}$ that will be stored to update the bias i.e.\n",
        "  $$\n",
        "  \\frac{\\partial L_{CE}}{\\partial \\overrightarrow{b^{\\{o\\}}}} = \\frac{\\partial L_{CE}}{\\partial A^{\\{o\\}}} \\frac{\\partial A^{\\{o\\}}}{\\partial \\overrightarrow{b^{\\{L\\}}}} \\\\\n",
        "  = \\frac{\\partial L_{CE}}{\\partial A^{\\{o\\}}} \\frac{\\partial }{\\partial W^{\\{o\\}}}\\frac{1}{B} \\sum_{b}^{B}( W^{\\{o\\}}Z^{\\{L\\}} + \\overrightarrow{b^{\\{o\\}}}) + \\frac{λ}{2}\\sum_{L}(W^{\\{l\\}})^{2} \\\\\n",
        "  = \\frac{1}{B} \\sum_{b}^{B} \\frac{\\partial L_{CE}}{\\partial A^{\\{o\\}}}\n",
        "  $$\n",
        "  More generally:\n",
        "  $$\n",
        "  \\frac{\\partial L_{CE}}{\\partial \\overrightarrow{b^{\\{l\\}}}} = \\frac{1}{B} \\sum_{b}^{B} \\frac{\\partial L_{CE}}{\\partial A^{\\{l\\}}}\n",
        "  $$\n",
        "  Note that $(W^{\\{o\\}})^{2}$ is an element-wise operation.\n",
        "\n",
        "  * The gradient w.r.t. the hidden units $Z^{\\{L\\}}$ for all the neurons, that will passed to the previous layers i.e.\n",
        "  $$\n",
        "  \\frac{\\partial L_{CE}}{\\partial Z^{\\{L\\}}} = \\frac{\\partial L_{CE}}{\\partial A^{\\{o\\}}} \\frac{\\partial A^{\\{o\\}}}{\\partial Z^{\\{L\\}}} \\\\ \n",
        "  = \\frac{\\partial L_{CE}}{\\partial A^{\\{o\\}}} \\frac{\\partial }{\\partial Z^{\\{L\\}}} \\frac{1}{B} \\sum_{b}^{B} (W^{\\{o\\}}Z^{\\{L\\}} + \\overrightarrow{b^{\\{o\\}}}) + \\frac{λ}{2}\\sum_{L}(W^{\\{l\\}})^{2}\\\\ \n",
        "  = \\frac{\\partial L_{CE}}{\\partial A^{\\{o\\}}} \\frac{1}{B} \\sum_{b}^{B} W^{\\{o\\}}\n",
        "  $$\n",
        "  More generally:\n",
        "  $$\n",
        "  \\frac{\\partial L_{CE}}{\\partial Z^{\\{l\\}}} = \\frac{\\partial L_{CE}}{\\partial A^{\\{l+1\\}}} \\frac{1}{B} \\sum_{b}^{B} W^{\\{l+1\\}}\n",
        "  $$\n",
        "3. Then, the Activation Layer receives the derivative of the Loss Function w.r.t. the activated hidden units at layer $L$ and computes the gradient w.r.t. the pre-activated units i.e.\n",
        "$$\n",
        "\\frac{\\partial L_{CE}}{\\partial A^{\\{L-1\\}}} = \\frac{\\partial L_{CE}}{\\partial Z^{\\{L\\}}} \\frac{\\partial Z^{\\{L\\}}}{\\partial A^{\\{L-1\\}}} = \\frac{\\partial L_{CE}}{\\partial Z^{\\{L\\}}}\\frac{\\partial }{\\partial A^{\\{L-1\\}}} σ(A^{\\{L-1\\}})\n",
        "$$\n",
        "  \n",
        "  Note that the derivative function $\\frac{\\partial }{\\partial A^{\\{L-1\\}}} σ(A^{\\{L-1\\}})$ is passed as input to the `ActivationLayer` at initialization and is computed during the forward pass when $A^{\\{L-1\\}}$ is computed such that it can be  automatically accessed during the backward pass. \n",
        "\n",
        "\n",
        "More generally, we can denote the derivative chain rule as follows: \n",
        "$$\n",
        "\\frac{\\partial L_{CE}}{\\partial \\hat{Y}} \\frac{\\partial \\hat{Y}}{\\partial A^{\\{o\\}}} → \\frac{\\partial L_{CE}}{\\partial A^{\\{o\\}}} \\frac{\\partial A^{\\{o\\}}}{\\partial Z^{\\{L\\}}} → \\frac{\\partial L_{CE}}{\\partial Z^{\\{L\\}}} \\frac{\\partial Z^{\\{L\\}}}{\\partial A^{\\{L-1\\}}} → ... → \\frac{\\partial L_{CE}}{\\partial A^{\\{l+1\\}}}\\frac{\\partial A^{\\{l+1\\}}}{\\partial Z^{\\{l\\}}} → \\frac{\\partial L_{CE}}{\\partial Z^{\\{l\\}}}\\frac{\\partial Z^{\\{l\\}}}{\\partial A^{\\{l-1\\}}} → ... → \\frac{\\partial L_{CE}}{\\partial A^{\\{2\\}}}\\frac{\\partial A^{\\{2\\}}}{\\partial W^{\\{1\\}}}\n",
        "$$\n"
      ]
    },
    {
      "cell_type": "markdown",
      "metadata": {
        "id": "3Tltof_HgrAX"
      },
      "source": [
        "\n",
        "\n",
        "## 2.2 Activation functions"
      ]
    },
    {
      "cell_type": "markdown",
      "metadata": {
        "id": "5lo7F7PXntWk"
      },
      "source": [
        "We start by implementing the activation functions we might use for our model. In this case, we implement the ReLU (Rectified Linear Unit) and Leaky ReLU as they are non-saturating activation functions that address the vanishing gradient problem. They are both very popular activation functions. We also implemented the sigmoid activation function as well as the tanh one. For each function, we also define their coresponding gradient function. [2]"
      ]
    },
    {
      "cell_type": "code",
      "execution_count": null,
      "metadata": {
        "id": "1YwXbIPygvYn"
      },
      "outputs": [],
      "source": [
        "def relu (A):\n",
        "  return np.maximum(0, A)\n",
        "\n",
        "def relu_grad(A):\n",
        "  return np.where(A > 0, 1.0, 0.0)\n",
        "\n",
        "def leaky_relu(A, alpha=0.1):\n",
        "  return np.where(A > 0, A, alpha*A)\n",
        "\n",
        "def leaky_relu_grad(A, alpha=0.1):\n",
        "  return np.where(A >=0, 1, alpha)\n",
        "\n",
        "def sigmoid (A):\n",
        "  return 1 / (1 + np.exp(-A))\n",
        "\n",
        "def sigmoid_grad (A):\n",
        "  s = sigmoid(A)\n",
        "  return s * (1 - s)\n",
        "\n",
        "def hyperbolic_tangent (A):\n",
        "  return np.tanh(A)\n",
        "\n",
        "def hyperbolic_tangent_grad (A):\n",
        "  return 1-np.tanh(A)**2"
      ]
    },
    {
      "cell_type": "markdown",
      "metadata": {
        "id": "E_r40GE6gvtZ"
      },
      "source": [
        "## 2.3 MLP implementation"
      ]
    },
    {
      "cell_type": "markdown",
      "metadata": {
        "id": "zCctEsu2bFGg"
      },
      "source": [
        "We will start by implementing a generic `MLPLayer` class that will serve as a skeleton to every MLP layer type."
      ]
    },
    {
      "cell_type": "code",
      "execution_count": null,
      "metadata": {
        "id": "EKEXsAcQTZHm"
      },
      "outputs": [],
      "source": [
        "# Generic class representing an MLP layer\n",
        "class MLPLayer:\n",
        "\n",
        "  # Constructor of the class\n",
        "  # gradient: The current gradient of the layer\n",
        "  def __init__(self):\n",
        "    self.gradient = None\n",
        "  \n",
        "  # To propagate the inputs forward\n",
        "  # If hidden layer: Saves the values of the gradient in the current layer and computes the pre-activated values for the next layer\n",
        "  # input: Values of the outputs of the previous layer\n",
        "  # Returns: The inputs of the next layer\n",
        "  def forward_pass(self, input):\n",
        "    pass\n",
        "  \n",
        "  # To propagate the gradient of the layer in front backwards\n",
        "  # Returns: The updated value of the current gradients based on the next gradients\n",
        "  # next_grad: Value of the gradient coming from the next layer (Accumulated from output using backpropagation)\n",
        "  def backward_pass(self, next_grad):\n",
        "    pass\n"
      ]
    },
    {
      "cell_type": "markdown",
      "metadata": {
        "id": "h0mmM-IbbMBL"
      },
      "source": [
        "We now move on to implement the linear layer, which just multiplies its inputs by the weights it stores for the forward pass, and computes the gradient of the loss function with respect to those weights during the backward pass, before returning the gradient of the loss function with respect to the activated inputs coming from the previous layer. It also stores the ADAM parameters of the weights it holds. Note that we separated the weights from the bias terms for convenience."
      ]
    },
    {
      "cell_type": "code",
      "execution_count": null,
      "metadata": {
        "id": "mg1x-uJbWPkS"
      },
      "outputs": [],
      "source": [
        "# Create a class to represent a linear layer (Multiplies its inputs by the weights it stores)\n",
        "class LinearLayer(MLPLayer):\n",
        "   \n",
        "    def __init__(self, input_size, output_size):\n",
        "        \n",
        "      super().__init__() # Call the superclass constructor\n",
        "      self.W = np.random.normal(0, 2 / (input_size + output_size), (output_size, input_size)) # Initialize the weights using weight scaled varience\n",
        "      self.bias = np.random.normal(0, 2 / (input_size + output_size), (output_size)) # Initialize the bias terms of the linear layer\n",
        "      self.last_X = None # To memorize the last input to the layer in forward pass -> Will come in handy when backpropagating the gradient through the layers\n",
        "      self.grad_W = None # The gradient with respect to the weights\n",
        "      self.grad_bias = None # The gradient with respect to the bias vector\n",
        "      self.lambda_ = 0 # If we want a different regularization penalty, it will be set by the fit function later on in the code\n",
        "      \n",
        "\n",
        "      # Initialize the ADAM gradient descent parameters\n",
        "\n",
        "      # S hat, M hat\n",
        "      self.S_hat_weights =  np.zeros(self.W.shape) # S_hat for W (2D matrix)\n",
        "      self.M_hat_weights =  np.zeros(self.W.shape) # M_hat for W (2D matrix)\n",
        "      self.s_hat_bias = np.zeros(self.bias.shape) # s_hat for bias (Vector)\n",
        "      self.m_hat_bias = np.zeros(self.bias.shape) # m_hat for bias (Vector)\n",
        "\n",
        "      # S, M\n",
        "      self.S_weights =  np.zeros(self.W.shape) # S for W (2D matrix)\n",
        "      self.M_weights =  np.zeros(self.W.shape) # M for W (2D matrix)\n",
        "      self.s_bias = np.zeros(self.bias.shape) # s for bias (Vector)\n",
        "      self.m_bias = np.zeros(self.bias.shape) # m for bias (Vector)\n",
        "\n",
        "    def forward_pass(self, X):\n",
        "      self.last_X = X\n",
        "      return (self.W[None, :, :] @ X[:, :, None]).squeeze() + self.bias # We want to apply W to every row of X and then sum up the results, which means we need broadcasting\n",
        "                                                                       # By adding the Nones, we get: (1 x No x Ni) @ (N x Ni x 1) = (N x No x Ni) @ (N x Ni x 1) = (N x No x 1)\n",
        "                                                                       # We basically are repeating W in N dimensions, and applying the No x Ni matrix to an Ni x 1 input in every single dimension\n",
        "                                                                       # squeeze() then removes the extra resulting 1 dimension at the end by flattening out the depth of the resulting matrix\n",
        "    \n",
        "    def backward_pass(self, next_grad):\n",
        "        if self.last_X is None: raise ValueError(\"Can't perform backpropagation before the forward pass\")\n",
        "        self.grad_W = (next_grad[:, :, None] @ self.last_X[:, None, :]).mean(axis = 0) + (self.lambda_ * self.W) # We need to multiply next_grad by the input that was passed to the layer at the time of the forward pass, for every single input one at a time\n",
        "                                                                                                                 # Since we are using the Mean Cross Entropy cost function, we then take the mean of the gradient matrices for every single input\n",
        "                                                                                                                 # (next_grad[:, :, None] @ self.last_X[:, None, :]) was a 3D matrix that was converted into 2D by .mean(axis=0)\n",
        "                                                                                                                 # We then add the L2-regularization term's derivative to the gradient to keep the weights small\n",
        "        self.grad_bias = next_grad.mean(axis = 0) + (self.lambda_ * self.bias) # The gradient with respect to the bias terms is just the gradient with respect to the next layer since the gradient of the next layer with respect to the bias term is the identity matrix\n",
        "                                                                               # We add lambda * the bias terms in order to apply L2 regularization to the bias terms since they're also considered weights (As seen in linear / multiclass regressions before)\n",
        "        grad_Z_prev = next_grad.dot(self.W) # Return the gradient with respect to Z of the previous activation layer -- Since next_grad = del L / del A{l}, we just multiply by del A{l} / del Z{l-1} which is just W\n",
        "        self.last_X = None # To avoid backpropagating twice in a row by mistake\n",
        "        return grad_Z_prev\n",
        "\n",
        "\n"
      ]
    },
    {
      "cell_type": "markdown",
      "metadata": {
        "id": "T3w3mkcRbpW7"
      },
      "source": [
        "Next, we define the activation layer class which just applies the activation function during the forward pass and returns the gradient with respect to its pre-activated inputs during the backward pass."
      ]
    },
    {
      "cell_type": "code",
      "execution_count": null,
      "metadata": {
        "id": "qOGigi-OAwb2"
      },
      "outputs": [],
      "source": [
        "class ActivationLayer(MLPLayer):\n",
        "\n",
        "  # The activation layer doesn't need to keep track of the input / output sizes\n",
        "  # It just keeps the same dimensions passed to it\n",
        "  # activation_function: The activation function to use\n",
        "  # activation_gradient_function: The gradient of the activation function with respect to its input\n",
        "  # The gradient variable for this layer will just represent the intermediate gradient of the activated output with respect to the pre-activated input to the layer\n",
        "  def __init__(self, activation_function, activation_gradient_function):\n",
        "    super().__init__()\n",
        "    self.activation_function = activation_function\n",
        "    self.activation_gradient_function = activation_gradient_function\n",
        "\n",
        "  def forward_pass(self, A):\n",
        "    self.gradient = self.activation_gradient_function(A) # Gradient of the activated X with respect to X (To be used in backwards, instead of saving the input X for later use)\n",
        "    return self.activation_function(A) # Return the activated inputs\n",
        "\n",
        "  def backward_pass(self, next_grad):\n",
        "    if self.gradient is None: raise ValueError(\"Can't perform backpropagation before the forward pass\")\n",
        "    grad_A = next_grad * self.gradient # Element-wise product of every (del L / del Z) with the corresponding (del Z / del A)\n",
        "    self.gradient = None # Same idea\n",
        "    return grad_A"
      ]
    },
    {
      "cell_type": "markdown",
      "metadata": {
        "id": "d2MteDpHcEPE"
      },
      "source": [
        "Finally, the softmax layer computes the predicted probabilities of every class during the forward pass, and returns the gradient with respect to the pre-activated output layer during the backward pass."
      ]
    },
    {
      "cell_type": "code",
      "execution_count": null,
      "metadata": {
        "id": "bp8EIVKoFePy"
      },
      "outputs": [],
      "source": [
        "class SoftmaxLayer(MLPLayer):\n",
        "\n",
        "  def __init__(self):\n",
        "    super().__init__()\n",
        "    self.cur_probs = None\n",
        "\n",
        "  def forward_pass(self, O):\n",
        "    exps = np.exp(O)\n",
        "    probs = exps / np.sum(exps, axis=-1)[:, None] # exps has dimension N * output size while the sum term has dimension N so we need to add an extra dimension when dividing\n",
        "    self.cur_probs = probs # Save the current probabilities to use to compute the gradient when backpropagating the gradient\n",
        "    return probs\n",
        "\n",
        "  def backward_pass(self, labels): # The labels \n",
        "    if self.cur_probs is None: raise ValueError(\"Can't perform backpropagation before the forward pass\")   \n",
        "    grad_O = (self.cur_probs - labels) # Gradient with respect to the unactivated output is just Y_hat - Y\n",
        "    self.cur_probs = None # Same idea\n",
        "    return grad_O\n"
      ]
    },
    {
      "cell_type": "markdown",
      "metadata": {
        "id": "RVBUO8zYcUpp"
      },
      "source": [
        "We now put together the 3 aforedefined layer types into one `MLP` class that orchestrates them. We only define the constructor below, with the rest of the functions populated later on."
      ]
    },
    {
      "cell_type": "code",
      "execution_count": null,
      "metadata": {
        "id": "UYISzdFc7rp0"
      },
      "outputs": [],
      "source": [
        "class MLP:\n",
        "  \n",
        "  # Constructor of the class\n",
        "  # D: Dimension of the inputs\n",
        "  # hidden_activation: Hidden layer activation function (The output activation will be SoftMax) \n",
        "  # hidden_activation_gradient: Hidden layer activation function derivative with respect to its pre-activated input\n",
        "  # num_hidden_layers: Number of hidden layers\n",
        "  # num_hidden_units: Number of units per hidden layer, length must be equal to num_layers\n",
        "  # bias: Whether to add a bias term to every hidden layer\n",
        "  def __init__(self, D, num_outputs, num_hidden_layers, num_hidden_units, \n",
        "               hidden_activation, hidden_activation_gradient):\n",
        "    \n",
        "    # Validation\n",
        "    if num_hidden_layers != len(num_hidden_units):\n",
        "      raise ValueError(\"num_layers and len(num_units) don't match!\")\n",
        "\n",
        "    # Initialize the layers list based on the input parameters\n",
        "    self.layers = [] # To hold all layers of the MLP\n",
        "\n",
        "    # We want to have more than one hidden layer\n",
        "    if num_hidden_layers > 0:\n",
        "      self.layers.append(LinearLayer(D, num_hidden_units[0])) # Initial input layer from X to first hidden layer\n",
        "      self.layers.append(ActivationLayer(hidden_activation, hidden_activation_gradient)) # Activating first hidden layer\n",
        "\n",
        "      for i in range(num_hidden_layers - 1): # All linear and activation layers between l = 1 and l = L\n",
        "        self.layers.append(LinearLayer(num_hidden_units[i], num_hidden_units[i+1]))\n",
        "        self.layers.append(ActivationLayer(hidden_activation, hidden_activation_gradient))\n",
        "\n",
        "      self.layers.append(LinearLayer(num_hidden_units[num_hidden_layers - 1], num_outputs)) # Linear layer from l = L to output\n",
        "      self.layers.append(SoftmaxLayer()) # Activating the output layer\n",
        "\n",
        "    # We want to have only the classification layer with no hidden layers (Multiclass regression)\n",
        "    elif num_hidden_layers == 0:\n",
        "      self.layers.append(LinearLayer(D, num_outputs)) # Linear layer from input to output\n",
        "      self.layers.append(SoftmaxLayer()) # Activating the output layer\n",
        "\n",
        "  # To forward pass through all the layers\n",
        "  def forward_pass():\n",
        "    pass\n",
        "\n",
        "  # To backpropagate through all the layers\n",
        "  def backward_pass():\n",
        "    pass\n",
        "\n",
        "  # To fit the model\n",
        "  def fit():\n",
        "    pass\n",
        "\n",
        "  # To predict the probabilities of the output classes\n",
        "  def predict():\n",
        "    pass\n",
        "\n",
        "  # To create minibatches for gradient descent\n",
        "  def split_minibatches():\n",
        "    pass\n",
        "\n",
        "  # To update the parameters of the ADAM gradient descent for 1 layer\n",
        "  def adam_layer_params_update():\n",
        "    pass\n",
        "\n"
      ]
    },
    {
      "cell_type": "markdown",
      "metadata": {
        "id": "Wuk7XrKycijH"
      },
      "source": [
        "For the forward pass function, we respectively call `forward_pass` of every layer from the first to the last MLP layer, and accumulate the sum of squared weights going forward for usage in the loss function computation since it involves L2-regularization."
      ]
    },
    {
      "cell_type": "code",
      "execution_count": null,
      "metadata": {
        "id": "jeLUhYJDrhg4"
      },
      "outputs": [],
      "source": [
        "def forward_pass(self, X):\n",
        "  sum_of_squared_weights = 0 # To store sigma(w^2) of every network parameter to use in the cost function formula\n",
        "  for layer in self.layers:\n",
        "      X = layer.forward_pass(X)\n",
        "      if hasattr(layer, \"W\"): # Increment the sum of the squared weights for linear layers only\n",
        "        sum_of_squared_weights += (np.sum(layer.W*layer.W) + np.sum(layer.bias*layer.bias))\n",
        "  return X, sum_of_squared_weights\n",
        "  \n",
        "def backward_pass(self, labels):\n",
        "  for layer in self.layers[::-1]: # From last to first\n",
        "      labels = layer.backward_pass(labels) # Update the gradients of all the weights\n",
        "\n",
        "MLP.forward_pass = forward_pass\n",
        "MLP.backward_pass = backward_pass"
      ]
    },
    {
      "cell_type": "markdown",
      "metadata": {
        "id": "6JsL0Zzdc1bS"
      },
      "source": [
        "The loss function consists of the mean cross-entropy combined with L2-regularization to avoid overfitting. It uses the sum of squared weights accumulated during the forward pass preceding it."
      ]
    },
    {
      "cell_type": "code",
      "execution_count": null,
      "metadata": {
        "id": "o_8qQil30CnJ"
      },
      "outputs": [],
      "source": [
        "# Y_hat: Prediction probabilities, matrix\n",
        "# Y: The one-hot encoded labels of the predicted points above\n",
        "# lambda_: Regularization penalty\n",
        "# sum_of_squared_weights: Sum of the L2-norms of every weight matrix in the network\n",
        "# Returns: The *mean* cross-entropy loss of the input predictions & labels\n",
        "def mean_cross_entropy_loss(self, Y_hat, Y, lambda_, sum_of_squared_weights):\n",
        "  return (-np.sum(Y * np.log(Y_hat), axis=-1)).mean() + (lambda_/2)*sum_of_squared_weights\n",
        "\n",
        "MLP.mean_cross_entropy_loss = mean_cross_entropy_loss"
      ]
    },
    {
      "cell_type": "markdown",
      "metadata": {
        "id": "9sMDrJpQdB0i"
      },
      "source": [
        "The `update_weights` function is called after a combination of forward & backward passes of the MLP, and just updates the weights and bias terms using their respective gradients, using the ADAM method for gradient descent."
      ]
    },
    {
      "cell_type": "code",
      "execution_count": null,
      "metadata": {
        "id": "xYsvX1uf2M_c"
      },
      "outputs": [],
      "source": [
        "# Updates the weights and the ADAM parameters for every layer\n",
        "# t is the iteration count and learning_rate is alpha\n",
        "def update_weights(self, learning_rate, t):\n",
        "  \n",
        "  for layer in self.layers[::-1]: # Iterate over the layers\n",
        "    \n",
        "    if hasattr(layer, \"W\"): # Check that the layer is a LinearLayer\n",
        "       \n",
        "      # Compute the ADAM method parameters for the layer\n",
        "      M_weights, S_weights, M_hat_weights, S_hat_weights , m_bias, s_bias, m_hat_bias, s_hat_bias = \\\n",
        "      self.adam_layer_params_update(layer.grad_W, layer.grad_bias, layer.M_weights, layer.S_weights, layer.m_bias, layer.s_bias, t)\n",
        "\n",
        "      # Update all the M and S of the layer for use in the next iteration during the ADAM parameter computation\n",
        "      layer.M_weights = M_weights\n",
        "      layer.S_weights = S_weights\n",
        "      layer.m_bias = m_bias\n",
        "      layer.s_bias = s_bias\n",
        "\n",
        "      # Perform the weight updates using the ADAM derivations\n",
        "      layer.W = layer.W - (learning_rate * M_hat_weights / np.sqrt(S_hat_weights + 1e-8))\n",
        "      layer.bias = layer.bias - (learning_rate * m_hat_bias / np.sqrt(s_hat_bias + 1e-8))\n",
        "       \n",
        "MLP.update_weights = update_weights"
      ]
    },
    {
      "cell_type": "markdown",
      "metadata": {
        "id": "QLn9Zn4ZdSj_"
      },
      "source": [
        "Next, we need a function, that given data, will split it into a list of minibatches to perform stochastic gradient descent."
      ]
    },
    {
      "cell_type": "code",
      "execution_count": null,
      "metadata": {
        "id": "NMzQFGOpE_Oe"
      },
      "outputs": [],
      "source": [
        "def split_minibatches(self, X, y, batch_size):\n",
        "\n",
        "  # Append the result to the end of each training example\n",
        "  X_y_concat = np.column_stack([X, y])\n",
        "\n",
        "  # Shuffle the data \n",
        "  np.random.shuffle(X_y_concat)\n",
        "\n",
        "  # Number of batches with equal size\n",
        "  num_batches = X_y_concat.shape[0]//batch_size\n",
        "\n",
        "  # The output will have less datapoints if batch size is not a multiple of input data size\n",
        "  return np.array_split(X_y_concat[:batch_size*num_batches], num_batches)\n",
        "\n",
        "MLP.split_minibatches = split_minibatches"
      ]
    },
    {
      "cell_type": "markdown",
      "metadata": {
        "id": "lvtvx2vFdZ99"
      },
      "source": [
        "We also need the following function that updates the ADAM gradient descent parameters for a layer (Namely, M, S, M_hat, S_hat, for each for the weights and bias terms)."
      ]
    },
    {
      "cell_type": "code",
      "execution_count": null,
      "metadata": {
        "id": "_-ZW8GSyFpZF"
      },
      "outputs": [],
      "source": [
        "# Updates the parameters of the ADAM gradient descent method for 1 layer, for both the weights and bias terms\n",
        "def adam_layer_params_update(self, gradient_weights, gradient_bias, M_prev_weights, \n",
        "                             S_prev_weights, m_prev_bias, s_prev_bias, t):\n",
        "  \n",
        "  # Using values from reference for beta1 and beta2\n",
        "  beta1 = 0.9\n",
        "  beta2 = 0.999\n",
        "\n",
        "  # Compute M and S for the weights\n",
        "  M_weights = beta1 * M_prev_weights + (1 - beta1)*gradient_weights\n",
        "  S_weights = beta2 * S_prev_weights + (1 - beta2)*(gradient_weights)**2\n",
        "\n",
        "  # Compute m and s for the bias terms\n",
        "  m_bias = beta1 * m_prev_bias + (1 - beta1)*gradient_bias\n",
        "  s_bias = beta2 * s_prev_bias + (1 - beta2)*(gradient_bias)**2\n",
        "\n",
        "  # Compute M hat and S hat for the weights\n",
        "  M_hat_weights = M_weights / (1 - beta1**t)\n",
        "  S_hat_weights = S_weights / (1 - beta2**t)\n",
        "\n",
        "  # Compute M hat and S hat for the bias terms\n",
        "  m_hat_bias = m_bias / (1 - beta1**t)\n",
        "  s_hat_bias = s_bias / (1 - beta2**t)\n",
        "\n",
        "  # Return the parameters\n",
        "  return M_weights, S_weights, M_hat_weights, S_hat_weights, m_bias, s_bias, m_hat_bias, s_hat_bias\n",
        "\n",
        "MLP.adam_layer_params_update = adam_layer_params_update"
      ]
    },
    {
      "cell_type": "markdown",
      "metadata": {
        "id": "CluqQvQgeoCK"
      },
      "source": [
        "The `fit` function now utilizes all the above functions to iteratively forward pass, backpropagate, and update the model weights, while simultaneously performing minibatch splits and tracking the training/validation losses as a function of iterations."
      ]
    },
    {
      "cell_type": "code",
      "execution_count": null,
      "metadata": {
        "id": "snSXEQnYVEmw"
      },
      "outputs": [],
      "source": [
        "# X_train, y_train: Training inputs\n",
        "# X_validate, y_validate: Validation inputs\n",
        "# Hyperparameters: learning_rate, epsilon, max_iter, minibatch_size, lambda_\n",
        "# TODO: Minibatch & Adam // Optional cost computations // Epsilon stopping criterion // verbose signals // tracking validation error\n",
        "def fit(self, X_train, y_train, X_validate=None, y_validate=None, \\\n",
        "        learning_rate=1e-3, max_iter=1000, minibatch_size=100, lambda_=0, \\\n",
        "        compute_ce_train=True, compute_ce_valid=False, monitor_accuracies=False):\n",
        "\n",
        "  # One hot encoding the labels (Become matrices)\n",
        "  Y_train = np.eye(10)[y_train]\n",
        "  Y_validate = np.eye(10)[y_validate]\n",
        "\n",
        "  # Create an array to monitor the testing/training accuracies as a function of epoch\n",
        "  # We will use this in section 3.7\n",
        "  epoch_training_accuracies = np.empty(0)\n",
        "  epoch_testing_accuracies = np.empty(0)\n",
        "  num_epoch = 0 # For printing purposes (print each epoch with the accuracies)\n",
        "\n",
        "  # To keep track of the training and validation losses\n",
        "  training_losses = []\n",
        "  validation_losses = []\n",
        "\n",
        "  # Update the lambda attribute of all the linear layers\n",
        "  if lambda_ != 0:\n",
        "    for layer in self.layers:\n",
        "      if hasattr(layer, 'lambda_'): # Only linear layers store the lambda attribute\n",
        "        layer.lambda_ = lambda_\n",
        "\n",
        "  # To hold the list of minibatches that we'll use through the iterations\n",
        "  minibatch_list = []\n",
        "\n",
        "  # Iterate for the maximum number of iterations\n",
        "  for t in tqdm(range(1, max_iter+1)):\n",
        "    \n",
        "    # Check whether the minibatch list is empty to repopulate it with a new split\n",
        "    # Marks the start of a new epoch whenever the condition becomes true\n",
        "    if(len(minibatch_list) == 0):\n",
        "      minibatch_list = self.split_minibatches(X_train, Y_train, minibatch_size)\n",
        "      if (monitor_accuracies and num_epoch != 0) :\n",
        "        print(\"Epoch\", num_epoch)\n",
        "        probs, _ = self.forward_pass(X_train) # predict on training\n",
        "        training_accuracy = np.sum((np.argmax(probs, axis=-1)) == y_train) / len(y_train)\n",
        "        print(\"Training accuracy:\", training_accuracy)\n",
        "        epoch_training_accuracies = np.append(epoch_training_accuracies, training_accuracy) \n",
        "\n",
        "        probs, _ = self.forward_pass(X_test) # predict on testing\n",
        "        testing_accuracy = np.sum((np.argmax(probs, axis=-1)) == y_test) / len(y_test)\n",
        "        print(\"Training accuracy:\", testing_accuracy)\n",
        "        epoch_testing_accuracies = np.append(epoch_testing_accuracies, testing_accuracy) \n",
        "      num_epoch += 1\n",
        "\n",
        "    # Pop the first minibatch off the list and split its features / labels into 2 variables\n",
        "    minibatch = minibatch_list.pop(0)\n",
        "    X_train_minibatch, Y_train_minibatch = minibatch[:, :X_train.shape[1]], minibatch[:, X_train.shape[1]:]\n",
        "\n",
        "    # Compute the validation cost only if requested (Time consuming)\n",
        "    # Note: The validation forward propagation must be done before the training equivalent\n",
        "    # This is because the training forward and back passes should be done consecutively (To use the correct values saved in the layer fields)\n",
        "    # We will perform the validation forward pass here, and compute the loss after performing the train forward pass\n",
        "    if compute_ce_valid:\n",
        "      validation_pred, _ = self.forward_pass(X_validate) # Validation prediction\n",
        "\n",
        "    # Train forward pass \n",
        "    training_pred, sum_of_squared_weights = self.forward_pass(X_train_minibatch) # Training prediction\n",
        "\n",
        "    # Continue computing validation loss after the train forward pass:\n",
        "    if compute_ce_valid:\n",
        "      validation_losses.append(self.mean_cross_entropy_loss(validation_pred, Y_validate, lambda_, sum_of_squared_weights)) # Validation loss\n",
        "\n",
        "    # Compute the training cost if requested\n",
        "    if compute_ce_train:\n",
        "      training_losses.append(self.mean_cross_entropy_loss(training_pred, Y_train_minibatch, lambda_, sum_of_squared_weights)) # Training loss\n",
        "\n",
        "    self.backward_pass(Y_train_minibatch) # Backpropagate using the training labels\n",
        "    self.update_weights(learning_rate, t) # Update the weights\n",
        "\n",
        "  if (monitor_accuracies):\n",
        "    return training_losses, validation_losses, epoch_training_accuracies, epoch_testing_accuracies\n",
        "  else:\n",
        "    return training_losses, validation_losses\n",
        "\n",
        "MLP.fit = fit"
      ]
    },
    {
      "cell_type": "markdown",
      "metadata": {
        "id": "N9n0Ruv0e-lN"
      },
      "source": [
        "The `predict` function just performs a forward pass using its inputs to find the probabilities of each of the 10 output classes."
      ]
    },
    {
      "cell_type": "code",
      "execution_count": null,
      "metadata": {
        "id": "frAGNtfmfDL8"
      },
      "outputs": [],
      "source": [
        "# Returns the probabilities of all the classes for all inputs (Matrix)\n",
        "def predict(self, X):\n",
        "  probs, _ = self.forward_pass(X) # Abstract out the sum of squared weights\n",
        "  return probs\n",
        "\n",
        "MLP.predict = predict"
      ]
    },
    {
      "cell_type": "markdown",
      "metadata": {
        "id": "gCMu4lsqfGFk"
      },
      "source": [
        "Last, the `small_perturbation` function goes through every layer of the neural network, perturbs every single parameter (weights & bias terms), and returns the sum of the perturbations of all the parameters."
      ]
    },
    {
      "cell_type": "code",
      "execution_count": null,
      "metadata": {
        "id": "XC94qxcHdJX3"
      },
      "outputs": [],
      "source": [
        "# Small perturbation test\n",
        "def small_perturbation(self, X_train, y_train, lambda_=0):\n",
        "  \n",
        "  # Sum of the result of the small perturbation test for every single layer\n",
        "  small_perturbations_sum = 0\n",
        "\n",
        "  # Convert y_train to 1-hot encoding (Becomes a matrix)\n",
        "  Y_train = np.eye(10)[y_train]\n",
        "\n",
        "  # Update the lambda attribute of all the linear layers (So that the gradient uses it)\n",
        "  # Note: Always resets lambda, even if 0, to avoid setting it to something > 0 and then not being able to set it back to 0\n",
        "  for layer in self.layers:\n",
        "    if hasattr(layer, 'lambda_'): # Only linear layers store the lambda attribute\n",
        "      layer.lambda_ = lambda_\n",
        "\n",
        "  # Compute the analytical gradients by consecutively forward & backward passing\n",
        "  self.forward_pass(X_train)\n",
        "  self.backward_pass(Y_train)\n",
        "\n",
        "  # Iterate over the layers of the model\n",
        "  for l, layer in enumerate(self.layers):\n",
        "    \n",
        "    # Only consider linear layers with weights\n",
        "    if not hasattr(layer, \"W\"):\n",
        "      continue\n",
        "\n",
        "    # Copy the W & bias of the layer to restore it later on\n",
        "    W = layer.W.copy()\n",
        "    bias = layer.bias.copy()\n",
        "\n",
        "    ###########################################\n",
        "    # Small perturbation check on the weights #\n",
        "    ###########################################\n",
        "    for i in range(layer.W.shape[0]):\n",
        "      for j in range(layer.W.shape[1]):\n",
        "\n",
        "        # Randomize a single entry of the epsilon matrix\n",
        "        epsilon = np.zeros(layer.W.shape)\n",
        "        epsilon[i, j] = np.random.rand() * 1e-5\n",
        "\n",
        "        # Modify the corresponding weight by adding epsilon\n",
        "        layer.W = layer.W + epsilon\n",
        "        \n",
        "        # Find the resulting cost\n",
        "        training_pred, sum_of_squared_weights = self.forward_pass(X_train) # Training prediction\n",
        "        J1 = self.mean_cross_entropy_loss(training_pred, Y_train, lambda_, sum_of_squared_weights)\n",
        "\n",
        "        # Restore the previous W\n",
        "        layer.W = W\n",
        "\n",
        "        # Modify the corresponding weight by substracting epsilon\n",
        "        layer.W = layer.W - epsilon\n",
        "        \n",
        "        # Find the resulting cost\n",
        "        training_pred, sum_of_squared_weights = self.forward_pass(X_train) # Training prediction\n",
        "        J2 = self.mean_cross_entropy_loss(training_pred, Y_train, lambda_, sum_of_squared_weights)\n",
        "\n",
        "        # Restore the previous W\n",
        "        layer.W = W\n",
        "\n",
        "        # Extract the numerical & analytical gradients\n",
        "        numeric_grad = (J1 - J2) / (2 * epsilon[i, j])\n",
        "        analytical_grad = layer.grad_W[i, j]\n",
        "\n",
        "        # If the gradient is 0 and both the numeric & analytical gradients are equal, continue to avoid numerical errors\n",
        "        if numeric_grad == 0.0 and numeric_grad == analytical_grad: continue\n",
        "\n",
        "        # Compute the small perturbation & add it to the accumulator\n",
        "        small_perturbations_sum += (np.square(analytical_grad - numeric_grad) / np.square(analytical_grad + numeric_grad))\n",
        "\n",
        "\n",
        "    ##############################################\n",
        "    # Small perturbation check on the bias terms #\n",
        "    ##############################################\n",
        "    for i in range(layer.bias.shape[0]):\n",
        "\n",
        "      # Randomize a single entry of the epsilon matrix\n",
        "      epsilon = np.zeros(layer.bias.shape)\n",
        "      epsilon[i] = np.random.rand() * 1e-5\n",
        "\n",
        "      # Modify the corresponding weight by adding epsilon\n",
        "      layer.bias = layer.bias + epsilon\n",
        "      \n",
        "      # Find the resulting cost\n",
        "      training_pred, sum_of_squared_weights = self.forward_pass(X_train) # Training prediction\n",
        "      J1 = self.mean_cross_entropy_loss(training_pred, Y_train, lambda_, sum_of_squared_weights)\n",
        "\n",
        "      # Restore the previous bias terms\n",
        "      layer.bias = bias\n",
        "\n",
        "      # Modify the corresponding bias term by substracting epsilon\n",
        "      layer.bias = layer.bias - epsilon\n",
        "      \n",
        "      # Find the resulting cost\n",
        "      training_pred, sum_of_squared_weights = self.forward_pass(X_train) # Training prediction\n",
        "      J2 = self.mean_cross_entropy_loss(training_pred, Y_train, lambda_, sum_of_squared_weights)\n",
        "\n",
        "      # Restore the previous bias terms\n",
        "      layer.bias = bias\n",
        "\n",
        "      # Extract the numerical & analytical gradients\n",
        "      numeric_grad = (J1 - J2) / (2 * epsilon[i])\n",
        "      analytical_grad = layer.grad_bias[i]\n",
        "\n",
        "      # If the gradient is 0 and both the numeric & analytical gradients are equal, continue to avoid numerical errors\n",
        "      if numeric_grad == 0.0 and numeric_grad == analytical_grad: continue\n",
        "\n",
        "      # Compute the small perturbation & add it to the accumulator\n",
        "      small_perturbations_sum += (np.square(analytical_grad - numeric_grad) / np.square(analytical_grad + numeric_grad))\n",
        "\n",
        "  return small_perturbations_sum\n",
        "\n",
        "MLP.small_perturbation = small_perturbation"
      ]
    },
    {
      "cell_type": "markdown",
      "metadata": {
        "id": "2Ych_dvVccx8"
      },
      "source": [
        "# Task 3: Running experiments"
      ]
    },
    {
      "cell_type": "markdown",
      "metadata": {
        "id": "swO3uEdBux_P"
      },
      "source": [
        "We will start by defining an accuracy evaluation function."
      ]
    },
    {
      "cell_type": "code",
      "execution_count": null,
      "metadata": {
        "id": "p81ft9RSPC9a"
      },
      "outputs": [],
      "source": [
        "# Accuracy function\n",
        "# y: Vector of the true labels, not 1-hot encoded\n",
        "# Y_prob: The probabilities of each of the 10 classes for each input\n",
        "def evaluate_acc(y, Y_prob):\n",
        "  predictions = np.argmax(Y_prob, axis=-1)\n",
        "  return np.sum(predictions == y) / len(y)"
      ]
    },
    {
      "cell_type": "markdown",
      "metadata": {
        "id": "xXdzq4xyqnwr"
      },
      "source": [
        "Then, we will define a function that will optimize our hyperparameters for the data since we will have different number of hidden layers in experiment 3.1. The function will run over the our hyperparameter choices and instanciate the model internally. It will output the validation, the training and the testing accuracies. It is to be noted that:\n",
        "*   The learning rate only has 1 value in order to reduce training time, since we know through testing that this value for alpha does not overshoot and is optimally fast.\n",
        "*   The network width and height will be fixed depending on the question, and we will tune the hyperparameters for each dimensions accordingly.\n",
        "\n",
        "Finally, we added the boolean parameter `raw_data` to choose between the normalized and unnormalized datasets. This will be useful in part 3.5 of the collab.\n",
        " \n"
      ]
    },
    {
      "cell_type": "code",
      "execution_count": null,
      "metadata": {
        "id": "XJ6F2RyccMn7"
      },
      "outputs": [],
      "source": [
        "# Choices that will be considered for hyperparameters\n",
        "lambda_values = [1e-9, 1e-8]\n",
        "maxiter_values = [10000, 15000] # After some runs, this was a great balance between speed and accuracy\n",
        "batchsize_values = [32, 64]\n",
        "learning_rate = 1e-4 # After some runs, this was the most optimal value\n",
        "\n",
        "# Hyperparameter tuning function\n",
        "# num_hidden_layers_possibilities: Possible values for the number of hidden layers\n",
        "# num_hidden_units_possibilities: Possible values for the number of hidden units, must correspond to num_hidden_layers_possibilities (Element by element correspondence)\n",
        "# We can specify values for lambda, maxiter, or batchsize if we want to override the ones specified above\n",
        "def hyperparameter_tuning(num_hidden_layers_possibilities, num_hidden_units_possibilities, act_fun, act_fun_grad, raw_data=False \\\n",
        "                          , lambda_values=lambda_values, maxiter_values=maxiter_values, batchsize_values=batchsize_values, compute_ce = True):\n",
        "  \n",
        "  # Check that the elements of both hidden layers and hidden units possibilities match in size\n",
        "  if(len(num_hidden_layers_possibilities) != len(num_hidden_units_possibilities)):\n",
        "    raise ValueError(\"We have more/less hidden layers than provided width combinations.\")\n",
        "  for i, num_hidden_layers in enumerate(num_hidden_layers_possibilities):\n",
        "    if num_hidden_layers != len(num_hidden_units_possibilities[i]):\n",
        "      raise ValueError(f\"For index {i}, the number of width values doesn't match the number of hidden layers.\")\n",
        "\n",
        "  # To store the results of each combination of hyperparameters\n",
        "  valid_accs = np.zeros((\n",
        "                        len(num_hidden_layers_possibilities),\n",
        "                        len(maxiter_values), \n",
        "                        len(batchsize_values),\n",
        "                        len(lambda_values)\n",
        "  ))\n",
        "\n",
        "  # Iterate over the hyperparameters\n",
        "  for l_index, l in enumerate(num_hidden_layers_possibilities):\n",
        "    for i, max_iter in enumerate(maxiter_values):\n",
        "      for j, batch_size in enumerate(batchsize_values):\n",
        "        for k, lambda_ in enumerate(lambda_values):\n",
        "            \n",
        "            # Display message\n",
        "            print(f\"Training model: LR={learning_rate}, lambda={lambda_}, minibatch size={batch_size}, max iters={max_iter}, num layers={l}, num hidden units={num_hidden_units_possibilities[l_index]}\")\n",
        "\n",
        "            if(raw_data):\n",
        "              \n",
        "              # Create and train model from unnormalized dataset\n",
        "              model = MLP(D = X_train_raw.shape[-1], \n",
        "                          num_outputs = 10, \n",
        "                          num_hidden_layers = l,\n",
        "                          num_hidden_units = num_hidden_units_possibilities[l_index], \n",
        "                          hidden_activation = act_fun, \n",
        "                          hidden_activation_gradient = act_fun_grad)\n",
        "\n",
        "              model.fit(X_train_raw, y_train,\n",
        "                        learning_rate=learning_rate, lambda_=lambda_, minibatch_size=batch_size, max_iter=max_iter,\n",
        "                        compute_ce_train=False)\n",
        "\n",
        "              # Extract validation accuracies from unnormalized data\n",
        "              valid_accs[l_index][i][j][k] = evaluate_acc(y_validate, model.predict(X_validate_raw))\n",
        "\n",
        "              # Print\n",
        "              print(f\"Validation accuracy of the above model: {'{:.1f}'.format(valid_accs[l_index][i][j][k]* 100)}\")\n",
        "\n",
        "            else:\n",
        "              # Create and train model from normalized dataset\n",
        "              model = MLP(D = X_train.shape[-1], \n",
        "                          num_outputs = 10, \n",
        "                          num_hidden_layers = l,\n",
        "                          num_hidden_units = num_hidden_units_possibilities[l_index], \n",
        "                          hidden_activation = act_fun, \n",
        "                          hidden_activation_gradient = act_fun_grad)\n",
        "              \n",
        "              model.fit(X_train, y_train,\n",
        "                        learning_rate=learning_rate, lambda_=lambda_, minibatch_size=batch_size, max_iter=max_iter,\n",
        "                        compute_ce_train=False)\n",
        "\n",
        "              # Extract validation accuracies from normalized dataset\n",
        "              valid_accs[l_index][i][j][k] = evaluate_acc(y_validate, model.predict(X_validate))\n",
        "\n",
        "              # Print\n",
        "              print(f\"Validation accuracy of the above model: {'{:.1f}'.format(valid_accs[l_index][i][j][k]* 100)}\")\n",
        "\n",
        "  # Extract the best HPs\n",
        "  best_size_index, best_maxiter_index, best_batchsize_index, best_lambda_index = np.unravel_index(valid_accs.argmax(), valid_accs.shape)\n",
        "  best_num_hidden_layers = num_hidden_layers_possibilities[best_size_index]\n",
        "  best_num_hidden_units = num_hidden_units_possibilities[best_size_index]\n",
        "  best_maxiter = maxiter_values[best_maxiter_index]\n",
        "  best_batchsize = batchsize_values[best_batchsize_index]\n",
        "  best_lambda = lambda_values[best_lambda_index]\n",
        "\n",
        "  # Create a model with them\n",
        "  best_model = MLP(D = X_train.shape[-1], \n",
        "                    num_outputs = 10, \n",
        "                    num_hidden_layers = best_num_hidden_layers, \n",
        "                    num_hidden_units = best_num_hidden_units, \n",
        "                    hidden_activation = act_fun, \n",
        "                    hidden_activation_gradient = act_fun_grad)\n",
        "  \n",
        "  # Display a message:\n",
        "  print(\"Best model found, proceeding to train it and compute its optimal accuracies\")\n",
        "\n",
        "  # Train\n",
        "  if raw_data:\n",
        "    training_ce, validation_ce = best_model.fit(X_train_raw, y_train, X_validate_raw, y_validate,\\\n",
        "                                        learning_rate=learning_rate, max_iter=best_maxiter,\\\n",
        "                                        minibatch_size=best_batchsize, lambda_=best_lambda,\\\n",
        "                                        compute_ce_train=True, compute_ce_valid=compute_ce)\n",
        "\n",
        "  else:\n",
        "    training_ce, validation_ce = best_model.fit(X_train, y_train, X_validate, y_validate,\\\n",
        "                                    learning_rate=learning_rate, max_iter=best_maxiter,\\\n",
        "                                    minibatch_size=best_batchsize, lambda_=best_lambda,\\\n",
        "                                    compute_ce_train=True, compute_ce_valid=compute_ce)\n",
        "        \n",
        "  # Use that model to predict on the testing set\n",
        "  best_validation_acc = valid_accs[best_size_index][best_maxiter_index][best_batchsize_index][best_lambda_index]\n",
        "  if raw_data:\n",
        "    training_acc = evaluate_acc(y_train, best_model.predict(X_train_raw))\n",
        "    testing_acc = evaluate_acc(y_test, best_model.predict(X_test_raw))\n",
        "  else:\n",
        "    training_acc = evaluate_acc(y_train, best_model.predict(X_train))\n",
        "    testing_acc = evaluate_acc(y_test, best_model.predict(X_test))\n",
        "\n",
        "  # Print the accuracies\n",
        "  print(f'The accuracies of the MLP model with {best_num_hidden_layers} hidden layer, and {best_num_hidden_units} hidden units for the respective layers are:')\n",
        "  print(f\"for max_iter = {best_maxiter}, batch_size = {best_batchsize}, lambda = {best_lambda} and learning_rate = {learning_rate} are: \")\n",
        "  print(f\"\\t validation accuracy of {'{:.1f}'.format(best_validation_acc* 100)}% \\n\\t testing accuracy of {'{:.1f}'.format(testing_acc*100)}% \\n\\t training accuracy of {'{:.1f}'.format(training_acc* 100)}%\\n\") \n",
        "\n",
        "  # Return the model and the respective accuracies \n",
        "  return best_model, training_ce, validation_ce"
      ]
    },
    {
      "cell_type": "markdown",
      "metadata": {
        "id": "-IGu7TOUFJDM"
      },
      "source": [
        "## 3.1 - Verifying the Gradient using the small perturbation test for every activation function"
      ]
    },
    {
      "cell_type": "markdown",
      "metadata": {
        "id": "gYWtrIRmfk-z"
      },
      "source": [
        "In this section, we verify our grdient computation using small perturbation on every parameter in our model. Because we only want to verify the gradient computation, we will instantiate a small MLP model with arbitrary parameters: 2 hidden layers with 5 hidden units, ReLU activation function for the hidden layer, lambda value of 0.01, batch size of 100 and maximum iterations of 500. The above 2 hidden layers should cover all possible ways to compute the gradient of a way or bias term in the model, for verification purposes, but still be fast enough to forward and backward pass through since we only have 25 hidden units."
      ]
    },
    {
      "cell_type": "code",
      "execution_count": null,
      "metadata": {
        "id": "CkUv4L3Rfh5w"
      },
      "outputs": [],
      "source": [
        "mlp_grad = MLP(D = X_train.shape[-1], \n",
        "            num_outputs = 10, \n",
        "            num_hidden_layers = 2, \n",
        "            num_hidden_units = [5, 5], \n",
        "            hidden_activation = relu, \n",
        "            hidden_activation_gradient = relu_grad)"
      ]
    },
    {
      "cell_type": "markdown",
      "metadata": {
        "id": "S3m5w6gdgk9w"
      },
      "source": [
        "We will now compute the small perturbation using only 10 points. We do so because computing the gradients with respect to the weights of 60000 inputs at once implies matrix multiplications involving 60000 rows at every hidden layer which is too much for the RAM to handle, and is the same reason why we perform minibatch SGD instead of full-batch gradient descent. However, since the small perturbation applies to any loss function, using 10 points versus using all 60000 should not make a difference. We just perturb every weight and bias term consecutively and make sure that the analytical gradient computed by backpropagation is very close to the numerical gradient."
      ]
    },
    {
      "cell_type": "code",
      "execution_count": null,
      "metadata": {
        "colab": {
          "base_uri": "https://localhost:8080/"
        },
        "id": "3iAiNLZJgdEi",
        "outputId": "6c131d48-d402-40df-c813-3fea2bece790"
      },
      "outputs": [
        {
          "output_type": "stream",
          "name": "stdout",
          "text": [
            "The result of gradient verification is 2.9805050139272546e-09.\n"
          ]
        }
      ],
      "source": [
        "grad_verification = mlp_grad.small_perturbation(X_train[:10], y_train[:10], lambda_=0.01)\n",
        "print(f\"The result of gradient verification is {grad_verification}.\")"
      ]
    },
    {
      "cell_type": "markdown",
      "metadata": {
        "id": "pDpT_7ZlqXv4"
      },
      "source": [
        "As can be seen above, our small perturbation gradient value is $2.9*10^{-9}$ which valdates our gradient computation."
      ]
    },
    {
      "cell_type": "markdown",
      "source": [
        "We can repeat the above test, but for the leaky relu, tanh, and sigmoid functions to validate the accuracy of the results."
      ],
      "metadata": {
        "id": "uqxJPOzWNqkl"
      }
    },
    {
      "cell_type": "code",
      "source": [
        "mlp_grad.hidden_activation = hyperbolic_tangent\n",
        "mlp_grad.hidden_activation_gradient = hyperbolic_tangent_grad\n",
        "grad_verification = mlp_grad.small_perturbation(X_train[:10], y_train[:10], lambda_=0.01)\n",
        "print(f\"The result of gradient verification is {grad_verification}.\")"
      ],
      "metadata": {
        "colab": {
          "base_uri": "https://localhost:8080/"
        },
        "id": "ZDeTt-qFOKrs",
        "outputId": "c394f763-9054-41d9-b2bf-7d5a4f67e443"
      },
      "execution_count": null,
      "outputs": [
        {
          "output_type": "stream",
          "name": "stdout",
          "text": [
            "The result of gradient verification is 1.2815910454546291e-09.\n"
          ]
        }
      ]
    },
    {
      "cell_type": "code",
      "source": [
        "mlp_grad.hidden_activation = sigmoid\n",
        "mlp_grad.hidden_activation_gradient = sigmoid_grad\n",
        "grad_verification = mlp_grad.small_perturbation(X_train[:10], y_train[:10], lambda_=0.01)\n",
        "print(f\"The result of gradient verification is {grad_verification}.\")"
      ],
      "metadata": {
        "colab": {
          "base_uri": "https://localhost:8080/"
        },
        "id": "5lp9mR1_OlPt",
        "outputId": "88c22131-f828-4adb-f8be-d079be4dce05"
      },
      "execution_count": null,
      "outputs": [
        {
          "output_type": "stream",
          "name": "stdout",
          "text": [
            "The result of gradient verification is 3.4086180348608903e-09.\n"
          ]
        }
      ]
    },
    {
      "cell_type": "code",
      "source": [
        "mlp_grad.hidden_activation = leaky_relu\n",
        "mlp_grad.hidden_activation_gradient = leaky_relu_grad\n",
        "grad_verification = mlp_grad.small_perturbation(X_train[:10], y_train[:10], lambda_=0.01)\n",
        "print(f\"The result of gradient verification is {grad_verification}.\")"
      ],
      "metadata": {
        "colab": {
          "base_uri": "https://localhost:8080/"
        },
        "id": "1y1f0b-1Ookq",
        "outputId": "d8890eb6-6309-431e-bd1c-e9d265faab90"
      },
      "execution_count": null,
      "outputs": [
        {
          "output_type": "stream",
          "name": "stdout",
          "text": [
            "The result of gradient verification is 7.960452943523155e-09.\n"
          ]
        }
      ]
    },
    {
      "cell_type": "markdown",
      "source": [
        "As can be seen above, all of our activation functions yield very small values, which validates the correctness of our model's cost & gradient computations."
      ],
      "metadata": {
        "id": "ZhVbPKyqO5no"
      }
    },
    {
      "cell_type": "markdown",
      "metadata": {
        "id": "VEFEhJ14GLW6"
      },
      "source": [
        "## 3.1 - Effects of non-linearity & Network depth "
      ]
    },
    {
      "cell_type": "markdown",
      "metadata": {
        "id": "zaOlEF8fDUEE"
      },
      "source": [
        "In this section we will instantiate our model 3 times with different input parameters: \n",
        "\n",
        "* 1) MLP with no hidden layers\n",
        "* 2) MLP with 1 hidden layer, 128 hidden units and ReLU activation function\n",
        "* 3) MLP with 2 hidden layers, each with 128 hidden inputs and ReLU activation functions at each layer.\n",
        "\n",
        "Expectations:\n",
        "1- The non-linearity introduced by the usage of the ReLU activation functions for MLPs 2 and 3 should lead to higher testing accuracies.\n",
        "2- The deeper the network is, the more flexible it becomes, so MLP 3 should be more accurate than MLP 2, which itself should yield better results than MLP 1. \n",
        "\n",
        "Using the two expectations formulated above, we can expect MLP 3 to have the highest testing accuracy, followed by MLP 2, and finally MLP 1.\n",
        "\n",
        "We will now proceed to hyperparameter tune each model for the given number of layers and empirically compare the results to the expectation."
      ]
    },
    {
      "cell_type": "markdown",
      "source": [
        "### 3.1.1 MLP 0 Hidden Layers Fine-Tuning"
      ],
      "metadata": {
        "id": "AWijkJ2XewFO"
      }
    },
    {
      "cell_type": "markdown",
      "metadata": {
        "id": "4Uuh1B2ALj-2"
      },
      "source": [
        "To start, we will fine-tune a model with 0 hidden layers, meaning we will only have a single weight matrix transposing the inputs to outputs, and a softmax layer to compute the probabilities for each class. This is the same as having a Multi-Class Regression model."
      ]
    },
    {
      "cell_type": "code",
      "execution_count": null,
      "metadata": {
        "colab": {
          "base_uri": "https://localhost:8080/"
        },
        "id": "pTnpEeOrq2GI",
        "outputId": "69596715-10b2-48fc-f0a1-27bb4658d148"
      },
      "outputs": [
        {
          "output_type": "stream",
          "name": "stdout",
          "text": [
            "Training model: LR=0.0001, lambda=1e-09, minibatch size=32, max iters=10000, num layers=0, num hidden units=[]\n"
          ]
        },
        {
          "output_type": "stream",
          "name": "stderr",
          "text": [
            "100%|██████████| 10000/10000 [00:13<00:00, 731.96it/s]\n"
          ]
        },
        {
          "output_type": "stream",
          "name": "stdout",
          "text": [
            "Validation accuracy of the above model: 84.9\n",
            "Training model: LR=0.0001, lambda=1e-08, minibatch size=32, max iters=10000, num layers=0, num hidden units=[]\n"
          ]
        },
        {
          "output_type": "stream",
          "name": "stderr",
          "text": [
            "100%|██████████| 10000/10000 [00:13<00:00, 733.16it/s]\n"
          ]
        },
        {
          "output_type": "stream",
          "name": "stdout",
          "text": [
            "Validation accuracy of the above model: 85.2\n",
            "Training model: LR=0.0001, lambda=1e-09, minibatch size=64, max iters=10000, num layers=0, num hidden units=[]\n"
          ]
        },
        {
          "output_type": "stream",
          "name": "stderr",
          "text": [
            "100%|██████████| 10000/10000 [00:45<00:00, 221.34it/s]\n"
          ]
        },
        {
          "output_type": "stream",
          "name": "stdout",
          "text": [
            "Validation accuracy of the above model: 85.4\n",
            "Training model: LR=0.0001, lambda=1e-08, minibatch size=64, max iters=10000, num layers=0, num hidden units=[]\n"
          ]
        },
        {
          "output_type": "stream",
          "name": "stderr",
          "text": [
            "100%|██████████| 10000/10000 [00:45<00:00, 221.15it/s]\n"
          ]
        },
        {
          "output_type": "stream",
          "name": "stdout",
          "text": [
            "Validation accuracy of the above model: 85.4\n",
            "Training model: LR=0.0001, lambda=1e-09, minibatch size=32, max iters=15000, num layers=0, num hidden units=[]\n"
          ]
        },
        {
          "output_type": "stream",
          "name": "stderr",
          "text": [
            "100%|██████████| 15000/15000 [00:20<00:00, 723.88it/s]\n"
          ]
        },
        {
          "output_type": "stream",
          "name": "stdout",
          "text": [
            "Validation accuracy of the above model: 85.3\n",
            "Training model: LR=0.0001, lambda=1e-08, minibatch size=32, max iters=15000, num layers=0, num hidden units=[]\n"
          ]
        },
        {
          "output_type": "stream",
          "name": "stderr",
          "text": [
            "100%|██████████| 15000/15000 [00:20<00:00, 723.38it/s]\n"
          ]
        },
        {
          "output_type": "stream",
          "name": "stdout",
          "text": [
            "Validation accuracy of the above model: 85.4\n",
            "Training model: LR=0.0001, lambda=1e-09, minibatch size=64, max iters=15000, num layers=0, num hidden units=[]\n"
          ]
        },
        {
          "output_type": "stream",
          "name": "stderr",
          "text": [
            "100%|██████████| 15000/15000 [01:07<00:00, 221.14it/s]\n"
          ]
        },
        {
          "output_type": "stream",
          "name": "stdout",
          "text": [
            "Validation accuracy of the above model: 85.5\n",
            "Training model: LR=0.0001, lambda=1e-08, minibatch size=64, max iters=15000, num layers=0, num hidden units=[]\n"
          ]
        },
        {
          "output_type": "stream",
          "name": "stderr",
          "text": [
            "100%|██████████| 15000/15000 [01:07<00:00, 221.99it/s]\n"
          ]
        },
        {
          "output_type": "stream",
          "name": "stdout",
          "text": [
            "Validation accuracy of the above model: 85.6\n",
            "Best model found, proceeding to train it and compute its optimal accuracies\n"
          ]
        },
        {
          "output_type": "stream",
          "name": "stderr",
          "text": [
            "100%|██████████| 15000/15000 [15:49<00:00, 15.80it/s]\n"
          ]
        },
        {
          "output_type": "stream",
          "name": "stdout",
          "text": [
            "The accuracies of the MLP model with 0 hidden layer, and [] hidden units for the respective layers are:\n",
            "for max_iter = 15000, batch_size = 64, lambda = 1e-08 and learning_rate = 0.0001 are: \n",
            "\t validation accuracy of 85.6% \n",
            "\t testing accuracy of 84.2% \n",
            "\t training accuracy of 86.7%\n",
            "\n"
          ]
        }
      ],
      "source": [
        "mlp0, mlp0_train_ce, mlp0_valid_ce = hyperparameter_tuning(num_hidden_layers_possibilities=[0], \n",
        "                                                           num_hidden_units_possibilities=[[]],\n",
        "                                                           act_fun=relu, \n",
        "                                                           act_fun_grad=relu_grad,\n",
        "                                                           )"
      ]
    },
    {
      "cell_type": "markdown",
      "metadata": {
        "id": "Lfwxe-vNr6sB"
      },
      "source": [
        "The fine-tuned hyperparameters for an MLP with 0 hidden layers with ReLU activation function are:\n",
        "\n",
        "* `max_iter = 15_000`\n",
        "* `minibatch_size = 64`\n",
        "* `lambda_ = 1e-8`\n",
        "* `learning_rate = 1e-4`\n",
        "\n",
        "The respective accuracies are:\n",
        "* `train_acc = 86.7%`\n",
        "* `valid_acc = 85.6%`\n",
        "* `test_acc = 84.2%`"
      ]
    },
    {
      "cell_type": "markdown",
      "source": [
        "To make sure the model converged, we proceed to plot its loss value as a function of time for both the training and validation sets."
      ],
      "metadata": {
        "id": "mNFevYV-yPgg"
      }
    },
    {
      "cell_type": "code",
      "execution_count": null,
      "metadata": {
        "colab": {
          "base_uri": "https://localhost:8080/",
          "height": 357
        },
        "outputId": "5f8e07ae-591a-4ba5-986b-2da9f19c256e",
        "id": "ay_c9gF3P3hl"
      },
      "outputs": [
        {
          "output_type": "display_data",
          "data": {
            "text/plain": [
              "<Figure size 720x360 with 1 Axes>"
            ],
            "image/png": "[encoded data removed]"
          },
          "metadata": {
            "needs_background": "light"
          }
        }
      ],
      "source": [
        "plt.figure(figsize = (10,5))\n",
        "plt.rc('font', size=12) \n",
        "\n",
        "plt.xlabel(\"Iterations\")\n",
        "plt.ylabel(\"CE Loss\")\n",
        "plt.title(\"MLP with 0 hidden layers and ReLU Activation Function\")\n",
        "plt.plot(mlp0_train_ce, 'g', linewidth=0.5, alpha=0.5)\n",
        "plt.plot(mlp0_valid_ce, 'g', linewidth=2)\n",
        "plt.legend(labels = ['Training Loss', 'Validation Loss'])\n",
        "plt.show()"
      ]
    },
    {
      "cell_type": "markdown",
      "source": [
        "Please note that the training error oscillates a lot while the validation error is fairly constant because the training error is computed using minibatches, while the validation error uses the whole validation dataset at every iteration."
      ],
      "metadata": {
        "id": "pg9vsTk1yQ6k"
      }
    },
    {
      "cell_type": "markdown",
      "source": [
        "### 3.1.2 MLP 1 Hidden Layer Fine-Tuning"
      ],
      "metadata": {
        "id": "OGDumrO9fiKR"
      }
    },
    {
      "cell_type": "markdown",
      "metadata": {
        "id": "nYkHrIgfGZb-"
      },
      "source": [
        "Next, we will fine-tune our model with 1 hidden layer and 128 hidden units with the optimal hyperparameters."
      ]
    },
    {
      "cell_type": "code",
      "execution_count": null,
      "metadata": {
        "id": "gT6t-rxZi8ZF",
        "colab": {
          "base_uri": "https://localhost:8080/"
        },
        "outputId": "80bbcdbc-406a-40d5-eafb-a665fd01e7b6"
      },
      "outputs": [
        {
          "metadata": {
            "tags": null
          },
          "name": "stdout",
          "output_type": "stream",
          "text": [
            "Training model: LR=0.0001, lambda=1e-09, minibatch size=32, max iters=10000, num layers=1, num hidden units=[128]\n"
          ]
        },
        {
          "metadata": {
            "tags": null
          },
          "name": "stderr",
          "output_type": "stream",
          "text": [
            "100%|██████████| 10000/10000 [04:23<00:00, 37.93it/s]\n"
          ]
        },
        {
          "metadata": {
            "tags": null
          },
          "name": "stdout",
          "output_type": "stream",
          "text": [
            "Validation accuracy of the above model: 87.7\n",
            "Training model: LR=0.0001, lambda=1e-08, minibatch size=32, max iters=10000, num layers=1, num hidden units=[128]\n"
          ]
        },
        {
          "metadata": {
            "tags": null
          },
          "name": "stderr",
          "output_type": "stream",
          "text": [
            "100%|██████████| 10000/10000 [04:24<00:00, 37.76it/s]\n"
          ]
        },
        {
          "metadata": {
            "tags": null
          },
          "name": "stdout",
          "output_type": "stream",
          "text": [
            "Validation accuracy of the above model: 87.7\n",
            "Training model: LR=0.0001, lambda=1e-09, minibatch size=64, max iters=10000, num layers=1, num hidden units=[128]\n"
          ]
        },
        {
          "metadata": {
            "tags": null
          },
          "name": "stderr",
          "output_type": "stream",
          "text": [
            "100%|██████████| 10000/10000 [08:05<00:00, 20.62it/s]\n"
          ]
        },
        {
          "metadata": {
            "tags": null
          },
          "name": "stdout",
          "output_type": "stream",
          "text": [
            "Validation accuracy of the above model: 88.3\n",
            "Training model: LR=0.0001, lambda=1e-08, minibatch size=64, max iters=10000, num layers=1, num hidden units=[128]\n"
          ]
        },
        {
          "output_type": "stream",
          "name": "stderr",
          "text": [
            "100%|██████████| 10000/10000 [07:57<00:00, 20.93it/s]\n"
          ]
        },
        {
          "output_type": "stream",
          "name": "stdout",
          "text": [
            "Validation accuracy of the above model: 88.1\n",
            "Training model: LR=0.0001, lambda=1e-09, minibatch size=32, max iters=15000, num layers=1, num hidden units=[128]\n"
          ]
        },
        {
          "output_type": "stream",
          "name": "stderr",
          "text": [
            "100%|██████████| 15000/15000 [06:34<00:00, 38.05it/s]\n"
          ]
        },
        {
          "output_type": "stream",
          "name": "stdout",
          "text": [
            "Validation accuracy of the above model: 88.2\n",
            "Training model: LR=0.0001, lambda=1e-08, minibatch size=32, max iters=15000, num layers=1, num hidden units=[128]\n"
          ]
        },
        {
          "output_type": "stream",
          "name": "stderr",
          "text": [
            "100%|██████████| 15000/15000 [06:31<00:00, 38.28it/s]\n"
          ]
        },
        {
          "output_type": "stream",
          "name": "stdout",
          "text": [
            "Validation accuracy of the above model: 88.3\n",
            "Training model: LR=0.0001, lambda=1e-09, minibatch size=64, max iters=15000, num layers=1, num hidden units=[128]\n"
          ]
        },
        {
          "output_type": "stream",
          "name": "stderr",
          "text": [
            "100%|██████████| 15000/15000 [12:02<00:00, 20.76it/s]\n"
          ]
        },
        {
          "output_type": "stream",
          "name": "stdout",
          "text": [
            "Validation accuracy of the above model: 88.6\n",
            "Training model: LR=0.0001, lambda=1e-08, minibatch size=64, max iters=15000, num layers=1, num hidden units=[128]\n"
          ]
        },
        {
          "output_type": "stream",
          "name": "stderr",
          "text": [
            "100%|██████████| 15000/15000 [12:07<00:00, 20.61it/s]\n"
          ]
        },
        {
          "output_type": "stream",
          "name": "stdout",
          "text": [
            "Validation accuracy of the above model: 88.7\n",
            "Best model found, proceeding to train it and compute its optimal accuracies\n"
          ]
        },
        {
          "output_type": "stream",
          "name": "stderr",
          "text": [
            "100%|██████████| 15000/15000 [50:10<00:00,  4.98it/s]\n"
          ]
        },
        {
          "output_type": "stream",
          "name": "stdout",
          "text": [
            "The accuracies of the MLP model with 1 hidden layer, and [128] hidden units for the respective layers are:\n",
            "for max_iter = 15000, batch_size = 64, lambda = 1e-08 and learning_rate = 0.0001 are: \n",
            "\t validation accuracy of 88.7% \n",
            "\t testing accuracy of 87.6% \n",
            "\t training accuracy of 91.8%\n",
            "\n"
          ]
        }
      ],
      "source": [
        "mlp1, mlp1_train_ce, mlp1_valid_ce = hyperparameter_tuning(num_hidden_layers_possibilities=[1], \n",
        "                                                           num_hidden_units_possibilities=[[128]],\n",
        "                                                           act_fun=relu, \n",
        "                                                           act_fun_grad=relu_grad)"
      ]
    },
    {
      "cell_type": "markdown",
      "metadata": {
        "id": "yEQyqu_usWbL"
      },
      "source": [
        "The fine-tuned hyperparameters for an MLP with 1 hidden layer with ReLU activation function are:\n",
        "\n",
        "* `max_iter = 15_000`\n",
        "* `minibatch_size = 64`\n",
        "* `lambda_ = 1e-8`\n",
        "* `learning_rate = 1e-4`\n",
        "\n",
        "The respective accuracies are:\n",
        "* `train_acc = 91.8%`\n",
        "* `valid_acc = 88.7%`\n",
        "* `test_acc = 87.6%`"
      ]
    },
    {
      "cell_type": "markdown",
      "source": [
        "To make sure the model converged, we proceed to plot its loss value as a function of time for both the training and validation sets."
      ],
      "metadata": {
        "id": "QK7G9Ofhyc7G"
      }
    },
    {
      "cell_type": "code",
      "execution_count": null,
      "metadata": {
        "colab": {
          "base_uri": "https://localhost:8080/",
          "height": 357
        },
        "outputId": "f34c0373-f7c3-4b77-bdc5-cc55510f13e5",
        "id": "AWzBGO7Esked"
      },
      "outputs": [
        {
          "output_type": "display_data",
          "data": {
            "text/plain": [
              "<Figure size 720x360 with 1 Axes>"
            ],
            "image/png": "[encoded data removed]"
          },
          "metadata": {
            "needs_background": "light"
          }
        }
      ],
      "source": [
        "plt.figure(figsize = (10,5))\n",
        "plt.rc('font', size=12) \n",
        "\n",
        "plt.xlabel(\"Iterations\")\n",
        "plt.ylabel(\"CE Loss\")\n",
        "plt.title(\"MLP with 1 hidden layer and ReLU Activation Function\")\n",
        "plt.plot(mlp1_train_ce, 'g', linewidth=0.5, alpha=0.5)\n",
        "plt.plot(mlp1_valid_ce, 'g', linewidth=2)\n",
        "plt.legend(labels = ['Training Loss', 'Validation Loss'])\n",
        "plt.show()"
      ]
    },
    {
      "cell_type": "markdown",
      "source": [
        "### 3.1.3 MLP with 2 Hidden Layers Fine-Tuning"
      ],
      "metadata": {
        "id": "hIKmFoDqgKQM"
      }
    },
    {
      "cell_type": "markdown",
      "metadata": {
        "id": "2bnNgAsMcovF"
      },
      "source": [
        "Finally, we fine-tune a model with 2 hidden layers and 128 hidden units each. "
      ]
    },
    {
      "cell_type": "code",
      "execution_count": null,
      "metadata": {
        "colab": {
          "base_uri": "https://localhost:8080/"
        },
        "outputId": "8c93a76e-96a8-435c-d6a9-6a640c474fa8",
        "id": "ooPyNC8NOnn5"
      },
      "outputs": [
        {
          "output_type": "stream",
          "name": "stdout",
          "text": [
            "Training model: LR=0.0001, lambda=1e-09, minibatch size=32, max iters=10000, num layers=2, num hidden units=[128, 128]\n"
          ]
        },
        {
          "output_type": "stream",
          "name": "stderr",
          "text": [
            "100%|██████████| 10000/10000 [05:14<00:00, 31.83it/s]\n"
          ]
        },
        {
          "output_type": "stream",
          "name": "stdout",
          "text": [
            "Validation accuracy of the above model: 87.1\n",
            "Training model: LR=0.0001, lambda=1e-08, minibatch size=32, max iters=10000, num layers=2, num hidden units=[128, 128]\n"
          ]
        },
        {
          "output_type": "stream",
          "name": "stderr",
          "text": [
            "100%|██████████| 10000/10000 [05:14<00:00, 31.80it/s]\n"
          ]
        },
        {
          "output_type": "stream",
          "name": "stdout",
          "text": [
            "Validation accuracy of the above model: 87.1\n",
            "Training model: LR=0.0001, lambda=1e-09, minibatch size=64, max iters=10000, num layers=2, num hidden units=[128, 128]\n"
          ]
        },
        {
          "output_type": "stream",
          "name": "stderr",
          "text": [
            "100%|██████████| 10000/10000 [09:37<00:00, 17.33it/s]\n"
          ]
        },
        {
          "output_type": "stream",
          "name": "stdout",
          "text": [
            "Validation accuracy of the above model: 87.9\n",
            "Training model: LR=0.0001, lambda=1e-08, minibatch size=64, max iters=10000, num layers=2, num hidden units=[128, 128]\n"
          ]
        },
        {
          "output_type": "stream",
          "name": "stderr",
          "text": [
            "100%|██████████| 10000/10000 [09:36<00:00, 17.33it/s]\n"
          ]
        },
        {
          "output_type": "stream",
          "name": "stdout",
          "text": [
            "Validation accuracy of the above model: 87.8\n",
            "Training model: LR=0.0001, lambda=1e-09, minibatch size=32, max iters=15000, num layers=2, num hidden units=[128, 128]\n"
          ]
        },
        {
          "output_type": "stream",
          "name": "stderr",
          "text": [
            "100%|██████████| 15000/15000 [07:51<00:00, 31.78it/s]\n"
          ]
        },
        {
          "output_type": "stream",
          "name": "stdout",
          "text": [
            "Validation accuracy of the above model: 88.0\n",
            "Training model: LR=0.0001, lambda=1e-08, minibatch size=32, max iters=15000, num layers=2, num hidden units=[128, 128]\n"
          ]
        },
        {
          "output_type": "stream",
          "name": "stderr",
          "text": [
            "100%|██████████| 15000/15000 [07:51<00:00, 31.82it/s]\n"
          ]
        },
        {
          "output_type": "stream",
          "name": "stdout",
          "text": [
            "Validation accuracy of the above model: 88.0\n",
            "Training model: LR=0.0001, lambda=1e-09, minibatch size=64, max iters=15000, num layers=2, num hidden units=[128, 128]\n"
          ]
        },
        {
          "output_type": "stream",
          "name": "stderr",
          "text": [
            "100%|██████████| 15000/15000 [14:24<00:00, 17.35it/s]\n"
          ]
        },
        {
          "output_type": "stream",
          "name": "stdout",
          "text": [
            "Validation accuracy of the above model: 88.6\n",
            "Training model: LR=0.0001, lambda=1e-08, minibatch size=64, max iters=15000, num layers=2, num hidden units=[128, 128]\n"
          ]
        },
        {
          "output_type": "stream",
          "name": "stderr",
          "text": [
            "100%|██████████| 15000/15000 [14:24<00:00, 17.36it/s]\n"
          ]
        },
        {
          "output_type": "stream",
          "name": "stdout",
          "text": [
            "Validation accuracy of the above model: 88.6\n",
            "Best model found, proceeding to train it and compute its optimal accuracies\n"
          ]
        },
        {
          "output_type": "stream",
          "name": "stderr",
          "text": [
            "100%|██████████| 15000/15000 [1:25:58<00:00,  2.91it/s]\n"
          ]
        },
        {
          "output_type": "stream",
          "name": "stdout",
          "text": [
            "The accuracies of the MLP model with 2 hidden layer, and [128, 128] hidden units for the respective layers are:\n",
            "for max_iter = 15000, batch_size = 64, lambda = 1e-08 and learning_rate = 0.0001 are: \n",
            "\t validation accuracy of 88.6% \n",
            "\t testing accuracy of 87.4% \n",
            "\t training accuracy of 91.4%\n",
            "\n"
          ]
        }
      ],
      "source": [
        "mlp2, mlp2_train_ce, mlp2_valid_ce = hyperparameter_tuning(num_hidden_layers_possibilities=[2], \n",
        "                                                           num_hidden_units_possibilities=[[128, 128]],\n",
        "                                                           act_fun=relu, \n",
        "                                                           act_fun_grad=relu_grad)"
      ]
    },
    {
      "cell_type": "markdown",
      "metadata": {
        "id": "TZ2yMflptY5R"
      },
      "source": [
        "The fine-tuned hyperparameters for an MLP with 2 hidden layers with ReLU activation function are:\n",
        "\n",
        "* `max_iter = 15_000`\n",
        "* `minibatch_size = 64`\n",
        "* `lambda_ = 1e-8`\n",
        "* `learning_rate = 1e-4`\n",
        "\n",
        "The respective accuracies are:\n",
        "* `train_acc = 91.4%`\n",
        "* `valid_acc = 88.6%`\n",
        "* `test_acc = 87.4%`"
      ]
    },
    {
      "cell_type": "markdown",
      "source": [
        "To make sure the model converged, we proceed to plot its loss value as a function of time for both the training and validation sets."
      ],
      "metadata": {
        "id": "WpcBpIub0_K9"
      }
    },
    {
      "cell_type": "code",
      "execution_count": null,
      "metadata": {
        "id": "f5XKTNulb0wn",
        "colab": {
          "base_uri": "https://localhost:8080/",
          "height": 357
        },
        "outputId": "c6e02afd-76e3-4879-bddc-fd9045f613c0"
      },
      "outputs": [
        {
          "output_type": "display_data",
          "data": {
            "text/plain": [
              "<Figure size 720x360 with 1 Axes>"
            ],
            "image/png": "[encoded data removed]"
          },
          "metadata": {
            "needs_background": "light"
          }
        }
      ],
      "source": [
        "plt.figure(figsize = (10,5))\n",
        "plt.rc('font', size=12) \n",
        "\n",
        "plt.xlabel(\"Iterations\")\n",
        "plt.ylabel(\"CE Loss\")\n",
        "plt.title(\"MLP with 2 hidden layers and ReLU Activation Function\")\n",
        "plt.plot(mlp2_train_ce, 'g', linewidth=0.5, alpha=0.5)\n",
        "plt.plot(mlp2_valid_ce, 'g', linewidth=2)\n",
        "plt.legend(labels = ['Training Loss', 'Validation Loss'])\n",
        "plt.show()"
      ]
    },
    {
      "cell_type": "markdown",
      "source": [
        "### 3.1.4 Comparison of empirical results to the expectations\n",
        "\n",
        "Comparing the results to the expectation, we can come to the two following conclusions:\n",
        "\n",
        "* 1- As expected, both the MLPs with 2 and 1 hidden layers perform better than the MLP with 0 hidden layers, which is again just equivalent to a linear multiclass model, validating our hypothesis about the non-linearity of the ReLU activation function being a positive factor that makes the models more flexible, thus increasing their testing accuracies.\n",
        "\n",
        "* 2-However, surprisingly, the MLP with 1 hidden layer got a slightly higher testing accuracy of `87.6%` compared to just `87.4%` for the MLP with 2 hidden layers. The reason for this result is that, while network depth does indeed increase the flexibility of a model, it also exponentially increases the number of iterations required to train it due to initial layers (close to the input layer) suffering from the vanishing gradient problem. Consequently, due to us only using 15000 iterations to train the model due to time constraints (The hyperparameter tuning took numerous hours,and the deadline was approaching fast), the MLP with 1 hidden layer was able to learn its smaller number of weights better, which leads us to formulate the following conclusion: More layers is indeed better in general, but only if enough computational power is available to train it properly."
      ],
      "metadata": {
        "id": "P4R5o0lqnrbz"
      }
    },
    {
      "cell_type": "markdown",
      "metadata": {
        "id": "7DGfAbd0ccyB"
      },
      "source": [
        "## 3.2 - Comparison of different activation functions\n",
        "\n",
        "We will now compare the usage of different activation functions, namely $Sigmoid$, $tanh$, $ReLU$, and $Leaky-ReLU$ with their corresponding accuracies on the testing set. We will use the previous MLP model trained with $ReLU$ activation function with 2 hidden layers and will fine-tune other models by training them using the rest of the activation functions.\n",
        "\n",
        "To isolate the changes in the activation function, the best hyperparameters were fixed according to the best 2-layer MLP found in the previous section:\n",
        "* `max_iter = 15_000`\n",
        "* `minibatch_size = 64`\n",
        "* `lambda_ = 1e-8`\n",
        "* `learning_rate = 1e-4`\n",
        "\n",
        "We will thus only be varying the activation function and comparing the results."
      ]
    },
    {
      "cell_type": "markdown",
      "source": [
        "### 3.2.1 Leaky-ReLU"
      ],
      "metadata": {
        "id": "7u9ctxK-geZs"
      }
    },
    {
      "cell_type": "code",
      "execution_count": null,
      "metadata": {
        "colab": {
          "base_uri": "https://localhost:8080/"
        },
        "outputId": "60a1459d-1f28-43aa-d6f9-ff2c0dbf1d71",
        "id": "jzubsfbwipi5"
      },
      "outputs": [
        {
          "output_type": "stream",
          "name": "stdout",
          "text": [
            "Training model: LR=0.0001, lambda=1e-08, minibatch size=64, max iters=15000, num layers=2, num hidden units=[128, 128]\n"
          ]
        },
        {
          "output_type": "stream",
          "name": "stderr",
          "text": [
            "100%|██████████| 15000/15000 [14:57<00:00, 16.71it/s]\n"
          ]
        },
        {
          "output_type": "stream",
          "name": "stdout",
          "text": [
            "Validation accuracy of the above model: 88.0\n",
            "Best model found, proceeding to train it and compute its optimal accuracies\n"
          ]
        },
        {
          "output_type": "stream",
          "name": "stderr",
          "text": [
            "100%|██████████| 15000/15000 [14:40<00:00, 17.04it/s]\n"
          ]
        },
        {
          "output_type": "stream",
          "name": "stdout",
          "text": [
            "The accuracies of the MLP model with 2 hidden layer, and [128, 128] hidden units for the respective layers are:\n",
            "for max_iter = 15000, batch_size = 64, lambda = 1e-08 and learning_rate = 0.0001 are: \n",
            "\t validation accuracy of 88.0% \n",
            "\t testing accuracy of 87.3% \n",
            "\t training accuracy of 91.1%\n",
            "\n"
          ]
        }
      ],
      "source": [
        "# Optimize a model using leakyReLU\n",
        "mlp_lr, _, _ = hyperparameter_tuning(num_hidden_layers_possibilities=[2], \n",
        "                                                           num_hidden_units_possibilities=[[128, 128]],\n",
        "                                                           lambda_values=[1e-8],\n",
        "                                                           maxiter_values=[15_000],\n",
        "                                                           batchsize_values=[64],\n",
        "                                                           act_fun=leaky_relu, \n",
        "                                                           act_fun_grad=leaky_relu_grad,\n",
        "                                                           compute_ce=False)"
      ]
    },
    {
      "cell_type": "markdown",
      "source": [
        "The accuracies using Leaky-ReLU are:\n",
        "* `train_acc = 91.1%`\n",
        "* `valid_acc = 88.0%`\n",
        "* `test_acc = 87.3%`"
      ],
      "metadata": {
        "id": "RywcTn4hgkGl"
      }
    },
    {
      "cell_type": "markdown",
      "source": [
        "### 3.2.2 Sigmoid \n",
        "\n",
        "\n"
      ],
      "metadata": {
        "id": "Y6WRSnTchAuB"
      }
    },
    {
      "cell_type": "code",
      "execution_count": null,
      "metadata": {
        "id": "Z5xbyV8ezi7_",
        "colab": {
          "base_uri": "https://localhost:8080/"
        },
        "outputId": "dda14b98-76c1-446d-ac3b-c6ab177f3687"
      },
      "outputs": [
        {
          "output_type": "stream",
          "name": "stdout",
          "text": [
            "Training model: LR=0.0001, lambda=1e-08, minibatch size=64, max iters=15000, num layers=2, num hidden units=[128, 128]\n"
          ]
        },
        {
          "output_type": "stream",
          "name": "stderr",
          "text": [
            "100%|██████████| 15000/15000 [14:56<00:00, 16.74it/s]\n"
          ]
        },
        {
          "output_type": "stream",
          "name": "stdout",
          "text": [
            "Validation accuracy of the above model: 86.7\n",
            "Best model found, proceeding to train it and compute its optimal accuracies\n"
          ]
        },
        {
          "output_type": "stream",
          "name": "stderr",
          "text": [
            "100%|██████████| 15000/15000 [15:14<00:00, 16.41it/s]\n"
          ]
        },
        {
          "output_type": "stream",
          "name": "stdout",
          "text": [
            "The accuracies of the MLP model with 2 hidden layer, and [128, 128] hidden units for the respective layers are:\n",
            "for max_iter = 15000, batch_size = 64, lambda = 1e-08 and learning_rate = 0.0001 are: \n",
            "\t validation accuracy of 86.7% \n",
            "\t testing accuracy of 86.0% \n",
            "\t training accuracy of 88.5%\n",
            "\n"
          ]
        }
      ],
      "source": [
        "# Optimize a model using Sigmoid\n",
        "mlp_sig, _, _ = hyperparameter_tuning(num_hidden_layers_possibilities=[2], \n",
        "                                                           num_hidden_units_possibilities=[[128, 128]],\n",
        "                                                           lambda_values=[1e-8],\n",
        "                                                           maxiter_values=[15_000],\n",
        "                                                           batchsize_values=[64],\n",
        "                                                           act_fun=sigmoid, \n",
        "                                                           act_fun_grad=sigmoid_grad,\n",
        "                                                           compute_ce=False)"
      ]
    },
    {
      "cell_type": "markdown",
      "source": [
        "The accuracies using Sigmoid are:\n",
        "* `train_acc = 88.5%`\n",
        "* `valid_acc = 86.7%`\n",
        "* `test_acc = 86.0%`"
      ],
      "metadata": {
        "id": "dg0JBZGUdZp0"
      }
    },
    {
      "cell_type": "markdown",
      "source": [
        "### 3.2.3 Hyperbolic tangent"
      ],
      "metadata": {
        "id": "-RLPLSMWh57n"
      }
    },
    {
      "cell_type": "code",
      "execution_count": null,
      "metadata": {
        "id": "rL1wGKJgzxqo",
        "colab": {
          "base_uri": "https://localhost:8080/"
        },
        "outputId": "199e4cdb-ab6a-4363-a74d-9389ca737ce0"
      },
      "outputs": [
        {
          "output_type": "stream",
          "name": "stdout",
          "text": [
            "Training model: LR=0.0001, lambda=1e-08, minibatch size=64, max iters=15000, num layers=2, num hidden units=[128, 128]\n"
          ]
        },
        {
          "output_type": "stream",
          "name": "stderr",
          "text": [
            "100%|██████████| 15000/15000 [16:04<00:00, 15.55it/s]\n"
          ]
        },
        {
          "output_type": "stream",
          "name": "stdout",
          "text": [
            "Validation accuracy of the above model: 88.4\n",
            "Best model found, proceeding to train it and compute its optimal accuracies\n"
          ]
        },
        {
          "output_type": "stream",
          "name": "stderr",
          "text": [
            "100%|██████████| 15000/15000 [15:53<00:00, 15.73it/s]\n"
          ]
        },
        {
          "output_type": "stream",
          "name": "stdout",
          "text": [
            "The accuracies of the MLP model with 2 hidden layer, and [128, 128] hidden units for the respective layers are:\n",
            "for max_iter = 15000, batch_size = 64, lambda = 1e-08 and learning_rate = 0.0001 are: \n",
            "\t validation accuracy of 88.4% \n",
            "\t testing accuracy of 87.7% \n",
            "\t training accuracy of 94.0%\n",
            "\n"
          ]
        }
      ],
      "source": [
        "# Optimize a model using Sigmoid\n",
        "mlp_tanh, _, _ = hyperparameter_tuning(num_hidden_layers_possibilities=[2], \n",
        "                                                      num_hidden_units_possibilities=[[128, 128]],\n",
        "                                                      lambda_values=[1e-8],\n",
        "                                                      maxiter_values=[15_000],\n",
        "                                                      batchsize_values=[64],\n",
        "                                                      act_fun=hyperbolic_tangent, \n",
        "                                                      act_fun_grad=hyperbolic_tangent_grad,\n",
        "                                                      compute_ce=False)"
      ]
    },
    {
      "cell_type": "markdown",
      "source": [
        "The accuracies using Tanh are:\n",
        "* `train_acc = 94.0%`\n",
        "* `valid_acc = 88.4%`\n",
        "* `test_acc = 87.7%`"
      ],
      "metadata": {
        "id": "o0bF10jteSsK"
      }
    },
    {
      "cell_type": "markdown",
      "source": [
        "### 3.2.4 ReLU"
      ],
      "metadata": {
        "id": "4ozHACb0t9nY"
      }
    },
    {
      "cell_type": "markdown",
      "source": [
        "Using the results from section `3.1.3`, the testing accuracy using the ReLU activation function is `87.4%`, while the training and validation accuracies are respectively `91.4%` and `88.6%`."
      ],
      "metadata": {
        "id": "Q8MD-oW_uCpS"
      }
    },
    {
      "cell_type": "markdown",
      "source": [
        "### 3.2.5 Comparison of the functions"
      ],
      "metadata": {
        "id": "CnMtA4OyiRhG"
      }
    },
    {
      "cell_type": "markdown",
      "source": [
        "Comparing the various activation functions presented in the previous sections, we can see that, surprisingly, the hyperbolic tangent activation function performs the best on the testing dataset, with a staggering testing accuracy of `88.7%`.\n",
        "\n",
        "Knowing that the hyperbolic function has a saturating gradient, our expectation was that it would suffer the same faith as the sigmoid activation function, which only could achieve an `86.0%` testing accuracy, lower by at least a full 1% than any other function, because of its vanishing gradient problem.\n",
        "\n",
        "However, we must account for the fact that only 2 hidden layers were used here, and thus the vanishing gradient problem is not as important as it would be in a 5 layer MLP for instance, as will be demonstrated in section 3.6 of the report."
      ],
      "metadata": {
        "id": "HGD3TccRuv01"
      }
    },
    {
      "cell_type": "markdown",
      "source": [
        "To visualize our findings, and since the accuracies are so close to each other, we will use an anotated bar plot"
      ],
      "metadata": {
        "id": "j9z2hoLJv-4D"
      }
    },
    {
      "cell_type": "code",
      "source": [
        "# Store the accuracies in variables to re-use them later\n",
        "mlp_relu_test_acc = 0.874\n",
        "mlp_lr_test_acc = 0.873\n",
        "mlp_sig_test_acc = 0.860\n",
        "mlp_tanh_test_acc = 0.877"
      ],
      "metadata": {
        "id": "pjvK8-hm3mYw"
      },
      "execution_count": null,
      "outputs": []
    },
    {
      "cell_type": "code",
      "execution_count": null,
      "metadata": {
        "colab": {
          "base_uri": "https://localhost:8080/",
          "height": 340
        },
        "id": "U33-UDbMy45O",
        "outputId": "5d225c33-7a76-4a5f-c8da-cf0e0dd0c127"
      },
      "outputs": [
        {
          "output_type": "display_data",
          "data": {
            "text/plain": [
              "<Figure size 720x360 with 1 Axes>"
            ],
            "image/png": "[encoded data removed]"
          },
          "metadata": {
            "needs_background": "light"
          }
        }
      ],
      "source": [
        "act_fun_acc = []\n",
        "for acc in [mlp_relu_test_acc, mlp_lr_test_acc, mlp_sig_test_acc, mlp_tanh_test_acc]:\n",
        "  act_fun_acc.append(round(acc*100, 2))\n",
        "\n",
        "accuracy_x_labels = ['ReLU', 'Leaky-ReLU', 'Sigmoid', 'Tanh']\n",
        "\n",
        "x_axis = np.arange(len(accuracy_x_labels))\n",
        "\n",
        "plt.figure(figsize = (10,5))\n",
        "plt.rc('font', size=12)\n",
        "\n",
        "plt.bar(x_axis, act_fun_acc, 0.4, color=['b'], alpha=0.3)\n",
        "\n",
        "for i in range(len(accuracy_x_labels)):\n",
        "    plt.text(i, act_fun_acc[i], act_fun_acc[i], ha='center')\n",
        "\n",
        "plt.xticks(x_axis, accuracy_x_labels)\n",
        "plt.ylabel(\"Accuracy (%)\")\n",
        "plt.title(\"Accuracy Scores of Fine-Tuned MLP with Different Activation Funcitons\")\n",
        "plt.show()"
      ]
    },
    {
      "cell_type": "markdown",
      "source": [
        "As can be seen above, Tanh tops the group in accuracy, followed by ReLU, then Leaky-ReLU, and finally Sigmoid, faring much worse than the others. The reason for ReLU doing better than Leaky-ReLU is due to pure randomness, since again leaky ReLU is supposed to do better when faced with the vanishing gradient problem since it still backpropagates a small value α for negative numbers, but our number of layers is too small for that to have any meaningful impact, and our two functions ended up having very close accuracies of`87.4%` for ReLU compared to `87.3%` for leaky-ReLU, hence not a meaningful difference by any margin."
      ],
      "metadata": {
        "id": "uH4JjrCbwnou"
      }
    },
    {
      "cell_type": "markdown",
      "metadata": {
        "id": "lAlcyE2iYLQ8"
      },
      "source": [
        "## 3.3 - Exploring the effects of L2 regularization\n",
        "\n",
        "In this section, we will compare a L2-regularized MLP instance with 2 hidden layers, 128 hidden units and ReLU activation functions to the same model without a regularization parameter. We will use the previously fine-tuned model `mlp2` for our purposes and train and fine-tune a different instance that uses no regularization parameter using the same fine-tuning function as above, but without testing for lambda values."
      ]
    },
    {
      "cell_type": "markdown",
      "source": [
        "### 3.3.1 MLP Fine-Tuning without regularization"
      ],
      "metadata": {
        "id": "Kel41i8doNI0"
      }
    },
    {
      "cell_type": "code",
      "execution_count": null,
      "metadata": {
        "colab": {
          "base_uri": "https://localhost:8080/"
        },
        "outputId": "98f6ced4-a257-431b-82e5-94edc7de06de",
        "id": "shij0at2WmVZ"
      },
      "outputs": [
        {
          "output_type": "stream",
          "name": "stdout",
          "text": [
            "Training model: LR=0.0001, lambda=0, minibatch size=32, max iters=10000, num layers=2, num hidden units=[128, 128]\n"
          ]
        },
        {
          "output_type": "stream",
          "name": "stderr",
          "text": [
            "100%|██████████| 10000/10000 [03:05<00:00, 53.85it/s]\n"
          ]
        },
        {
          "output_type": "stream",
          "name": "stdout",
          "text": [
            "Validation accuracy of the above model: 87.2\n",
            "Training model: LR=0.0001, lambda=0, minibatch size=64, max iters=10000, num layers=2, num hidden units=[128, 128]\n"
          ]
        },
        {
          "output_type": "stream",
          "name": "stderr",
          "text": [
            "100%|██████████| 10000/10000 [05:47<00:00, 28.76it/s]\n"
          ]
        },
        {
          "output_type": "stream",
          "name": "stdout",
          "text": [
            "Validation accuracy of the above model: 88.2\n",
            "Training model: LR=0.0001, lambda=0, minibatch size=32, max iters=15000, num layers=2, num hidden units=[128, 128]\n"
          ]
        },
        {
          "output_type": "stream",
          "name": "stderr",
          "text": [
            "100%|██████████| 15000/15000 [05:08<00:00, 48.62it/s]\n"
          ]
        },
        {
          "output_type": "stream",
          "name": "stdout",
          "text": [
            "Validation accuracy of the above model: 88.2\n",
            "Training model: LR=0.0001, lambda=0, minibatch size=64, max iters=15000, num layers=2, num hidden units=[128, 128]\n"
          ]
        },
        {
          "output_type": "stream",
          "name": "stderr",
          "text": [
            "100%|██████████| 15000/15000 [10:02<00:00, 24.90it/s]\n"
          ]
        },
        {
          "output_type": "stream",
          "name": "stdout",
          "text": [
            "Validation accuracy of the above model: 88.2\n",
            "Best model found, proceeding to train it and compute its optimal accuracies\n"
          ]
        },
        {
          "output_type": "stream",
          "name": "stderr",
          "text": [
            "100%|██████████| 10000/10000 [06:11<00:00, 26.92it/s]\n"
          ]
        },
        {
          "output_type": "stream",
          "name": "stdout",
          "text": [
            "The accuracies of the MLP model with 2 hidden layer, and [128, 128] hidden units for the respective layers are:\n",
            "for max_iter = 10000, batch_size = 64, lambda = 0 and learning_rate = 0.0001 are: \n",
            "\t validation accuracy of 88.2% \n",
            "\t testing accuracy of 86.8% \n",
            "\t training accuracy of 90.1%\n",
            "\n"
          ]
        }
      ],
      "source": [
        "# MLP model without regularization\n",
        "no_l2_mlp, _, _ = hyperparameter_tuning(num_hidden_layers_possibilities=[2], \n",
        "                                        num_hidden_units_possibilities=[[128, 128]],\n",
        "                                        lambda_values=[0],\n",
        "                                        act_fun=relu, \n",
        "                                        act_fun_grad=relu_grad,\n",
        "                                        compute_ce = False)"
      ]
    },
    {
      "cell_type": "markdown",
      "source": [
        "The fine-tuned hyperparameters for an MLP with 2 hidden layers, ReLU activation function without regularization are:\n",
        "\n",
        "* `max_iter = 10_000`\n",
        "* `minibatch_size = 64`\n",
        "* `lambda_ = 0`\n",
        "* `learning_rate = 1e-4`\n",
        "\n",
        "The respective accuracies are:\n",
        "* `train_acc = 90.1%`\n",
        "* `valid_acc = 88.2%`\n",
        "* `test_acc = 86.8%`"
      ],
      "metadata": {
        "id": "PM4CEBz_n6qz"
      }
    },
    {
      "cell_type": "markdown",
      "source": [
        "### 3.3.2 Results"
      ],
      "metadata": {
        "id": "0g1vR2HroL8-"
      }
    },
    {
      "cell_type": "markdown",
      "metadata": {
        "id": "X9PeCCDXIo5_"
      },
      "source": [
        "With regularization, the fine-tuned MLP with 2 hidden layers of width 128 each achieved a testing accuracy of `87.4%`, compared to just `86.8%` without regularization. While the margin is relatively small, this goes to show that L2-regularization prevents training set overfitting, and that regularized models generalize better to unseen data such as the testing set here. The reason why the margin is very small is because we only used 2 hidden layers for the comparison, and the effects would be amplified by increasing the depth of the neural network which we cannot afford to do due to very long training times. In order to prove that the results are indeed due to L2-regularization, we will proceed to explore the effect it had on the weights in the following section."
      ]
    },
    {
      "cell_type": "markdown",
      "source": [
        "### 3.3.3 Proving that L2-regularization does impact the weights of the model [TODO finish]"
      ],
      "metadata": {
        "id": "OwdzFosH5GpT"
      }
    },
    {
      "cell_type": "markdown",
      "source": [
        "Following the very slight margin by which L2-regularization impacted the results in the previous section, this section is included to prove to the reader that the L2 regularization implemented in the model section does indeed reduce the scale of the weights. We will proceed to train a model with a much higher lambda value, and verify how it affects the weight calculations."
      ],
      "metadata": {
        "id": "Aam57WXE5MLw"
      }
    },
    {
      "cell_type": "code",
      "source": [
        "# Train a model with lambda = 0.1\n",
        "mlp_big_lambda = MLP(D = X_train.shape[-1], \n",
        "          num_outputs = 10, \n",
        "          num_hidden_layers = 2, \n",
        "          num_hidden_units = [128, 128], \n",
        "          hidden_activation = relu, \n",
        "          hidden_activation_gradient = relu_grad)\n",
        "\n",
        "_ = mlp_big_lambda.fit(X_train, y_train, X_validate, y_validate,\n",
        "                  learning_rate=1e-4, max_iter=15_000,\n",
        "                  minibatch_size=64, lambda_=0.1,\n",
        "                  compute_ce_train=False, compute_ce_valid=False)     "
      ],
      "metadata": {
        "colab": {
          "base_uri": "https://localhost:8080/"
        },
        "id": "ysakEkFy_TZi",
        "outputId": "13aea26d-58f4-4c36-9d81-1cbbe9e6c532"
      },
      "execution_count": null,
      "outputs": [
        {
          "output_type": "stream",
          "name": "stderr",
          "text": [
            "100%|██████████| 15000/15000 [09:06<00:00, 27.46it/s]\n"
          ]
        }
      ]
    },
    {
      "cell_type": "code",
      "source": [
        "# Find the sum of the squared weights for the heavily regularized model\n",
        "_, sum_of_squared_weights_regularized = mlp_big_lambda.forward_pass(X_train)\n",
        "\n",
        "# Find the sum of the squared weights for the unregularized model\n",
        "_, sum_of_squared_weights_unregularized = no_l2_mlp.forward_pass(X_train)\n",
        "\n",
        "# Print the results\n",
        "print(f\"Using L2-regularization with lambda = 0.1, we get a SSW = {sum_of_squared_weights_regularized}.\")\n",
        "print(f\"Using no L2-regularization, we get a SSW = {sum_of_squared_weights_unregularized}.\")"
      ],
      "metadata": {
        "colab": {
          "base_uri": "https://localhost:8080/"
        },
        "id": "XwYOAKAw6dkN",
        "outputId": "73265f75-c91d-461f-a844-fbe992aa4019"
      },
      "execution_count": null,
      "outputs": [
        {
          "output_type": "stream",
          "name": "stdout",
          "text": [
            "Using L2-regularization with lambda = 0.1, we get a SSW = 11.299881840815841.\n",
            "Using no L2-regularization, we get a SSW = 122.9284578419303.\n"
          ]
        }
      ]
    },
    {
      "cell_type": "markdown",
      "source": [
        "As expected, using a large lambda, the weights stay extremely small, validating the correctness of the implementation of L2-regularization in our model section. However, such a large value of lambda would lead to the weights not learning anything, thus leading to worse accuracies, as shown below."
      ],
      "metadata": {
        "id": "bcVtmKaP9qqt"
      }
    },
    {
      "cell_type": "code",
      "source": [
        "big_lambda_testing_accuracy = evaluate_acc(y_test, mlp_big_lambda.predict(X_test))\n",
        "print(f\"Testing accuracy with lambda = 0.1: {big_lambda_testing_accuracy*100}%\")"
      ],
      "metadata": {
        "colab": {
          "base_uri": "https://localhost:8080/"
        },
        "id": "YfMk9PPJCj-r",
        "outputId": "38537d50-1428-471a-f94f-0994c69dcd0b"
      },
      "execution_count": null,
      "outputs": [
        {
          "output_type": "stream",
          "name": "stdout",
          "text": [
            "Testing accuracy with lambda = 0.1: 77.06%\n"
          ]
        }
      ]
    },
    {
      "cell_type": "markdown",
      "source": [
        "Indeed, using `lambda = 0.1` fares much worse than both no regularization and `lambda = 10^(-8)`, which explains why our HP tuning led to choosing very small lambda through validation."
      ],
      "metadata": {
        "id": "XT5henwxDCzJ"
      }
    },
    {
      "cell_type": "markdown",
      "metadata": {
        "id": "tlWBxJwQccyK"
      },
      "source": [
        "## 3.4 - Exploring the effects of normalization\n",
        "\n",
        "In this section, we will compare the performance of our MLP model will the same instantiation parameters trained on normalized and unnormalized datasets. Since all the grayscale values were already in the range of 0 to 255, the results should not change, except if some of the values overflow. \n",
        "\n",
        "We will therefore perform hyperparameter tuning again, on the unnormalized dataset, since we already hypertuned the normalized one. We will instantiate two models to hypertune, one with 1 hidden layer and one with 2 hidden layers. We will use the ReLU activation function with 128 hidden inputs for both models.\n",
        "\n",
        "We will then compare the performance of the MLP with 1 hidden layer using non normalized dataset with the already computed performance of the MLP that uses the normalized one. We will perform the same comparison with the 2 hidden layers MLP. These two comparisons will be based on testing accuracies. \n",
        "\n"
      ]
    },
    {
      "cell_type": "markdown",
      "source": [
        "### 3.4.1 MLP with 1 Hidden Layer on Unnormalized Data Fine-Tuning"
      ],
      "metadata": {
        "id": "QSOIZkT9o_DT"
      }
    },
    {
      "cell_type": "code",
      "execution_count": null,
      "metadata": {
        "id": "i7nO2KPJJT11",
        "colab": {
          "base_uri": "https://localhost:8080/"
        },
        "outputId": "24bb2e8a-3330-4fa1-d84e-0f4be2fe2af6"
      },
      "outputs": [
        {
          "metadata": {
            "tags": null
          },
          "name": "stdout",
          "output_type": "stream",
          "text": [
            "Training model: LR=0.0001, lambda=1e-09, minibatch size=32, max iters=10000, num layers=1, num hidden units=[128]\n"
          ]
        },
        {
          "output_type": "stream",
          "name": "stderr",
          "text": [
            "100%|██████████| 10000/10000 [05:27<00:00, 30.49it/s]\n"
          ]
        },
        {
          "output_type": "stream",
          "name": "stdout",
          "text": [
            "Validation accuracy of the above model: 87.6\n",
            "Training model: LR=0.0001, lambda=1e-08, minibatch size=32, max iters=10000, num layers=1, num hidden units=[128]\n"
          ]
        },
        {
          "output_type": "stream",
          "name": "stderr",
          "text": [
            "100%|██████████| 10000/10000 [05:27<00:00, 30.51it/s]\n"
          ]
        },
        {
          "output_type": "stream",
          "name": "stdout",
          "text": [
            "Validation accuracy of the above model: 88.2\n",
            "Training model: LR=0.0001, lambda=1e-09, minibatch size=64, max iters=10000, num layers=1, num hidden units=[128]\n"
          ]
        },
        {
          "output_type": "stream",
          "name": "stderr",
          "text": [
            "100%|██████████| 10000/10000 [10:02<00:00, 16.60it/s]\n"
          ]
        },
        {
          "output_type": "stream",
          "name": "stdout",
          "text": [
            "Validation accuracy of the above model: 88.4\n",
            "Training model: LR=0.0001, lambda=1e-08, minibatch size=64, max iters=10000, num layers=1, num hidden units=[128]\n"
          ]
        },
        {
          "output_type": "stream",
          "name": "stderr",
          "text": [
            "100%|██████████| 10000/10000 [10:03<00:00, 16.56it/s]\n"
          ]
        },
        {
          "output_type": "stream",
          "name": "stdout",
          "text": [
            "Validation accuracy of the above model: 89.0\n",
            "Training model: LR=0.0001, lambda=1e-09, minibatch size=32, max iters=15000, num layers=1, num hidden units=[128]\n"
          ]
        },
        {
          "output_type": "stream",
          "name": "stderr",
          "text": [
            "100%|██████████| 15000/15000 [08:01<00:00, 31.15it/s]\n"
          ]
        },
        {
          "output_type": "stream",
          "name": "stdout",
          "text": [
            "Validation accuracy of the above model: 87.8\n",
            "Training model: LR=0.0001, lambda=1e-08, minibatch size=32, max iters=15000, num layers=1, num hidden units=[128]\n"
          ]
        },
        {
          "output_type": "stream",
          "name": "stderr",
          "text": [
            "100%|██████████| 15000/15000 [07:49<00:00, 31.97it/s]\n"
          ]
        },
        {
          "output_type": "stream",
          "name": "stdout",
          "text": [
            "Validation accuracy of the above model: 88.1\n",
            "Training model: LR=0.0001, lambda=1e-09, minibatch size=64, max iters=15000, num layers=1, num hidden units=[128]\n"
          ]
        },
        {
          "output_type": "stream",
          "name": "stderr",
          "text": [
            "100%|██████████| 15000/15000 [14:54<00:00, 16.77it/s]\n"
          ]
        },
        {
          "output_type": "stream",
          "name": "stdout",
          "text": [
            "Validation accuracy of the above model: 88.7\n",
            "Training model: LR=0.0001, lambda=1e-08, minibatch size=64, max iters=15000, num layers=1, num hidden units=[128]\n"
          ]
        },
        {
          "output_type": "stream",
          "name": "stderr",
          "text": [
            "100%|██████████| 15000/15000 [14:38<00:00, 17.07it/s]\n"
          ]
        },
        {
          "output_type": "stream",
          "name": "stdout",
          "text": [
            "Validation accuracy of the above model: 89.1\n",
            "Best model found, proceeding to train it and compute its optimal accuracies\n"
          ]
        },
        {
          "output_type": "stream",
          "name": "stderr",
          "text": [
            "100%|██████████| 15000/15000 [1:52:57<00:00,  2.21it/s]\n"
          ]
        },
        {
          "output_type": "stream",
          "name": "stdout",
          "text": [
            "The accuracies of the MLP model with 1 hidden layer, and [128] hidden units for the respective layers are:\n",
            "for max_iter = 15000, batch_size = 64, lambda = 1e-08 and learning_rate = 0.0001 are: \n",
            "\t validation accuracy of 89.1% \n",
            "\t testing accuracy of 87.9% \n",
            "\t training accuracy of 93.9%\n",
            "\n"
          ]
        }
      ],
      "source": [
        "# We fine-tune a model with 1 hidden layer and 128 hidden units each on the not normalized dataset (raw_data=True)\n",
        "mlp1_notnorm, mlp1_train_ce_notnorm, mlp1_valid_ce_notnorm = hyperparameter_tuning(num_hidden_layers_possibilities=[1], \n",
        "                                                           num_hidden_units_possibilities=[[128]],\n",
        "                                                           act_fun=relu, \n",
        "                                                           act_fun_grad=relu_grad, \n",
        "                                                           raw_data=True)"
      ]
    },
    {
      "cell_type": "markdown",
      "source": [
        "The fine-tuned hyperparameters for an MLP with 1 hidden layer, ReLU activation function on unnormalized output are:\n",
        "\n",
        "* `max_iter = 15_000`\n",
        "* `minibatch_size = 64`\n",
        "* `lambda_ = 1e-8`\n",
        "* `learning_rate = 1e-4`\n",
        "\n",
        "The respective accuracies are:\n",
        "* `train_acc = 93.9%`\n",
        "* `valid_acc = 89.1%`\n",
        "* `test_acc = 87.9%`"
      ],
      "metadata": {
        "id": "2v-6jP7Jowa3"
      }
    },
    {
      "cell_type": "markdown",
      "source": [
        "Making sure the model converged by visualizing the cost function."
      ],
      "metadata": {
        "id": "IgFArMHH2sz2"
      }
    },
    {
      "cell_type": "code",
      "execution_count": null,
      "metadata": {
        "id": "UIp_H9JbwOOY",
        "colab": {
          "base_uri": "https://localhost:8080/",
          "height": 357
        },
        "outputId": "dacd23de-8712-419d-b361-6ea06ab2acb4"
      },
      "outputs": [
        {
          "output_type": "display_data",
          "data": {
            "text/plain": [
              "<Figure size 720x360 with 1 Axes>"
            ],
            "image/png": "[encoded data removed]"
          },
          "metadata": {
            "needs_background": "light"
          }
        }
      ],
      "source": [
        "plt.figure(figsize = (10,5))\n",
        "plt.rc('font', size=12) \n",
        "\n",
        "plt.xlabel(\"Iterations\")\n",
        "plt.ylabel(\"CE Loss\")\n",
        "plt.title(\"MLP with 1 hidden layer and ReLU on Unnormalized Data\")\n",
        "plt.plot(mlp1_train_ce_notnorm, 'g', linewidth=0.5, alpha=0.5)\n",
        "plt.plot(mlp1_valid_ce_notnorm, 'g', linewidth=2)\n",
        "plt.legend(labels = ['Training Loss', 'Validation Loss'])\n",
        "plt.show()"
      ]
    },
    {
      "cell_type": "markdown",
      "source": [
        "### 3.4.2 MLP with 2 Hidden Layers on Unnormalized Data Fine-Tuning\n",
        "We now perform the same comparison by adding an extra hidden layer to the MLP (2 hidden layers)."
      ],
      "metadata": {
        "id": "QetqLOeQzr9x"
      }
    },
    {
      "cell_type": "code",
      "source": [
        "# We fine-tune a model with 2 hidden layers and 128 hidden units each on the not normalized dataset (raw_data=True)\n",
        "mlp2_notnorm, mlp2_train_ce_notnorm, mlp2_valid_ce_notnorm = hyperparameter_tuning(num_hidden_layers_possibilities=[2], \n",
        "                                                           num_hidden_units_possibilities=[[128, 128]],\n",
        "                                                           act_fun=relu, \n",
        "                                                           act_fun_grad=relu_grad, \n",
        "                                                           raw_data=True)"
      ],
      "metadata": {
        "colab": {
          "base_uri": "https://localhost:8080/"
        },
        "outputId": "12284e72-1cc0-4433-d85e-598fbd73f85a",
        "id": "o_L1oh4NCC4I"
      },
      "execution_count": null,
      "outputs": [
        {
          "output_type": "stream",
          "name": "stdout",
          "text": [
            "Training model: LR=0.0001, lambda=1e-09, minibatch size=32, max iters=10000, num layers=2, num hidden units=[128, 128]\n"
          ]
        },
        {
          "output_type": "stream",
          "name": "stderr",
          "text": [
            "100%|██████████| 10000/10000 [06:46<00:00, 24.59it/s]\n"
          ]
        },
        {
          "output_type": "stream",
          "name": "stdout",
          "text": [
            "Validation accuracy of the above model: 87.0\n",
            "Training model: LR=0.0001, lambda=1e-08, minibatch size=32, max iters=10000, num layers=2, num hidden units=[128, 128]\n"
          ]
        },
        {
          "output_type": "stream",
          "name": "stderr",
          "text": [
            "100%|██████████| 10000/10000 [06:26<00:00, 25.89it/s]\n"
          ]
        },
        {
          "output_type": "stream",
          "name": "stdout",
          "text": [
            "Validation accuracy of the above model: 87.5\n",
            "Training model: LR=0.0001, lambda=1e-09, minibatch size=64, max iters=10000, num layers=2, num hidden units=[128, 128]\n"
          ]
        },
        {
          "output_type": "stream",
          "name": "stderr",
          "text": [
            "100%|██████████| 10000/10000 [11:39<00:00, 14.29it/s]\n"
          ]
        },
        {
          "output_type": "stream",
          "name": "stdout",
          "text": [
            "Validation accuracy of the above model: 89.4\n",
            "Training model: LR=0.0001, lambda=1e-08, minibatch size=64, max iters=10000, num layers=2, num hidden units=[128, 128]\n"
          ]
        },
        {
          "output_type": "stream",
          "name": "stderr",
          "text": [
            "100%|██████████| 10000/10000 [11:36<00:00, 14.36it/s]\n"
          ]
        },
        {
          "output_type": "stream",
          "name": "stdout",
          "text": [
            "Validation accuracy of the above model: 88.9\n",
            "Training model: LR=0.0001, lambda=1e-09, minibatch size=32, max iters=15000, num layers=2, num hidden units=[128, 128]\n"
          ]
        },
        {
          "output_type": "stream",
          "name": "stderr",
          "text": [
            "100%|██████████| 15000/15000 [09:43<00:00, 25.71it/s]\n"
          ]
        },
        {
          "output_type": "stream",
          "name": "stdout",
          "text": [
            "Validation accuracy of the above model: 89.1\n",
            "Training model: LR=0.0001, lambda=1e-08, minibatch size=32, max iters=15000, num layers=2, num hidden units=[128, 128]\n"
          ]
        },
        {
          "output_type": "stream",
          "name": "stderr",
          "text": [
            "100%|██████████| 15000/15000 [09:28<00:00, 26.38it/s]\n"
          ]
        },
        {
          "output_type": "stream",
          "name": "stdout",
          "text": [
            "Validation accuracy of the above model: 88.5\n",
            "Training model: LR=0.0001, lambda=1e-09, minibatch size=64, max iters=15000, num layers=2, num hidden units=[128, 128]\n"
          ]
        },
        {
          "output_type": "stream",
          "name": "stderr",
          "text": [
            "100%|██████████| 15000/15000 [17:14<00:00, 14.51it/s]\n"
          ]
        },
        {
          "output_type": "stream",
          "name": "stdout",
          "text": [
            "Validation accuracy of the above model: 89.1\n",
            "Training model: LR=0.0001, lambda=1e-08, minibatch size=64, max iters=15000, num layers=2, num hidden units=[128, 128]\n"
          ]
        },
        {
          "output_type": "stream",
          "name": "stderr",
          "text": [
            "100%|██████████| 15000/15000 [17:04<00:00, 14.64it/s]\n"
          ]
        },
        {
          "output_type": "stream",
          "name": "stdout",
          "text": [
            "Validation accuracy of the above model: 88.6\n",
            "Best model found, proceeding to train it and compute its optimal accuracies\n"
          ]
        },
        {
          "output_type": "stream",
          "name": "stderr",
          "text": [
            "100%|██████████| 10000/10000 [1:37:15<00:00,  1.71it/s]\n"
          ]
        },
        {
          "output_type": "stream",
          "name": "stdout",
          "text": [
            "The accuracies of the MLP model with 2 hidden layer, and [128, 128] hidden units for the respective layers are:\n",
            "for max_iter = 10000, batch_size = 64, lambda = 1e-09 and learning_rate = 0.0001 are: \n",
            "\t validation accuracy of 89.4% \n",
            "\t testing accuracy of 87.9% \n",
            "\t training accuracy of 92.3%\n",
            "\n"
          ]
        }
      ]
    },
    {
      "cell_type": "markdown",
      "source": [
        "The fine-tuned hyperparameters for an MLP with 2 hidden layers, ReLU activation function on unnormalized output are:\n",
        "\n",
        "* `max_iter = 10_000`\n",
        "* `minibatch_size = 64`\n",
        "* `lambda_ = 1e-9`\n",
        "* `learning_rate = 1e-4`\n",
        "\n",
        "The respective accuracies are:\n",
        "* `train_acc = 92.3%`\n",
        "* `valid_acc = 89.4%`\n",
        "* `test_acc = 87.9%`"
      ],
      "metadata": {
        "id": "hWcdR22Jo3JY"
      }
    },
    {
      "cell_type": "markdown",
      "source": [
        "Making sure the model converged by visualizing the cost function."
      ],
      "metadata": {
        "id": "EUNGkar821EU"
      }
    },
    {
      "cell_type": "code",
      "source": [
        "plt.figure(figsize = (10,5))\n",
        "plt.rc('font', size=12) \n",
        "\n",
        "plt.xlabel(\"Iterations\")\n",
        "plt.ylabel(\"CE Loss\")\n",
        "plt.title(\"MLP with 2 hidden layers and ReLU on Unnormalized Data\")\n",
        "plt.plot(mlp2_train_ce_notnorm, 'g', linewidth=0.5, alpha=0.5)\n",
        "plt.plot(mlp2_valid_ce_notnorm, 'g', linewidth=2)\n",
        "plt.legend(labels = ['Training Loss', 'Validation Loss'])\n",
        "plt.show()"
      ],
      "metadata": {
        "id": "5JjxxBsvtJsd",
        "colab": {
          "base_uri": "https://localhost:8080/",
          "height": 357
        },
        "outputId": "35668499-f4b2-4108-c121-2b8924f9369b"
      },
      "execution_count": null,
      "outputs": [
        {
          "output_type": "display_data",
          "data": {
            "text/plain": [
              "<Figure size 720x360 with 1 Axes>"
            ],
            "image/png": "[encoded data removed]"
          },
          "metadata": {
            "needs_background": "light"
          }
        }
      ]
    },
    {
      "cell_type": "markdown",
      "source": [
        "### 3.4.3 Results\n",
        "\n",
        "The resulting testing accuracies for both 1-layer and 2-layer MLPs are the equivalent, namely `87.9%`.\n",
        "\n",
        "Comparing to sections 3.1.2 and 3.1.3 where we used normalized data, the testing accuracy of a fine-tuned 1-layer MLP model with unnormalized data is `87.9%`, which is slightly higher but not by a significant margin the the `87.6%` achieved by the MLP using normalized data.\n",
        "\n",
        "Similarly, for the fine-tuned 2-layer MLP, the testing accuracy is `87.9%`, higher than `87.4%` for the fine-tuned 2-layer MLP, but again by a very slight margin.\n",
        "\n",
        "The reasons for the above differences can be attributed to pure randomness and the way the minibatches were split, since changing the scale of the input numbers should not increase the accuracy. However, one concern with the unnormalized data is the fear of numbers overflowing when we have too many layers. This is not a problem when we consider 1 and 2 hidden layers, but using more hidden layers could lead to numbers getting too big and going past the maximum integer value allowed by python when they get exponentiated by softmax at the output layer. This could even happen for 1 and 2 hidden layers had we not used the clever initialization of the model weights using the formula\n",
        "$w \\sim N(0, \\frac{1}{(n_{in} + n_{out}})$, which forces the weights to be smaller when the layers get wider, thus keeping the values that go through them small."
      ],
      "metadata": {
        "id": "Ds3K7LL9o8Qo"
      }
    },
    {
      "cell_type": "markdown",
      "source": [
        "## 3.5 - Best possible model"
      ],
      "metadata": {
        "id": "9t_rsMsrGFO8"
      }
    },
    {
      "cell_type": "markdown",
      "source": [
        "In this section, we will attempt to find a model that gets the highest possible accuracy. Since we know vanishing gradient will be a problem for a deep neural network, we will try 2 approaches:\n",
        "\n",
        "1- Hyperparameter tune models with 3, 4 and 5 hidden layers and a width of 512 hidden units.\n",
        "\n",
        "2- Hyperparameter tune a model with 1 or 2 hidden layers but a width of 1024.\n",
        "\n",
        "Because of the aforementioned vanishing gradient problem, we will use leaky_ReLU as the activation function.\n",
        "\n",
        "Finally, we will fix the rest of our hyperparameters in order to save training time, since training a 5 layer MLP can take days. For approach 1, since we have more layers, we will use `max_iter = 20000`, but a smaller minibatch size `minibatch_size = 16` to save training time. For approach 2, we will stick to `max_iter = 15000` since the networks become wider not deeper, and `minibatch_size = 16` for speed of training. Furthermore, since we are performing many more iteration, we will use  `lambda_ = 1e-4` to avoid overfitting the training data, paired with a learning rate `learning_rate = 1e-4` that worked throughout the assignment."
      ],
      "metadata": {
        "id": "BBb9nQ1JHgIq"
      }
    },
    {
      "cell_type": "markdown",
      "source": [
        "### 3.5.1 Hidden Layers and Hidden Units Fine-Tuning"
      ],
      "metadata": {
        "id": "pVjLVaqTpjMN"
      }
    },
    {
      "cell_type": "code",
      "execution_count": null,
      "metadata": {
        "colab": {
          "base_uri": "https://localhost:8080/"
        },
        "outputId": "4b5d4987-e1b6-444f-935f-31a8e3d5fc5f",
        "id": "ogTSy_S2IX3r"
      },
      "outputs": [
        {
          "output_type": "stream",
          "name": "stdout",
          "text": [
            "Training model: LR=0.0001, lambda=0.0001, minibatch size=16, max iters=20000, num layers=5, num hidden units=[512, 512, 512, 512, 512]\n"
          ]
        },
        {
          "output_type": "stream",
          "name": "stderr",
          "text": [
            "100%|██████████| 20000/20000 [39:03<00:00,  8.53it/s]\n"
          ]
        },
        {
          "output_type": "stream",
          "name": "stdout",
          "text": [
            "Validation accuracy of the above model: 9.5\n",
            "Training model: LR=0.0001, lambda=0.0001, minibatch size=16, max iters=20000, num layers=4, num hidden units=[512, 512, 512, 512]\n"
          ]
        },
        {
          "output_type": "stream",
          "name": "stderr",
          "text": [
            "100%|██████████| 20000/20000 [29:41<00:00, 11.23it/s]\n"
          ]
        },
        {
          "output_type": "stream",
          "name": "stdout",
          "text": [
            "Validation accuracy of the above model: 9.5\n",
            "Training model: LR=0.0001, lambda=0.0001, minibatch size=16, max iters=20000, num layers=3, num hidden units=[512, 512, 512]\n"
          ]
        },
        {
          "output_type": "stream",
          "name": "stderr",
          "text": [
            "100%|██████████| 20000/20000 [23:51<00:00, 13.97it/s]\n"
          ]
        },
        {
          "output_type": "stream",
          "name": "stdout",
          "text": [
            "Validation accuracy of the above model: 87.6\n",
            "Best model found, proceeding to train it and compute its optimal accuracies\n"
          ]
        },
        {
          "output_type": "stream",
          "name": "stderr",
          "text": [
            "100%|██████████| 20000/20000 [28:12<00:00, 11.81it/s]\n"
          ]
        },
        {
          "output_type": "stream",
          "name": "stdout",
          "text": [
            "The accuracies of the MLP model with 3 hidden layer, and [512, 512, 512] hidden units for the respective layers are:\n",
            "for max_iter = 20000, batch_size = 16, lambda = 0.0001 and learning_rate = 0.0001 are: \n",
            "\t validation accuracy of 87.6% \n",
            "\t testing accuracy of 87.1% \n",
            "\t training accuracy of 91.8%\n",
            "\n"
          ]
        }
      ],
      "source": [
        "best_possible_mlp, _, _ = hyperparameter_tuning(num_hidden_layers_possibilities=[5, 4, 3], \n",
        "                                                num_hidden_units_possibilities=[[512, 512, 512, 512, 512], [512, 512, 512, 512], [512, 512, 512]],\n",
        "                                                lambda_values=[1e-4],\n",
        "                                                batchsize_values=[16],\n",
        "                                                maxiter_values=[20_000],\n",
        "                                                act_fun=leaky_relu, \n",
        "                                                act_fun_grad=leaky_relu_grad,\n",
        "                                                compute_ce=False)"
      ]
    },
    {
      "cell_type": "markdown",
      "source": [
        "As can be seen above, the MLPs with 4 and 5 hidden layers suffered from the vanishing gradient problem, with validation accuracies of only 9.5%, which is equivalent to randomly selecting a class every time, showing they could not learn the weights at layers close to the input.\n",
        "\n",
        "For 3 hidden layers of 512 units, we got\n",
        "\n",
        "Using:\n",
        "* `max_iter = 20000`\n",
        "* `minibatch_size = 16`\n",
        "* `lambda_ = 1e-4`\n",
        "* `learning_rate = 1e-4`\n",
        "\n",
        "Accuracies:\n",
        "* `train_acc = 91.8%`\n",
        "* `valid_acc = 87.6%`\n",
        "* `test_acc = 87.1%`"
      ],
      "metadata": {
        "id": "2eR9owSWIcbV"
      }
    },
    {
      "cell_type": "markdown",
      "source": [
        "We will now try the other approach of making the network wider instead and sticking to 1-2 hidden layers."
      ],
      "metadata": {
        "id": "IVbF2x8Pn7XF"
      }
    },
    {
      "cell_type": "code",
      "source": [
        "best_possible_mlp, _, _ = hyperparameter_tuning(num_hidden_layers_possibilities=[1, 2], \n",
        "                                                num_hidden_units_possibilities=[[1024], [1024, 1024]],\n",
        "                                                lambda_values=[1e-4],\n",
        "                                                batchsize_values=[16],\n",
        "                                                maxiter_values=[15000],\n",
        "                                                act_fun=leaky_relu, \n",
        "                                                act_fun_grad=leaky_relu_grad,\n",
        "                                                compute_ce=False)"
      ],
      "metadata": {
        "colab": {
          "base_uri": "https://localhost:8080/"
        },
        "id": "WrWKIG3Fn6xV",
        "outputId": "9312b6e4-4990-4102-b182-cc051c031b0a"
      },
      "execution_count": null,
      "outputs": [
        {
          "output_type": "stream",
          "name": "stdout",
          "text": [
            "Training model: LR=0.0001, lambda=0.0001, minibatch size=16, max iters=15000, num layers=1, num hidden units=[1024]\n"
          ]
        },
        {
          "output_type": "stream",
          "name": "stderr",
          "text": [
            "100%|██████████| 15000/15000 [17:51<00:00, 13.99it/s]\n"
          ]
        },
        {
          "output_type": "stream",
          "name": "stdout",
          "text": [
            "Validation accuracy of the above model: 88.4\n",
            "Training model: LR=0.0001, lambda=0.0001, minibatch size=16, max iters=15000, num layers=2, num hidden units=[1024, 1024]\n"
          ]
        },
        {
          "output_type": "stream",
          "name": "stderr",
          "text": [
            "100%|██████████| 15000/15000 [38:34<00:00,  6.48it/s]\n"
          ]
        },
        {
          "output_type": "stream",
          "name": "stdout",
          "text": [
            "Validation accuracy of the above model: 87.3\n",
            "Best model found, proceeding to train it and compute its optimal accuracies\n"
          ]
        },
        {
          "output_type": "stream",
          "name": "stderr",
          "text": [
            "100%|██████████| 15000/15000 [18:35<00:00, 13.45it/s]\n"
          ]
        },
        {
          "output_type": "stream",
          "name": "stdout",
          "text": [
            "The accuracies of the MLP model with 1 hidden layer, and [1024] hidden units for the respective layers are:\n",
            "for max_iter = 15000, batch_size = 16, lambda = 0.0001 and learning_rate = 0.0001 are: \n",
            "\t validation accuracy of 88.4% \n",
            "\t testing accuracy of 87.2% \n",
            "\t training accuracy of 91.0%\n",
            "\n"
          ]
        }
      ]
    },
    {
      "cell_type": "markdown",
      "source": [
        "This model does better than the deep models by a narrow `0.1%`, but still fares worse compared to the 1 layer MLP with 128 hidden units from section 3.1.2."
      ],
      "metadata": {
        "id": "s1xQzqND5_vj"
      }
    },
    {
      "cell_type": "markdown",
      "source": [
        "Since 1 layer MLP's seem to have fared the best, we suspect that the problem is in the stochasticity of the gradient descent. To investigate, we decided to reduce the number of iterations from 15000 to 10000 and instead use a minibatch size of 200, as shown below:"
      ],
      "metadata": {
        "id": "L8ni9x9h6dhJ"
      }
    },
    {
      "cell_type": "code",
      "execution_count": null,
      "metadata": {
        "colab": {
          "background_save": true,
          "base_uri": "https://localhost:8080/"
        },
        "id": "6cJMb9w46tWo",
        "outputId": "38983753-5900-48f7-8ac1-aa197d00f908"
      },
      "outputs": [
        {
          "name": "stdout",
          "output_type": "stream",
          "text": [
            "Training model: LR=0.0001, lambda=0.0001, minibatch size=200, max iters=10000, num layers=1, num hidden units=[1024]\n"
          ]
        },
        {
          "name": "stderr",
          "output_type": "stream",
          "text": [
            "100%|██████████| 10000/10000 [1:52:49<00:00,  1.48it/s]\n"
          ]
        },
        {
          "name": "stdout",
          "output_type": "stream",
          "text": [
            "Validation accuracy of the above model: 89.4\n",
            "Training model: LR=0.0001, lambda=0.0001, minibatch size=200, max iters=10000, num layers=2, num hidden units=[1024, 1024]\n"
          ]
        },
        {
          "name": "stderr",
          "output_type": "stream",
          "text": [
            "100%|██████████| 10000/10000 [4:14:26<00:00,  1.53s/it]\n"
          ]
        },
        {
          "name": "stdout",
          "output_type": "stream",
          "text": [
            "Validation accuracy of the above model: 89.1\n",
            "Best model found, proceeding to train it and compute its optimal accuracies\n"
          ]
        },
        {
          "name": "stderr",
          "output_type": "stream",
          "text": [
            "100%|██████████| 10000/10000 [1:51:58<00:00,  1.49it/s]\n"
          ]
        },
        {
          "name": "stdout",
          "output_type": "stream",
          "text": [
            "The accuracies of the MLP model with 1 hidden layer, and [1024] hidden units for the respective layers are:\n",
            "for max_iter = 10000, batch_size = 200, lambda = 0.0001 and learning_rate = 0.0001 are: \n",
            "\t validation accuracy of 89.4% \n",
            "\t testing accuracy of 88.4% \n",
            "\t training accuracy of 96.5%\n",
            "\n"
          ]
        }
      ],
      "source": [
        "best_possible_mlp, _, _ = hyperparameter_tuning(num_hidden_layers_possibilities=[1, 2], \n",
        "                                                num_hidden_units_possibilities=[[1024], [1024, 1024]],\n",
        "                                                lambda_values=[1e-4],\n",
        "                                                batchsize_values=[200],\n",
        "                                                maxiter_values=[10000],\n",
        "                                                act_fun=leaky_relu, \n",
        "                                                act_fun_grad=leaky_relu_grad,\n",
        "                                                compute_ce=False)"
      ]
    },
    {
      "cell_type": "markdown",
      "source": [
        "As can be seen above, increasing the width and the minibatch size indeed gave a record high testing accuracy of `88.4%`, breaking the previous high set by the 1 hidden layer MLP from section 3.1.2 which was `87.6%`."
      ],
      "metadata": {
        "id": "W5vHL_ad87PA"
      }
    },
    {
      "cell_type": "markdown",
      "source": [
        "### 3.5.2 Conclusions\n",
        "\n",
        "Theoretically, making the network deeper should have improved its performance, especially when each layer represents a layer of abstraction, all while making the model easier to understand since each layer can learn a particular feature of the data. \n",
        "\n",
        "However, in practice, making a network deeper also entails the vanishing gradient problem, which can be seen by the testing accuracies of `9.5%` for 4 and 5 hidden layers, showing the model did not learn even with `leaky_relu` as the activation function.\n",
        "\n",
        "The solution was to make the network wider, which helped increase the accuracy slightly. That, paired with using only 1 1024 units wide hidden layer and increasing the minibatch to 200, led to our best possible model with a testing accuracy of `88.4%`, because the model starts to oscillate less at convergence. The reason why we were able to increase the minibatch size without suffering too much in training time (Still took upwards of 5 hours to tune) is because we used only 1 hidden layer. So our three changes above of reducing the number of layers, making them wider, and increasing the minibatch size go hand in hand."
      ],
      "metadata": {
        "id": "PbOcS8_1poxE"
      }
    },
    {
      "cell_type": "markdown",
      "metadata": {
        "id": "q3PTKbjLccyL"
      },
      "source": [
        "## 3.6 - Comparing our implementation of MLP to a ConvNet\n",
        "\n",
        "In this section, we will use our MLP model that performs best based on testing accuracy to compare its performances to a ConvNet implementation. The ConvNet will have 2 convolutional and 2 fully connected layers. Each layer will have 128 hidden units and ReLU activation functions. However, we will first compute the best hyperparameters to use with this ConvNet on our dataset: [number of filters, filter size and stride]\n",
        "\n",
        "Instead of recomparing different architectures of our MLP model and choose the one that performs best based on testing accuracy, we use our previous experiments to choose the parameters of the MLP we will compare to this ConvNet. \n",
        "\n",
        "Our best MLP model is the one from section 3.5 with 1024 hidden units and 1 hidden layer, and had a testing accuracy of `88.4%`.\n"
      ]
    },
    {
      "cell_type": "markdown",
      "source": [
        "### 3.6.1 ConvNet Fine-Tuning"
      ],
      "metadata": {
        "id": "C1U5Ctf_Kp6C"
      }
    },
    {
      "cell_type": "code",
      "execution_count": null,
      "metadata": {
        "colab": {
          "base_uri": "https://localhost:8080/"
        },
        "outputId": "67ae22c4-74e8-4dc5-bb92-1442a12c03c9",
        "id": "oQdvZU-b69Wj"
      },
      "outputs": [
        {
          "output_type": "stream",
          "name": "stdout",
          "text": [
            "Epoch 1/3\n",
            "1313/1313 [==============================] - 24s 18ms/step - loss: 0.5314 - accuracy: 0.8060 - val_loss: 0.4239 - val_accuracy: 0.8422\n",
            "Epoch 2/3\n",
            "1313/1313 [==============================] - 22s 16ms/step - loss: 0.3780 - accuracy: 0.8620 - val_loss: 0.3929 - val_accuracy: 0.8544\n",
            "Epoch 3/3\n",
            "1313/1313 [==============================] - 22s 16ms/step - loss: 0.3370 - accuracy: 0.8762 - val_loss: 0.3495 - val_accuracy: 0.8700\n",
            "141/141 [==============================] - 2s 16ms/step - loss: 0.3495 - accuracy: 0.8700\n",
            "Validation accuracy: 0.8700000047683716\n",
            "Epoch 1/3\n",
            "1313/1313 [==============================] - 9s 7ms/step - loss: 0.6947 - accuracy: 0.7449 - val_loss: 0.5891 - val_accuracy: 0.7797\n",
            "Epoch 2/3\n",
            "1313/1313 [==============================] - 10s 7ms/step - loss: 0.5207 - accuracy: 0.8043 - val_loss: 0.5523 - val_accuracy: 0.7976\n",
            "Epoch 3/3\n",
            "1313/1313 [==============================] - 8s 6ms/step - loss: 0.4737 - accuracy: 0.8218 - val_loss: 0.4943 - val_accuracy: 0.8162\n",
            "141/141 [==============================] - 1s 7ms/step - loss: 0.4943 - accuracy: 0.8162\n",
            "Validation accuracy: 0.8162222504615784\n",
            "Epoch 1/3\n",
            "1313/1313 [==============================] - 29s 22ms/step - loss: 0.5633 - accuracy: 0.7945 - val_loss: 0.4252 - val_accuracy: 0.8437\n",
            "Epoch 2/3\n",
            "1313/1313 [==============================] - 29s 22ms/step - loss: 0.3848 - accuracy: 0.8590 - val_loss: 0.3642 - val_accuracy: 0.8662\n",
            "Epoch 3/3\n",
            "1313/1313 [==============================] - 28s 21ms/step - loss: 0.3411 - accuracy: 0.8758 - val_loss: 0.3677 - val_accuracy: 0.8673\n",
            "141/141 [==============================] - 2s 17ms/step - loss: 0.3677 - accuracy: 0.8673\n",
            "Validation accuracy: 0.8673333525657654\n",
            "Epoch 1/3\n",
            "1313/1313 [==============================] - 66s 50ms/step - loss: 0.7100 - accuracy: 0.7361 - val_loss: 0.5553 - val_accuracy: 0.7971\n",
            "Epoch 2/3\n",
            "1313/1313 [==============================] - 13s 10ms/step - loss: 0.4946 - accuracy: 0.8185 - val_loss: 0.4776 - val_accuracy: 0.8298\n",
            "Epoch 3/3\n",
            "1313/1313 [==============================] - 18s 14ms/step - loss: 0.4468 - accuracy: 0.8369 - val_loss: 0.4664 - val_accuracy: 0.8296\n",
            "141/141 [==============================] - 1s 8ms/step - loss: 0.4664 - accuracy: 0.8296\n",
            "Validation accuracy: 0.8296111226081848\n",
            "Epoch 1/3\n",
            "1313/1313 [==============================] - 32s 24ms/step - loss: 0.5264 - accuracy: 0.8070 - val_loss: 0.3953 - val_accuracy: 0.8554\n",
            "Epoch 2/3\n",
            "1313/1313 [==============================] - 32s 24ms/step - loss: 0.3504 - accuracy: 0.8703 - val_loss: 0.3307 - val_accuracy: 0.8766\n",
            "Epoch 3/3\n",
            "1313/1313 [==============================] - 33s 25ms/step - loss: 0.3042 - accuracy: 0.8887 - val_loss: 0.3184 - val_accuracy: 0.8813\n",
            "141/141 [==============================] - 3s 18ms/step - loss: 0.3184 - accuracy: 0.8813\n",
            "Validation accuracy: 0.8812777996063232\n",
            "Epoch 1/3\n",
            "1313/1313 [==============================] - 15s 11ms/step - loss: 0.6503 - accuracy: 0.7581 - val_loss: 0.5221 - val_accuracy: 0.8113\n",
            "Epoch 2/3\n",
            "1313/1313 [==============================] - 12s 9ms/step - loss: 0.4602 - accuracy: 0.8285 - val_loss: 0.4464 - val_accuracy: 0.8394\n",
            "Epoch 3/3\n",
            "1313/1313 [==============================] - 12s 9ms/step - loss: 0.4104 - accuracy: 0.8462 - val_loss: 0.4174 - val_accuracy: 0.8468\n",
            "141/141 [==============================] - 1s 7ms/step - loss: 0.4174 - accuracy: 0.8468\n",
            "Validation accuracy: 0.8467777967453003\n",
            "Epoch 1/3\n",
            "1313/1313 [==============================] - 36s 27ms/step - loss: 0.5318 - accuracy: 0.8029 - val_loss: 0.4036 - val_accuracy: 0.8510\n",
            "Epoch 2/3\n",
            "1313/1313 [==============================] - 32s 24ms/step - loss: 0.3501 - accuracy: 0.8708 - val_loss: 0.3685 - val_accuracy: 0.8663\n",
            "Epoch 3/3\n",
            "1313/1313 [==============================] - 31s 23ms/step - loss: 0.3047 - accuracy: 0.8866 - val_loss: 0.3191 - val_accuracy: 0.8829\n",
            "141/141 [==============================] - 3s 20ms/step - loss: 0.3191 - accuracy: 0.8829\n",
            "Validation accuracy: 0.8829444646835327\n",
            "Epoch 1/3\n",
            "1313/1313 [==============================] - 14s 10ms/step - loss: 0.5993 - accuracy: 0.7799 - val_loss: 0.4525 - val_accuracy: 0.8396\n",
            "Epoch 2/3\n",
            "1313/1313 [==============================] - 15s 11ms/step - loss: 0.4087 - accuracy: 0.8511 - val_loss: 0.3911 - val_accuracy: 0.8584\n",
            "Epoch 3/3\n",
            "1313/1313 [==============================] - 14s 10ms/step - loss: 0.3665 - accuracy: 0.8663 - val_loss: 0.3616 - val_accuracy: 0.8682\n",
            "141/141 [==============================] - 1s 7ms/step - loss: 0.3616 - accuracy: 0.8682\n",
            "Validation accuracy: 0.8681666851043701\n",
            "Epoch 1/3\n",
            "1313/1313 [==============================] - 44s 33ms/step - loss: 0.4807 - accuracy: 0.8232 - val_loss: 0.3782 - val_accuracy: 0.8618\n",
            "Epoch 2/3\n",
            "1313/1313 [==============================] - 44s 34ms/step - loss: 0.3200 - accuracy: 0.8809 - val_loss: 0.3070 - val_accuracy: 0.8859\n",
            "Epoch 3/3\n",
            "1313/1313 [==============================] - 43s 33ms/step - loss: 0.2719 - accuracy: 0.8989 - val_loss: 0.2842 - val_accuracy: 0.8944\n",
            "141/141 [==============================] - 4s 25ms/step - loss: 0.2842 - accuracy: 0.8944\n",
            "Validation accuracy: 0.894444465637207\n",
            "Epoch 1/3\n",
            "1313/1313 [==============================] - 17s 13ms/step - loss: 0.5996 - accuracy: 0.7814 - val_loss: 0.4910 - val_accuracy: 0.8189\n",
            "Epoch 2/3\n",
            "1313/1313 [==============================] - 15s 12ms/step - loss: 0.4149 - accuracy: 0.8476 - val_loss: 0.4276 - val_accuracy: 0.8461\n",
            "Epoch 3/3\n",
            "1313/1313 [==============================] - 14s 11ms/step - loss: 0.3638 - accuracy: 0.8650 - val_loss: 0.3765 - val_accuracy: 0.8637\n",
            "141/141 [==============================] - 1s 9ms/step - loss: 0.3765 - accuracy: 0.8637\n",
            "Validation accuracy: 0.8637222051620483\n",
            "Epoch 1/3\n",
            "1313/1313 [==============================] - 49s 37ms/step - loss: 0.4868 - accuracy: 0.8225 - val_loss: 0.3805 - val_accuracy: 0.8594\n",
            "Epoch 2/3\n",
            "1313/1313 [==============================] - 49s 37ms/step - loss: 0.3257 - accuracy: 0.8809 - val_loss: 0.3142 - val_accuracy: 0.8860\n",
            "Epoch 3/3\n",
            "1313/1313 [==============================] - 49s 38ms/step - loss: 0.2793 - accuracy: 0.8982 - val_loss: 0.3007 - val_accuracy: 0.8902\n",
            "141/141 [==============================] - 4s 29ms/step - loss: 0.3007 - accuracy: 0.8902\n",
            "Validation accuracy: 0.8901666402816772\n",
            "Epoch 1/3\n",
            "1313/1313 [==============================] - 17s 12ms/step - loss: 0.5326 - accuracy: 0.8048 - val_loss: 0.4031 - val_accuracy: 0.8545\n",
            "Epoch 2/3\n",
            "1313/1313 [==============================] - 15s 12ms/step - loss: 0.3656 - accuracy: 0.8686 - val_loss: 0.3768 - val_accuracy: 0.8642\n",
            "Epoch 3/3\n",
            "1313/1313 [==============================] - 15s 12ms/step - loss: 0.3241 - accuracy: 0.8816 - val_loss: 0.3553 - val_accuracy: 0.8686\n",
            "141/141 [==============================] - 1s 8ms/step - loss: 0.3553 - accuracy: 0.8686\n",
            "Validation accuracy: 0.8686110973358154\n",
            "Epoch 1/3\n",
            "1313/1313 [==============================] - 44s 33ms/step - loss: 0.4841 - accuracy: 0.8240 - val_loss: 0.3562 - val_accuracy: 0.8711\n",
            "Epoch 2/3\n",
            "1313/1313 [==============================] - 44s 33ms/step - loss: 0.3248 - accuracy: 0.8825 - val_loss: 0.3104 - val_accuracy: 0.8864\n",
            "Epoch 3/3\n",
            "1313/1313 [==============================] - 44s 33ms/step - loss: 0.2767 - accuracy: 0.8985 - val_loss: 0.3081 - val_accuracy: 0.8865\n"
          ]
        },
        {
          "output_type": "execute_result",
          "data": {
            "text/plain": [
              "<keras.callbacks.History at 0x7fe5567fe2b0>"
            ]
          },
          "metadata": {},
          "execution_count": 26
        }
      ],
      "source": [
        "# Choices that will be considered for hyperparameters\n",
        "num_filters = [8, 16, 32]\n",
        "filter_sizes = [3, 5] # Provides a measure for how close a patch of input resembles a feature, usually odd size\n",
        "strides = [1, 2] # the number of pixels to skip while traversing the input during convolution\n",
        "\n",
        "# Fixed parameters \n",
        "num_hidden_units = 128\n",
        "num_classes = 10\n",
        "pool_size = 2\n",
        "# Since padding = same should be use when the border’s of the image might be important, we don't use padding\n",
        "# This is because most (if not all) of our images have the main features in the center of the image (most borders are empty/black pixels)\n",
        "padding = 'valid' # valid: no padding, # same: for zeros evenly right/left and up/down. \n",
        "\n",
        "# Reshape the data\n",
        "train_labels = to_categorical(y_train)\n",
        "validation_labels = to_categorical(y_validate)\n",
        "test_labels = to_categorical(y_test)\n",
        "\n",
        "# To store the results of each combination of hyperparameters\n",
        "valid_accs = np.zeros((len(num_filters), \n",
        "                      len(filter_sizes),\n",
        "                      len(strides)))\n",
        "\n",
        "for i, num_filter in enumerate(num_filters):\n",
        "  for j, filter_size in enumerate(filter_sizes):\n",
        "    for k, stride in enumerate(strides):\n",
        "      model_conv = keras.Sequential([\n",
        "          Conv2D(num_filter, filter_size, input_shape=(28, 28, 1), strides = stride, padding = padding, activation='relu'),\n",
        "          MaxPooling2D(pool_size=pool_size),\n",
        "          Conv2D(num_filter, (filter_size, filter_size), activation='relu'),\n",
        "          MaxPooling2D(pool_size=(pool_size, pool_size)),\n",
        "          Flatten(),\n",
        "          Dense(num_hidden_units, activation='relu'), # Transpose matrix dimenstion: 1 X K to K X 128\n",
        "          Dense(num_hidden_units, activation='relu'), # Transpose matrix dimenstion: 1 X 128 to 128 X 128\n",
        "          Dense(num_classes, activation='softmax') # Transpose matrix dimension: 1 X 128 to 1 X 10\n",
        "      ])\n",
        "      # Compile the model\n",
        "      model_conv.compile(\n",
        "          'adam',\n",
        "          loss='categorical_crossentropy',\n",
        "          metrics=['accuracy']\n",
        "      )\n",
        "\n",
        "      model_conv.fit(\n",
        "          X_train.reshape(42000, 28, 28),\n",
        "          train_labels,\n",
        "          epochs=3,\n",
        "          validation_data=(X_validate.reshape(18000, 28, 28), validation_labels)\n",
        "      )\n",
        "\n",
        "      # Extract validation accuracies \n",
        "      # Use that model to predict on the validation set\n",
        "      results = model_conv.evaluate(X_validate.reshape(18000, 28, 28), validation_labels, batch_size=128)\n",
        "      print(\"Validation accuracy:\", results[1])\n",
        "      valid_accs[i][j][k] = results[1]\n",
        "\n",
        "\n",
        "# Extract the best parameters\n",
        "best_num_filter_index, best_filter_size_index, best_stride_index = np.unravel_index(valid_accs.argmax(), valid_accs.shape)\n",
        "best_num_filter = num_filters[best_num_filter_index]\n",
        "best_filter_size = filter_sizes[best_filter_size_index]\n",
        "best_stride = strides[best_stride_index]\n",
        "\n",
        "# Create model with it\n",
        "best_model_conv = keras.Sequential([\n",
        "        Conv2D(best_num_filter, best_filter_size, input_shape=(28, 28, 1), strides = best_stride, activation='relu'),\n",
        "        MaxPooling2D(pool_size=pool_size),\n",
        "        Conv2D(best_num_filter, (best_filter_size, best_filter_size), activation='relu'),\n",
        "        MaxPooling2D(pool_size=(pool_size, pool_size)),\n",
        "        Flatten(),\n",
        "        Dense(num_hidden_units, activation='relu'), # Transpose matrix dimenstion: 1 X K to K X 128\n",
        "        Dense(num_hidden_units, activation='relu'), # Transpose matrix dimenstion: 1 X 128 to 128 X 128\n",
        "        Dense(num_classes, activation='softmax') # Transpose matrix dimenstion: 1 X 128 to 1 X 10\n",
        "])\n",
        "# Compile the model\n",
        "best_model_conv.compile(\n",
        "    'adam',\n",
        "    loss='categorical_crossentropy',\n",
        "    metrics=['accuracy']\n",
        ")\n",
        "\n",
        "best_model_conv.fit(\n",
        "    X_train.reshape(42000, 28, 28),\n",
        "    train_labels,\n",
        "    epochs=3,\n",
        "    validation_data=(X_test.reshape(10_000, 28, 28), test_labels)\n",
        ")"
      ]
    },
    {
      "cell_type": "code",
      "source": [
        "print(f\"The best hyperparameters for ConvNet model are: number_of_filters={best_num_filter}, filter_size={best_filter_size} and stride={best_stride}.\")"
      ],
      "metadata": {
        "colab": {
          "base_uri": "https://localhost:8080/"
        },
        "id": "jCg4NAkCNWhl",
        "outputId": "ad263c27-a5e3-4b36-a193-878dd2a75380"
      },
      "execution_count": null,
      "outputs": [
        {
          "output_type": "stream",
          "name": "stdout",
          "text": [
            "The best hyperparameters for ConvNet model are: number_of_filters=32, filter_size=5 and stride=1.\n"
          ]
        }
      ]
    },
    {
      "cell_type": "markdown",
      "source": [
        "### 3.6.2 Results"
      ],
      "metadata": {
        "id": "adjzmeLbKun5"
      }
    },
    {
      "cell_type": "markdown",
      "source": [
        "We now create a bar plot to compare the testing accuracies of the fine-tuned ConvNet we just implemented with our best MLP model. We will again use an annotated bar plot for clarity."
      ],
      "metadata": {
        "id": "D2w4DLAZKwPT"
      }
    },
    {
      "cell_type": "code",
      "source": [
        "print(\"Training accuracy of ConvNet\")\n",
        "training_acc_cnn = best_model_conv.evaluate(X_train.reshape(42_000, 28, 28), train_labels, batch_size=128)\n",
        "print(\"Validating accuracy of ConvNet\")\n",
        "validation_acc_cnn = best_model_conv.evaluate(X_validate.reshape(18_000, 28, 28), validation_labels, batch_size=128)\n",
        "print(\"Testing accuracy of ConvNet\")\n",
        "testing_acc_cnn = best_model_conv.evaluate(X_test.reshape(10_000, 28, 28), test_labels, batch_size=128)"
      ],
      "metadata": {
        "id": "Z223AVJd2Vrp",
        "colab": {
          "base_uri": "https://localhost:8080/"
        },
        "outputId": "f6bf6405-1ce3-4bea-cb21-716ed11b2acc"
      },
      "execution_count": null,
      "outputs": [
        {
          "output_type": "stream",
          "name": "stdout",
          "text": [
            "Training accuracy of ConvNet\n",
            "329/329 [==============================] - 10s 29ms/step - loss: 0.2430 - accuracy: 0.9128\n",
            "Validating accuracy of ConvNet\n",
            "141/141 [==============================] - 4s 29ms/step - loss: 0.2959 - accuracy: 0.8926\n",
            "Testing accuracy of ConvNet\n",
            "79/79 [==============================] - 2s 29ms/step - loss: 0.3181 - accuracy: 0.8894\n"
          ]
        }
      ]
    },
    {
      "cell_type": "markdown",
      "source": [
        "We will store the accuracies such that we can reuse them later to perform the plots. \n",
        "\n",
        "The best MLP model has the following parameters:\n",
        "*  `num_hidden_layers = 1` \n",
        "* `num_hidden_units = [1024]` \n",
        "* `max_iter = 10000` \n",
        "* `batch_size = 200`\n",
        "* `lambda = 0.0001`\n",
        "* `learning_rate = 0.0001`"
      ],
      "metadata": {
        "id": "mjCBl9CK19FH"
      }
    },
    {
      "cell_type": "code",
      "source": [
        "# Store the accuracies in variables to re-use them later\n",
        "training_acc_cnn = 0.9128\n",
        "validation_acc_cnn = 0.8926\n",
        "testing_acc_cnn = 0.8894\n",
        "\n",
        "training_acc_mlp = 0.965\n",
        "validation_acc_mlp = 0.894\n",
        "testing_acc_mlp = 0.884"
      ],
      "metadata": {
        "id": "aYMTqTcc1VDP"
      },
      "execution_count": null,
      "outputs": []
    },
    {
      "cell_type": "code",
      "execution_count": null,
      "metadata": {
        "colab": {
          "base_uri": "https://localhost:8080/",
          "height": 340
        },
        "id": "z3TRDiG7LpVD",
        "outputId": "4cce5d67-428b-4ea4-f5b2-de51f5c28fd4"
      },
      "outputs": [
        {
          "output_type": "display_data",
          "data": {
            "text/plain": [
              "<Figure size 720x360 with 1 Axes>"
            ],
            "image/png": "[encoded data removed]"
          },
          "metadata": {
            "needs_background": "light"
          }
        }
      ],
      "source": [
        "def convert_percent(x0):\n",
        "  x1=[]\n",
        "  for acc in x0:\n",
        "    x1.append(round(acc*100, 2))\n",
        "  return x1\n",
        "\n",
        "best_cnn_acc = convert_percent([training_acc_cnn, validation_acc_cnn, testing_acc_cnn])\n",
        "best_mlp_acc = convert_percent([training_acc_mlp, validation_acc_mlp,testing_acc_mlp])\n",
        "\n",
        "accuracy_x_labels = ['Training Accuracy', 'Validation Accuracy', 'Testing Accuracy']\n",
        "\n",
        "x_axis = np.arange(len(accuracy_x_labels))\n",
        "\n",
        "plt.figure(figsize = (10,5))\n",
        "plt.rc('font', size=12)\n",
        "\n",
        "for i in range(len(accuracy_x_labels)):\n",
        "    plt.text(i-0.2, best_mlp_acc[i], best_mlp_acc[i], ha='center')\n",
        "    plt.text(i+0.2, best_cnn_acc[i], best_cnn_acc[i], ha='center')\n",
        "\n",
        "plt.bar(x_axis - 0.2, best_mlp_acc, 0.3, label = 'MLP', alpha=0.4)\n",
        "plt.bar(x_axis + 0.2, best_cnn_acc, 0.3, label = 'ConvNet', alpha=0.4)\n",
        "\n",
        "plt.xticks(x_axis, accuracy_x_labels)\n",
        "plt.ylabel(\"Accuracy (%)\")\n",
        "plt.title(\"Accuracy Scores of Fine-Tuned MLP and ConvNet\")\n",
        "plt.legend(loc=\"lower right\")\n",
        "plt.show()"
      ]
    },
    {
      "cell_type": "markdown",
      "source": [
        "As can be seen above, our model has a higher training accuracy which can be explained by the very small regularization value we used ($10^{-4}$), as well as the big number of hyperparameter we tuned for our MLP. However, when it comes to validation accuracy, our model performs better by only `0.14%`, showing that overfitting did not heavily affect it. Finally, for the testing accuracy, we get `88.4%` using our model, which is slightly edged by CNN at `88.94%`, but was expected since CNN is specialized for image processing. However, the very slight margin shows that we indeed pushed our model to its limits with hyperparameter validation, ADAM gradient descent, regularization, and other optimizations."
      ],
      "metadata": {
        "id": "AW0zXw2OLYQp"
      }
    },
    {
      "cell_type": "markdown",
      "metadata": {
        "id": "3u4kClo64Lfg"
      },
      "source": [
        "## 3.7 - Accuracies as a function of training epochs"
      ]
    },
    {
      "cell_type": "markdown",
      "source": [
        "We will now create a plot of the testing and training accuracy of our MLP and ConvNet as a function of training epochs. This will allow us to see how much the network should be trained before it starts to overfit to the training data."
      ],
      "metadata": {
        "id": "O1GvN5aXfAUq"
      }
    },
    {
      "cell_type": "markdown",
      "source": [
        "Starting with ConvNet:"
      ],
      "metadata": {
        "id": "hhEi75pW3vl4"
      }
    },
    {
      "cell_type": "code",
      "source": [
        "# Create model with it for num_filter = 32, filter_size = 5, stride = 1 are: \n",
        "model_conv = keras.Sequential([\n",
        "        Conv2D(best_num_filter, best_filter_size, input_shape=(28, 28, 1), strides = best_stride, activation='relu'),\n",
        "        MaxPooling2D(pool_size=pool_size),\n",
        "        Conv2D(best_num_filter, (best_filter_size, best_filter_size), activation='relu'),\n",
        "        MaxPooling2D(pool_size=(pool_size, pool_size)),\n",
        "        Flatten(),\n",
        "        Dropout(0.25), # randomly sets input units to 0 with a frequency of rate at each step during training time, to avoid overfitting\n",
        "        Dense(num_classes, activation='softmax') # Transpose matrix dimenstion: 1 X 128 to 1 X 10\n",
        "])\n",
        "# Compile the model\n",
        "model_conv.compile(\n",
        "    'adam',\n",
        "    loss='categorical_crossentropy',\n",
        "    metrics=['accuracy']\n",
        ")\n",
        "\n",
        "history = model_conv.fit(\n",
        "    X_train.reshape(42000, 28, 28),\n",
        "    train_labels,\n",
        "    epochs=7, # Use 7 epochs\n",
        "    validation_data=(X_test.reshape(10_000, 28, 28), test_labels) # validation data is test dataset here\n",
        ")\n",
        "\n",
        "# list all data in history\n",
        "print(history.history.keys())\n",
        "# summarize history for accuracy\n",
        "plt.plot(history.history['accuracy'])\n",
        "plt.plot(history.history['val_accuracy'])\n",
        "plt.title('Model Accuracy as a function of epochs')\n",
        "plt.ylabel('Accuracy')\n",
        "plt.xlabel('Epoch')\n",
        "plt.legend(['Train', 'Test'], loc='upper left')\n",
        "plt.show()"
      ],
      "metadata": {
        "colab": {
          "base_uri": "https://localhost:8080/",
          "height": 570
        },
        "outputId": "ffeee4ca-793c-490c-f39d-8b79a577658d",
        "id": "oQx7txpepgHE"
      },
      "execution_count": null,
      "outputs": [
        {
          "output_type": "stream",
          "name": "stdout",
          "text": [
            "Epoch 1/7\n",
            "1313/1313 [==============================] - 47s 34ms/step - loss: 0.5641 - accuracy: 0.7984 - val_loss: 0.3919 - val_accuracy: 0.8662\n",
            "Epoch 2/7\n",
            "1313/1313 [==============================] - 44s 34ms/step - loss: 0.3888 - accuracy: 0.8610 - val_loss: 0.3589 - val_accuracy: 0.8725\n",
            "Epoch 3/7\n",
            "1313/1313 [==============================] - 45s 34ms/step - loss: 0.3503 - accuracy: 0.8735 - val_loss: 0.3467 - val_accuracy: 0.8764\n",
            "Epoch 4/7\n",
            "1313/1313 [==============================] - 46s 35ms/step - loss: 0.3258 - accuracy: 0.8833 - val_loss: 0.3081 - val_accuracy: 0.8910\n",
            "Epoch 5/7\n",
            "1313/1313 [==============================] - 44s 33ms/step - loss: 0.3064 - accuracy: 0.8888 - val_loss: 0.3173 - val_accuracy: 0.8844\n",
            "Epoch 6/7\n",
            "1313/1313 [==============================] - 43s 33ms/step - loss: 0.2926 - accuracy: 0.8950 - val_loss: 0.3035 - val_accuracy: 0.8901\n",
            "Epoch 7/7\n",
            "1313/1313 [==============================] - 45s 34ms/step - loss: 0.2794 - accuracy: 0.8985 - val_loss: 0.2991 - val_accuracy: 0.8944\n",
            "dict_keys(['loss', 'accuracy', 'val_loss', 'val_accuracy'])\n"
          ]
        },
        {
          "output_type": "display_data",
          "data": {
            "text/plain": [
              "<Figure size 432x288 with 1 Axes>"
            ],
            "image/png": "[encoded data removed]"
          },
          "metadata": {
            "needs_background": "light"
          }
        }
      ]
    },
    {
      "cell_type": "markdown",
      "source": [
        "As can be seen above, both training and testing accuracy overall increase, showing no signs of overfitting."
      ],
      "metadata": {
        "id": "hnpzMXfXIgvJ"
      }
    },
    {
      "cell_type": "markdown",
      "source": [
        "Now for MLP, since we already showed the plot of the loss as a function of iterations for every single training run, which is equivalent to modeling the accuracy as a function of iterations, we will now use the accuracy plot on the best possible 1 hidden layer MLP with 128 hidden units found in section 3.1.2. Note that we don't use the best possible model found in section 3.5 for running time purposes."
      ],
      "metadata": {
        "id": "PqYqQBNp3xpv"
      }
    },
    {
      "cell_type": "code",
      "source": [
        "# Create the MLP model on which to monitor the training/testing accuracies as a function of epoch\n",
        "mlp1 = MLP(D = X_train.shape[-1], \n",
        "          num_outputs = 10, \n",
        "          num_hidden_layers = 1, \n",
        "          num_hidden_units = [128], \n",
        "          hidden_activation = relu, \n",
        "          hidden_activation_gradient = relu_grad)\n",
        "\n",
        "# Get the training/testing accuracies as a function of epochs by setting monitor_accuracies to true\n",
        "_, _, training_accuracies, testing_accuracies= mlp1.fit(X_train, y_train, X_validate, y_validate,\n",
        "                                        learning_rate=0.0001, max_iter=15000,\n",
        "                                        minibatch_size=64, lambda_= 1e-8,\n",
        "                                        compute_ce_train=False, compute_ce_valid=False, monitor_accuracies=True)"
      ],
      "metadata": {
        "id": "H02rgkBp2kc9",
        "colab": {
          "base_uri": "https://localhost:8080/"
        },
        "outputId": "1aeea421-8193-474e-efbc-8caa529dea9e"
      },
      "execution_count": null,
      "outputs": [
        {
          "output_type": "stream",
          "name": "stderr",
          "text": [
            "  4%|▍         | 656/15000 [00:45<14:32, 16.44it/s]"
          ]
        },
        {
          "output_type": "stream",
          "name": "stdout",
          "text": [
            "Epoch 1\n",
            "Training accuracy: 0.8011428571428572\n"
          ]
        },
        {
          "output_type": "stream",
          "name": "stderr",
          "text": [
            "\r  4%|▍         | 658/15000 [00:47<1:03:53,  3.74it/s]"
          ]
        },
        {
          "output_type": "stream",
          "name": "stdout",
          "text": [
            "Training accuracy: 0.7916\n"
          ]
        },
        {
          "output_type": "stream",
          "name": "stderr",
          "text": [
            "  9%|▊         | 1312/15000 [01:29<13:29, 16.92it/s]"
          ]
        },
        {
          "output_type": "stream",
          "name": "stdout",
          "text": [
            "Epoch 2\n",
            "Training accuracy: 0.840952380952381\n",
            "Training accuracy: 0.8293\n"
          ]
        },
        {
          "output_type": "stream",
          "name": "stderr",
          "text": [
            " 13%|█▎        | 1968/15000 [02:16<18:21, 11.83it/s]"
          ]
        },
        {
          "output_type": "stream",
          "name": "stdout",
          "text": [
            "Epoch 3\n",
            "Training accuracy: 0.8555\n",
            "Training accuracy: 0.8393\n"
          ]
        },
        {
          "output_type": "stream",
          "name": "stderr",
          "text": [
            " 17%|█▋        | 2623/15000 [03:07<11:39, 17.69it/s]"
          ]
        },
        {
          "output_type": "stream",
          "name": "stdout",
          "text": [
            "Epoch 4\n",
            "Training accuracy: 0.8649523809523809\n"
          ]
        },
        {
          "output_type": "stream",
          "name": "stderr",
          "text": [
            "\r 18%|█▊        | 2625/15000 [03:09<1:11:02,  2.90it/s]"
          ]
        },
        {
          "output_type": "stream",
          "name": "stdout",
          "text": [
            "Training accuracy: 0.8452\n"
          ]
        },
        {
          "output_type": "stream",
          "name": "stderr",
          "text": [
            " 22%|██▏       | 3279/15000 [03:55<14:24, 13.56it/s]"
          ]
        },
        {
          "output_type": "stream",
          "name": "stdout",
          "text": [
            "Epoch 5\n",
            "Training accuracy: 0.8713809523809524\n"
          ]
        },
        {
          "output_type": "stream",
          "name": "stderr",
          "text": [
            " 22%|██▏       | 3283/15000 [03:56<45:00,  4.34it/s]"
          ]
        },
        {
          "output_type": "stream",
          "name": "stdout",
          "text": [
            "Training accuracy: 0.8497\n"
          ]
        },
        {
          "output_type": "stream",
          "name": "stderr",
          "text": [
            " 26%|██▌       | 3935/15000 [04:42<10:58, 16.81it/s]"
          ]
        },
        {
          "output_type": "stream",
          "name": "stdout",
          "text": [
            "Epoch 6\n",
            "Training accuracy: 0.8745238095238095\n"
          ]
        },
        {
          "output_type": "stream",
          "name": "stderr",
          "text": [
            " 26%|██▋       | 3939/15000 [04:44<41:33,  4.44it/s]"
          ]
        },
        {
          "output_type": "stream",
          "name": "stdout",
          "text": [
            "Training accuracy: 0.8545\n"
          ]
        },
        {
          "output_type": "stream",
          "name": "stderr",
          "text": [
            " 31%|███       | 4592/15000 [05:36<11:02, 15.71it/s]"
          ]
        },
        {
          "output_type": "stream",
          "name": "stdout",
          "text": [
            "Epoch 7\n",
            "Training accuracy: 0.8791904761904762\n"
          ]
        },
        {
          "output_type": "stream",
          "name": "stderr",
          "text": [
            "\r 31%|███       | 4594/15000 [05:38<54:49,  3.16it/s]"
          ]
        },
        {
          "output_type": "stream",
          "name": "stdout",
          "text": [
            "Training accuracy: 0.8571\n"
          ]
        },
        {
          "output_type": "stream",
          "name": "stderr",
          "text": [
            " 35%|███▍      | 5247/15000 [06:25<11:32, 14.08it/s]"
          ]
        },
        {
          "output_type": "stream",
          "name": "stdout",
          "text": [
            "Epoch 8\n",
            "Training accuracy: 0.8841428571428571\n"
          ]
        },
        {
          "output_type": "stream",
          "name": "stderr",
          "text": [
            "\r 35%|███▍      | 5249/15000 [06:27<48:08,  3.38it/s]"
          ]
        },
        {
          "output_type": "stream",
          "name": "stdout",
          "text": [
            "Training accuracy: 0.859\n"
          ]
        },
        {
          "output_type": "stream",
          "name": "stderr",
          "text": [
            " 39%|███▉      | 5904/15000 [07:22<13:10, 11.51it/s]"
          ]
        },
        {
          "output_type": "stream",
          "name": "stdout",
          "text": [
            "Epoch 9\n",
            "Training accuracy: 0.8868095238095238\n"
          ]
        },
        {
          "output_type": "stream",
          "name": "stderr",
          "text": [
            "\r 39%|███▉      | 5906/15000 [07:24<53:29,  2.83it/s]"
          ]
        },
        {
          "output_type": "stream",
          "name": "stdout",
          "text": [
            "Training accuracy: 0.8641\n"
          ]
        },
        {
          "output_type": "stream",
          "name": "stderr",
          "text": [
            " 44%|████▎     | 6559/15000 [08:13<09:51, 14.27it/s]"
          ]
        },
        {
          "output_type": "stream",
          "name": "stdout",
          "text": [
            "Epoch 10\n",
            "Training accuracy: 0.8887380952380952\n",
            "Training accuracy: 0.8632\n"
          ]
        },
        {
          "output_type": "stream",
          "name": "stderr",
          "text": [
            " 48%|████▊     | 7216/15000 [09:07<08:03, 16.09it/s]"
          ]
        },
        {
          "output_type": "stream",
          "name": "stdout",
          "text": [
            "Epoch 11\n",
            "Training accuracy: 0.8914047619047619\n"
          ]
        },
        {
          "output_type": "stream",
          "name": "stderr",
          "text": [
            "\r 48%|████▊     | 7218/15000 [09:09<34:03,  3.81it/s]"
          ]
        },
        {
          "output_type": "stream",
          "name": "stdout",
          "text": [
            "Training accuracy: 0.866\n"
          ]
        },
        {
          "output_type": "stream",
          "name": "stderr",
          "text": [
            " 52%|█████▏    | 7871/15000 [09:52<07:28, 15.90it/s]"
          ]
        },
        {
          "output_type": "stream",
          "name": "stdout",
          "text": [
            "Epoch 12\n",
            "Training accuracy: 0.8946666666666667\n"
          ]
        },
        {
          "output_type": "stream",
          "name": "stderr",
          "text": [
            " 52%|█████▎    | 7875/15000 [09:54<24:17,  4.89it/s]"
          ]
        },
        {
          "output_type": "stream",
          "name": "stdout",
          "text": [
            "Training accuracy: 0.8688\n"
          ]
        },
        {
          "output_type": "stream",
          "name": "stderr",
          "text": [
            " 57%|█████▋    | 8527/15000 [10:42<06:46, 15.91it/s]"
          ]
        },
        {
          "output_type": "stream",
          "name": "stdout",
          "text": [
            "Epoch 13\n",
            "Training accuracy: 0.8976666666666666\n"
          ]
        },
        {
          "output_type": "stream",
          "name": "stderr",
          "text": [
            " 57%|█████▋    | 8531/15000 [10:44<21:26,  5.03it/s]"
          ]
        },
        {
          "output_type": "stream",
          "name": "stdout",
          "text": [
            "Training accuracy: 0.8708\n"
          ]
        },
        {
          "output_type": "stream",
          "name": "stderr",
          "text": [
            " 61%|██████    | 9183/15000 [11:23<05:55, 16.34it/s]"
          ]
        },
        {
          "output_type": "stream",
          "name": "stdout",
          "text": [
            "Epoch 14\n",
            "Training accuracy: 0.899\n"
          ]
        },
        {
          "output_type": "stream",
          "name": "stderr",
          "text": [
            " 61%|██████    | 9187/15000 [11:25<19:40,  4.92it/s]"
          ]
        },
        {
          "output_type": "stream",
          "name": "stdout",
          "text": [
            "Training accuracy: 0.8701\n"
          ]
        },
        {
          "output_type": "stream",
          "name": "stderr",
          "text": [
            " 66%|██████▌   | 9839/15000 [12:04<05:04, 16.93it/s]"
          ]
        },
        {
          "output_type": "stream",
          "name": "stdout",
          "text": [
            "Epoch 15\n",
            "Training accuracy: 0.902\n"
          ]
        },
        {
          "output_type": "stream",
          "name": "stderr",
          "text": [
            " 66%|██████▌   | 9843/15000 [12:06<17:10,  5.01it/s]"
          ]
        },
        {
          "output_type": "stream",
          "name": "stdout",
          "text": [
            "Training accuracy: 0.8733\n"
          ]
        },
        {
          "output_type": "stream",
          "name": "stderr",
          "text": [
            " 70%|██████▉   | 10495/15000 [12:47<04:30, 16.64it/s]"
          ]
        },
        {
          "output_type": "stream",
          "name": "stdout",
          "text": [
            "Epoch 16\n",
            "Training accuracy: 0.9028571428571428\n"
          ]
        },
        {
          "output_type": "stream",
          "name": "stderr",
          "text": [
            " 70%|██████▉   | 10499/15000 [12:48<14:56,  5.02it/s]"
          ]
        },
        {
          "output_type": "stream",
          "name": "stdout",
          "text": [
            "Training accuracy: 0.874\n"
          ]
        },
        {
          "output_type": "stream",
          "name": "stderr",
          "text": [
            " 74%|███████▍  | 11151/15000 [13:29<03:57, 16.23it/s]"
          ]
        },
        {
          "output_type": "stream",
          "name": "stdout",
          "text": [
            "Epoch 17\n",
            "Training accuracy: 0.9049285714285714\n"
          ]
        },
        {
          "output_type": "stream",
          "name": "stderr",
          "text": [
            " 74%|███████▍  | 11155/15000 [13:31<12:48,  5.01it/s]"
          ]
        },
        {
          "output_type": "stream",
          "name": "stdout",
          "text": [
            "Training accuracy: 0.8734\n"
          ]
        },
        {
          "output_type": "stream",
          "name": "stderr",
          "text": [
            " 79%|███████▊  | 11807/15000 [14:10<03:13, 16.52it/s]"
          ]
        },
        {
          "output_type": "stream",
          "name": "stdout",
          "text": [
            "Epoch 18\n",
            "Training accuracy: 0.907952380952381\n"
          ]
        },
        {
          "output_type": "stream",
          "name": "stderr",
          "text": [
            " 79%|███████▊  | 11811/15000 [14:12<10:32,  5.04it/s]"
          ]
        },
        {
          "output_type": "stream",
          "name": "stdout",
          "text": [
            "Training accuracy: 0.8761\n"
          ]
        },
        {
          "output_type": "stream",
          "name": "stderr",
          "text": [
            " 83%|████████▎ | 12464/15000 [14:53<02:35, 16.29it/s]"
          ]
        },
        {
          "output_type": "stream",
          "name": "stdout",
          "text": [
            "Epoch 19\n",
            "Training accuracy: 0.9098095238095238\n"
          ]
        },
        {
          "output_type": "stream",
          "name": "stderr",
          "text": [
            "\r 83%|████████▎ | 12466/15000 [14:54<10:34,  3.99it/s]"
          ]
        },
        {
          "output_type": "stream",
          "name": "stdout",
          "text": [
            "Training accuracy: 0.8745\n"
          ]
        },
        {
          "output_type": "stream",
          "name": "stderr",
          "text": [
            " 87%|████████▋ | 13120/15000 [15:35<01:58, 15.92it/s]"
          ]
        },
        {
          "output_type": "stream",
          "name": "stdout",
          "text": [
            "Epoch 20\n",
            "Training accuracy: 0.9127142857142857\n"
          ]
        },
        {
          "output_type": "stream",
          "name": "stderr",
          "text": [
            "\r 87%|████████▋ | 13122/15000 [15:37<08:02,  3.90it/s]"
          ]
        },
        {
          "output_type": "stream",
          "name": "stdout",
          "text": [
            "Training accuracy: 0.8783\n"
          ]
        },
        {
          "output_type": "stream",
          "name": "stderr",
          "text": [
            " 92%|█████████▏| 13776/15000 [16:17<01:16, 16.07it/s]"
          ]
        },
        {
          "output_type": "stream",
          "name": "stdout",
          "text": [
            "Epoch 21\n",
            "Training accuracy: 0.9153095238095238\n",
            "Training accuracy: 0.8794\n"
          ]
        },
        {
          "output_type": "stream",
          "name": "stderr",
          "text": [
            " 96%|█████████▌| 14432/15000 [16:59<00:34, 16.67it/s]"
          ]
        },
        {
          "output_type": "stream",
          "name": "stdout",
          "text": [
            "Epoch 22\n",
            "Training accuracy: 0.9162380952380952\n"
          ]
        },
        {
          "output_type": "stream",
          "name": "stderr",
          "text": [
            "\r 96%|█████████▌| 14434/15000 [17:00<02:26,  3.86it/s]"
          ]
        },
        {
          "output_type": "stream",
          "name": "stdout",
          "text": [
            "Training accuracy: 0.878\n"
          ]
        },
        {
          "output_type": "stream",
          "name": "stderr",
          "text": [
            "100%|██████████| 15000/15000 [17:35<00:00, 14.22it/s]\n"
          ]
        }
      ]
    },
    {
      "cell_type": "code",
      "source": [
        "# summarize history for accuracy\n",
        "plt.plot(training_accuracies)\n",
        "plt.plot(testing_accuracies)\n",
        "plt.title('Accuracy of optimal MLP with 1 hidden layers and 128 hidden units as a function of epochs')\n",
        "plt.ylabel('Accuracy')\n",
        "plt.xlabel('Epoch')\n",
        "plt.legend(['Train', 'Test'], loc='best')\n",
        "plt.show()"
      ],
      "metadata": {
        "colab": {
          "base_uri": "https://localhost:8080/",
          "height": 295
        },
        "id": "m885d7-Y4_gd",
        "outputId": "ee2a8b53-7259-45af-a51e-488777512a17"
      },
      "execution_count": null,
      "outputs": [
        {
          "output_type": "display_data",
          "data": {
            "text/plain": [
              "<Figure size 432x288 with 1 Axes>"
            ],
            "image/png": "[encoded data removed]"
          },
          "metadata": {
            "needs_background": "light"
          }
        }
      ]
    },
    {
      "cell_type": "markdown",
      "source": [
        "Again, as can be seen above, both testing and training accuracies increase, showing no sign of overfitting. One thing to mention is that the testing accuracy does not plateau fully, leading us to believe that even more epochs could improve it further, but we abstained due to time constrains and long hours of training."
      ],
      "metadata": {
        "id": "Twe09Wpv66H1"
      }
    },
    {
      "cell_type": "markdown",
      "source": [
        "## 3.8 - Training & testing accuracies as a function of training set size for Convnet and our model"
      ],
      "metadata": {
        "id": "NYCpoSt0h0-F"
      }
    },
    {
      "cell_type": "markdown",
      "source": [
        "We will now train our best MLP and ConvNet by changing the training size going from $10^{k}, k ∈ ${2, 3, 4...} images and plot the test and training accuracies as a function of it. We use powers of 10 as they let us examine an exponentially increasing amount of training data (a large interval size), which will allow us to find where the accuracy saturates at. Notice we are not including k=0 and k=1 as they generate errors in our model when splitting minibatches except if we specify a very low mini_batch size (2 or 4). Thus we will keep a mini_batch size of 32 and have 100 as a minimum number of training examples in this experiment. Since we have a total of 68,000 training examples, k will go up to 5 (100,000) but on the last experiment (when k = 5) we just consider the entire training dataset provided.\n",
        "\n",
        "Furthermore, we will consider the best possible ConvNet model found before, as well as the best possible 1 layer MLP with 128 hidden units we identified in section 3.1.2 instead of the one from section 3.6 with 1024 hidden units which was the best overall to save training time since we are more interested in the trend of the results than the accuracy values themselves, and training the model from 3.6 took several hours."
      ],
      "metadata": {
        "id": "edUmcgVDI4Fs"
      }
    },
    {
      "cell_type": "code",
      "source": [
        "# Since we validated already, we restore the full training set to split it again later\n",
        "X_train_full = np.concatenate((X_train, X_validate))\n",
        "y_train_full = np.concatenate((y_train, y_validate))\n",
        "\n",
        "# To hold the accuracies corresponding to each size\n",
        "training_accuracies_MLP = test_accuracies_MLP = np.empty(0)\n",
        "training_accuracies_ConvNet = test_accuracies_ConvNet = np.empty(0)\n",
        "\n",
        "# Array to hold values for k\n",
        "pow = [2, 3, 4, 5]\n",
        "\n",
        "# Best Parameters for the COnvNet found in 3.5\n",
        "num_filter = 32\n",
        "filter_size = 5 # Provides a measure for how close a patch of input resembles a feature, usually odd size\n",
        "stride = 1 # the number of pixels to skip while traversing the input during convolution\n",
        "pool_size = 2\n",
        "num_classes = 10\n",
        "\n",
        "# Since padding = same should be use when the border’s of the image might be important, we don't use padding\n",
        "# This is because most (if not all) of our images have the main features in the center of the image (most borders are empty/black pixels)\n",
        "padding = 'valid' # valid: no padding, # same: for zeros evenly right/left and up/down. \n",
        "\n",
        "\n",
        "# Loop over each possible training size\n",
        "for k in pow:\n",
        "  \n",
        "  # Split the training data we obtain after the pre-processing using the sizes stored in the array: 20%, 40%, 60% and 80%\n",
        "  if k != 5:\n",
        "    X_train_2 = X_train_full[:10**k, :]\n",
        "    y_train_2 = y_train_full[:10**k]\n",
        "   \n",
        "  else: \n",
        "    X_train_2, y_train_2 = X_train_full, y_train_full\n",
        "\n",
        "  # Reshape the data for ConvNet\n",
        "  train_labels = to_categorical(y_train_2)\n",
        "  test_labels = to_categorical(y_test)\n",
        "\n",
        "\n",
        "  # Create the MLP model with the optimal hyperparameters found before\n",
        "  mlp1 = MLP(D = X_train_2.shape[-1], \n",
        "            num_outputs = 10, \n",
        "            num_hidden_layers = 1, \n",
        "            num_hidden_units = [128], \n",
        "            hidden_activation = relu, \n",
        "            hidden_activation_gradient = relu_grad)\n",
        "  # Fit with optimal hyperparameters found before\n",
        "  _, _ = mlp1.fit(X_train_2, y_train_2, [], [],\n",
        "                  learning_rate=0.0001, max_iter=15000,\n",
        "                  minibatch_size=64, lambda_= 1e-8,\n",
        "                  compute_ce_train=False, compute_ce_valid=False)\n",
        " \n",
        "  # Create model with it for num_filter = 32, filter_size = 5, stride = 1 are: \n",
        "  model_conv = keras.Sequential([\n",
        "        Conv2D(num_filter, filter_size, input_shape=(28, 28, 1), strides = stride, activation='relu'),\n",
        "        MaxPooling2D(pool_size=pool_size),\n",
        "        Conv2D(num_filter, (filter_size, filter_size), activation='relu'),\n",
        "        MaxPooling2D(pool_size=(pool_size, pool_size)),\n",
        "        Flatten(),\n",
        "        Dropout(0.25), # randomly sets input units to 0 with a frequency of rate at each step during training time, to avoid overfitting\n",
        "        Dense(num_classes, activation='softmax') # Transpose matrix dimenstion: 1 X 128 to 1 X 10\n",
        "  ])\n",
        "  # Compile the model\n",
        "  model_conv.compile(\n",
        "    'adam',\n",
        "    loss='categorical_crossentropy',\n",
        "    metrics=['accuracy']\n",
        "  )\n",
        "\n",
        "  model_conv.fit(\n",
        "          X_train_2.reshape(X_train_2.shape[0], 28, 28),\n",
        "          train_labels,\n",
        "          epochs=3,\n",
        "          validation_data=(X_test.reshape(10_000, 28, 28), test_labels)\n",
        "  )\n",
        "\n",
        "\n",
        "  # Evaluate the accuracy on training and testing datasets and append the results to the corresponding arrays\n",
        "  training_accuracies_MLP = np.append(training_accuracies_MLP, evaluate_acc(y_train_2, mlp1.predict(X_train_2)))\n",
        "  test_accuracies_MLP = np.append(test_accuracies_MLP, evaluate_acc(y_test, mlp1.predict(X_test)))\n",
        "  \n",
        "  training_accuracies_ConvNet = np.append(training_accuracies_ConvNet, model_conv.evaluate(X_train_2.reshape(X_train_2.shape[0], 28, 28), train_labels, batch_size=32)[1])\n",
        "  test_accuracies_ConvNet = np.append(test_accuracies_ConvNet,  model_conv.evaluate(X_test.reshape(10000, 28, 28), test_labels, batch_size=32)[1])"
      ],
      "metadata": {
        "id": "Z2B9-gM7Jeap",
        "colab": {
          "base_uri": "https://localhost:8080/"
        },
        "outputId": "80f9d496-7694-41f0-8927-b5d95ce7d95b"
      },
      "execution_count": null,
      "outputs": [
        {
          "metadata": {
            "tags": null
          },
          "name": "stderr",
          "output_type": "stream",
          "text": [
            "100%|██████████| 15000/15000 [15:18<00:00, 16.34it/s]\n"
          ]
        },
        {
          "metadata": {
            "tags": null
          },
          "name": "stdout",
          "output_type": "stream",
          "text": [
            "Epoch 1/3\n",
            "4/4 [==============================] - 4s 1s/step - loss: 2.2672 - accuracy: 0.1100 - val_loss: 2.1371 - val_accuracy: 0.2477\n",
            "Epoch 2/3\n",
            "4/4 [==============================] - 3s 969ms/step - loss: 2.0319 - accuracy: 0.3000 - val_loss: 2.0074 - val_accuracy: 0.3539\n",
            "Epoch 3/3\n",
            "4/4 [==============================] - 3s 967ms/step - loss: 1.7965 - accuracy: 0.4600 - val_loss: 1.8815 - val_accuracy: 0.3803\n",
            "4/4 [==============================] - 0s 10ms/step - loss: 1.6525 - accuracy: 0.5000\n",
            "313/313 [==============================] - 3s 10ms/step - loss: 1.8815 - accuracy: 0.3803\n"
          ]
        },
        {
          "metadata": {
            "tags": null
          },
          "name": "stderr",
          "output_type": "stream",
          "text": [
            "100%|██████████| 15000/15000 [14:39<00:00, 17.06it/s]\n"
          ]
        },
        {
          "metadata": {
            "tags": null
          },
          "name": "stdout",
          "output_type": "stream",
          "text": [
            "Epoch 1/3\n",
            "32/32 [==============================] - 5s 139ms/step - loss: 1.7193 - accuracy: 0.4400 - val_loss: 1.0557 - val_accuracy: 0.6645\n",
            "Epoch 2/3\n",
            "32/32 [==============================] - 5s 158ms/step - loss: 1.0003 - accuracy: 0.6580 - val_loss: 0.8597 - val_accuracy: 0.6896\n",
            "Epoch 3/3\n",
            "32/32 [==============================] - 4s 134ms/step - loss: 0.8152 - accuracy: 0.7190 - val_loss: 0.7846 - val_accuracy: 0.7195\n",
            "32/32 [==============================] - 0s 10ms/step - loss: 0.6750 - accuracy: 0.7740\n",
            "313/313 [==============================] - 3s 10ms/step - loss: 0.7846 - accuracy: 0.7195\n"
          ]
        },
        {
          "metadata": {
            "tags": null
          },
          "name": "stderr",
          "output_type": "stream",
          "text": [
            "100%|██████████| 15000/15000 [15:12<00:00, 16.44it/s]\n"
          ]
        },
        {
          "metadata": {
            "tags": null
          },
          "name": "stdout",
          "output_type": "stream",
          "text": [
            "Epoch 1/3\n",
            "313/313 [==============================] - 13s 39ms/step - loss: 0.8162 - accuracy: 0.7069 - val_loss: 0.5375 - val_accuracy: 0.8105\n",
            "Epoch 2/3\n",
            "313/313 [==============================] - 12s 38ms/step - loss: 0.5195 - accuracy: 0.8108 - val_loss: 0.4884 - val_accuracy: 0.8261\n",
            "Epoch 3/3\n",
            "313/313 [==============================] - 12s 38ms/step - loss: 0.4526 - accuracy: 0.8342 - val_loss: 0.4366 - val_accuracy: 0.8440\n",
            "313/313 [==============================] - 3s 10ms/step - loss: 0.3698 - accuracy: 0.8702\n",
            "313/313 [==============================] - 3s 10ms/step - loss: 0.4366 - accuracy: 0.8440\n"
          ]
        },
        {
          "metadata": {
            "tags": null
          },
          "name": "stderr",
          "output_type": "stream",
          "text": [
            "100%|██████████| 15000/15000 [14:13<00:00, 17.57it/s]\n"
          ]
        },
        {
          "output_type": "stream",
          "name": "stdout",
          "text": [
            "Epoch 1/3\n",
            "1875/1875 [==============================] - 56s 29ms/step - loss: 0.5123 - accuracy: 0.8181 - val_loss: 0.3772 - val_accuracy: 0.8676\n",
            "Epoch 2/3\n",
            "1875/1875 [==============================] - 59s 31ms/step - loss: 0.3648 - accuracy: 0.8686 - val_loss: 0.3376 - val_accuracy: 0.8805\n",
            "Epoch 3/3\n",
            "1875/1875 [==============================] - 59s 32ms/step - loss: 0.3284 - accuracy: 0.8829 - val_loss: 0.3237 - val_accuracy: 0.8835\n",
            "1875/1875 [==============================] - 20s 10ms/step - loss: 0.2792 - accuracy: 0.8996\n",
            "313/313 [==============================] - 3s 10ms/step - loss: 0.3237 - accuracy: 0.8835\n"
          ]
        }
      ]
    },
    {
      "cell_type": "markdown",
      "source": [
        "We will now proceed to plot the results as a line plot showing the training/testing accuracy as a function of the training size."
      ],
      "metadata": {
        "id": "otgBwxr2Jo9I"
      }
    },
    {
      "cell_type": "code",
      "source": [
        "# Plot the training accuracies depending on the training data size\n",
        "plt.plot([100, 1000, 10_000, 42000], training_accuracies_MLP, linewidth=2.0, label=\"Training accuracy for our best MLP\")\n",
        "plt.plot([100, 1000, 10_000, 42000], training_accuracies_ConvNet, linewidth=2.0, label=\"Training accuracy for the best ConvNet\")\n",
        "\n",
        "# Plot the testing accuracies depending on the training data size\n",
        "plt.plot([100, 1000, 10_000, 42000], test_accuracies_MLP, linewidth=2.0, label=\"Testing accuracy for our best MLP\")\n",
        "plt.plot([100, 1000, 10_000, 42000], test_accuracies_ConvNet, linewidth=2.0, label=\"Testing accuracy for the best ConvNet\")\n",
        "\n",
        "# Label the graph\n",
        "plt.xlabel('Training size')\n",
        "plt.ylabel('Accuracy')\n",
        "plt.legend(loc=\"best\")\n",
        "plt.title(\"Accuracy depending on the training size\")"
      ],
      "metadata": {
        "colab": {
          "base_uri": "https://localhost:8080/",
          "height": 313
        },
        "id": "bpG2p5ijoLgM",
        "outputId": "4232b27e-bd02-4f36-a45d-3b487d0e814c"
      },
      "execution_count": null,
      "outputs": [
        {
          "output_type": "execute_result",
          "data": {
            "text/plain": [
              "Text(0.5, 1.0, 'Accuracy depending on the training size')"
            ]
          },
          "metadata": {},
          "execution_count": 33
        },
        {
          "output_type": "display_data",
          "data": {
            "text/plain": [
              "<Figure size 432x288 with 1 Axes>"
            ],
            "image/png": "[encoded data removed]"
          },
          "metadata": {
            "needs_background": "light"
          }
        }
      ]
    },
    {
      "cell_type": "markdown",
      "source": [
        "As can be seen above, again, as the size of the training set increases our MLP's training accuracy decreases while testing accuracy increases, which makes sense because as we use more datapoints, we overfit the training data less and less, so our model generalizes better to testing data.\n",
        "\n",
        "Conversely, for the CNN model, both training and testing accuracies increase as a function of training size. The increase in testing accuracy is explained as for the MLP, since the model generalizes better with more data. However, the difference in trend for the training accuracy can be explained by the fact that we are using the same batch size for all training set sizes. Consequently, when we have less data points, an epoch will have less iterations, and so even though we are training the same number of epochs for every training set size, the number of iterations is not the same. Consequently, for a training set size of 10000 for example, using the default batch size of 32 set by the Keras library, we get $floor(\\frac{10000}{32}) = 312$ iterations compared to $floor(\\frac{50000}{32}) = 1560$ iterations using a 50000 point training size. So the different trend is fully explained by the implementation of the Keras library."
      ],
      "metadata": {
        "id": "GCXQN05E6bTE"
      }
    },
    {
      "cell_type": "markdown",
      "source": [
        "## 3.9 Classification report comparison"
      ],
      "metadata": {
        "id": "0FZHhTZcN5Rb"
      }
    },
    {
      "cell_type": "markdown",
      "source": [
        "In this section, we will compare the classification report of our best MLP model with the one of the ConvNet we implemented. This classification report includes thefollwoing metrics: accuracy, precision, recall and f1-score for each class."
      ],
      "metadata": {
        "id": "SdLrMrIwN9Qo"
      }
    },
    {
      "cell_type": "code",
      "execution_count": null,
      "metadata": {
        "colab": {
          "base_uri": "https://localhost:8080/",
          "height": 622
        },
        "id": "RaNVk0DEyhxq",
        "outputId": "3602e5fe-13d9-4104-c544-6a44e4a640ca"
      },
      "outputs": [
        {
          "output_type": "stream",
          "name": "stdout",
          "text": [
            "313/313 [==============================] - 5s 16ms/step\n"
          ]
        },
        {
          "output_type": "display_data",
          "data": {
            "text/plain": [
              "<Figure size 720x720 with 2 Axes>"
            ],
            "image/png": "[encoded data removed]"
          },
          "metadata": {
            "needs_background": "light"
          }
        }
      ],
      "source": [
        "# Create arrays to store results of accuracy, precision, recall and f1-score\n",
        "# Index 0 corresponds to first label stored in the labels list and so on...\n",
        "# We crate the array twice, once to hold values for MLP results, the other for CNN results\n",
        "accuracies_MLP = np.zeros([10])\n",
        "precisions_MLP = np.zeros([10])\n",
        "recalls_MLP = np.zeros([10])\n",
        "f1s_MLP = np.zeros([10])\n",
        "\n",
        "accuracies_CNN = np.zeros([10])\n",
        "precisions_CNN = np.zeros([10])\n",
        "recalls_CNN = np.zeros([10])\n",
        "f1s_CNN = np.zeros([10])\n",
        "\n",
        "y_hat_MLP = np.argmax(best_possible_mlp.predict(X_test), axis=1)\n",
        "y_hat_CNN = np.argmax(model_conv.predict(X_test.reshape(X_test.shape[0], 28, 28)), axis=1)\n",
        "\n",
        "# Iterate trhough all possible class labels\n",
        "for l,_ in enumerate(labels):\n",
        "  # TO evealuate the precision, recall and accuracies for each class label,\n",
        "  # We first make sure the predictions and real values are not mutliclass   \n",
        "  # 0 if the prediction/real value is not the label, else 1\n",
        "  y_test_2 = np.where(y_test == l, 1, 0)\n",
        "  y_hat_MLP_2 = np.where(y_hat_MLP == l, 1, 0)\n",
        "  y_hat_CNN_2 = np.where(y_hat_CNN == l, 1, 0)\n",
        "\n",
        "  # accuracy: (tp + tn) / (p + n)\n",
        "  accuracies_MLP[l] = accuracy_score(y_test_2, y_hat_MLP_2)\n",
        "  # precision tp / (tp + fp)\n",
        "  precisions_MLP[l] = precision_score(y_test_2, y_hat_MLP_2)\n",
        "  # recall: tp / (tp + fn)\n",
        "  recalls_MLP[l] = recall_score(y_test_2, y_hat_MLP_2)\n",
        "  # f1: 2 tp / (2 tp + fp + fn)\n",
        "  f1s_MLP[l] = f1_score(y_test_2, y_hat_MLP_2)\n",
        "\n",
        "  # accuracy: (tp + tn) / (p + n)\n",
        "  accuracies_CNN[l] = accuracy_score(y_test_2, y_hat_CNN_2)\n",
        "  # precision tp / (tp + fp)\n",
        "  precisions_CNN[l] = precision_score(y_test_2, y_hat_CNN_2)\n",
        "  # recall: tp / (tp + fn)\n",
        "  recalls_CNN[l] = recall_score(y_test_2, y_hat_CNN_2)\n",
        "  # f1: 2 tp / (2 tp + fp + fn)\n",
        "  f1s_CNN[l] = f1_score(y_test_2, y_hat_CNN_2)\n",
        "\n",
        "result_MLP = np.empty([4, 11], dtype = 'U25')\n",
        "result_CNN = np.empty([4, 11], dtype = 'U25')\n",
        "\n",
        "result_MLP[0][0] = \"Accuracy\"\n",
        "result_MLP[1][0] = \"Precision\"\n",
        "result_MLP[2][0] = \"Recall\"\n",
        "result_MLP[3][0] = \"F1 Score\"\n",
        "\n",
        "result_CNN[0][0] = \"Accuracy\"\n",
        "result_CNN[1][0] = \"Precision\"\n",
        "result_CNN[2][0] = \"Recall\"\n",
        "result_CNN[3][0] = \"F1 Score\"\n",
        "\n",
        "\n",
        "\n",
        "result_MLP[0][1:] = [\"%.2f\" % x for x in accuracies_MLP] \n",
        "result_MLP[1][1:] = [\"%.2f\" % x for x in precisions_MLP] \n",
        "result_MLP[2][1:] = [\"%.2f\" % x for x in recalls_MLP] \n",
        "result_MLP[3][1:] = [\"%.2f\" % x for x in f1s_MLP] \n",
        "\n",
        "result_CNN[0][1:] = [\"%.2f\" % x for x in accuracies_CNN] \n",
        "result_CNN[1][1:] = [\"%.2f\" % x for x in precisions_CNN] \n",
        "result_CNN[2][1:] = [\"%.2f\" % x for x in recalls_CNN] \n",
        "result_CNN[3][1:] = [\"%.2f\" % x for x in f1s_CNN] \n",
        "\n",
        "fig = plt.figure(figsize=(10, 10))\n",
        "\n",
        "ax = plt.subplot(2, 1, 1)\n",
        "# hide axes\n",
        "fig.patch.set_visible(False)\n",
        "ax.axis('off')\n",
        "ax.axis('tight')\n",
        "df = pd.DataFrame(result_MLP, columns=np.append([''], labels))\n",
        "tb = ax.table(cellText=df.values, colLabels=df.columns, cellLoc='center', \n",
        "              loc='center', fontsize=17, colColours = plt.cm.BuPu(np.full(11, 0.1)))\n",
        "tb.auto_set_font_size(False)\n",
        "tb.set_fontsize(17)\n",
        "tb.scale(2, 2)\n",
        "fig.tight_layout()\n",
        "plt.title(\"Classification report for MLP\")\n",
        "\n",
        "\n",
        "\n",
        "ax2 = plt.subplot(2, 1, 2)\n",
        "\n",
        "# hide axes\n",
        "ax2.axis('off')\n",
        "ax2.axis('tight')\n",
        "df = pd.DataFrame(result_CNN, columns=np.append([''], labels))\n",
        "tb = ax2.table(cellText=df.values, colLabels=df.columns, cellLoc='center', \n",
        "              loc='center', fontsize=17, colColours = plt.cm.BuPu(np.full(11, 0.1)))\n",
        "tb.auto_set_font_size(False)\n",
        "tb.set_fontsize(17)\n",
        "tb.scale(2.1, 2.1)\n",
        "\n",
        "fig.tight_layout()\n",
        "plt.title(\"Classification report for CNN\")\n",
        "\n",
        "\n",
        "plt.show()"
      ]
    },
    {
      "cell_type": "markdown",
      "source": [
        "Based on the obtained classification report, both the methods had better precision, recall and f1-scores when identifying items such as trouser, sandal, sneaker, bag, and ankle boot but had slightly low scores for items such as t-shirt/top, pullover, dress, coat, and shirt. This result is intuitive based on the visual similarity of the t-shirt/top, pullover, dress, coat, and shirt classes [3]. \n",
        "\n",
        "Overall, CNN performed slightly better than MLP as it has an higher precision and higher recall for most classes. Note that the MLP still has very close metrics to the ones of the CNN."
      ],
      "metadata": {
        "id": "Lqo4Hs02PInd"
      }
    },
    {
      "cell_type": "markdown",
      "metadata": {
        "id": "MzNdi0lwUVMe"
      },
      "source": [
        "# References"
      ]
    },
    {
      "cell_type": "markdown",
      "metadata": {
        "id": "tw84aIryUY5c"
      },
      "source": [
        "[1] https://www.kaggle.com/code/just4jcgeorge/2-fashionmnist-colab\n",
        "\n",
        "[2] https://aew61.github.io/blog/artificial_neural_networks/1_background/1.b_activation_functions_and_derivatives.html\n",
        "\n",
        "[3] https://www.a-damle.com/project_files/mlp_vs_cnn/mlp_vs_cnn.pdf"
      ]
    }
  ],
  "metadata": {
    "colab": {
      "provenance": [],
      "collapsed_sections": [
        "RHueveMKmd7h",
        "P4R5o0lqnrbz"
      ]
    },
    "gpuClass": "standard",
    "kernelspec": {
      "display_name": "Python 3",
      "name": "python3"
    },
    "language_info": {
      "name": "python"
    }
  },
  "nbformat": 4,
  "nbformat_minor": 0
}